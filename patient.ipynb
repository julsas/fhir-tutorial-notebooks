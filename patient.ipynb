{
 "cells": [
  {
   "cell_type": "markdown",
   "metadata": {},
   "source": [
    "# Erstellen einer FHIR Patient Ressource mit dem Python fhirclient\n",
    "Um den Python fhirclient zu installieren kann man entweder die aktuellste Version aus dem [GitHub Repository](https://github.com/smart-on-fhir/client-py) nehmen oder die zuletzt auf [PyPi](https://pypi.org/project/fhirclient/) veröffentlichte Version. Da diese jedoch noch STU-3 ist, nutzen wir für die folgenden Beispiele die GitHub Version (R4)."
   ]
  },
  {
   "cell_type": "code",
   "execution_count": null,
   "metadata": {},
   "outputs": [],
   "source": [
    "# Zelle wird nur für das Ausführen in Umgebungen wie Binder benötigt\n",
    "!pip install git+https://github.com/smart-on-fhir/client-py.git"
   ]
  },
  {
   "cell_type": "markdown",
   "metadata": {},
   "source": [
    "## IFrame wird hier nur zu Darstellungszwecken importiert und wird nicht für die späteren Aufgaben benötigt."
   ]
  },
  {
   "cell_type": "code",
   "execution_count": 1,
   "metadata": {},
   "outputs": [],
   "source": [
    "from IPython.display import IFrame"
   ]
  },
  {
   "cell_type": "code",
   "execution_count": 2,
   "metadata": {},
   "outputs": [
    {
     "data": {
      "text/html": [
       "\n",
       "        <iframe\n",
       "            width=\"1200\"\n",
       "            height=\"330\"\n",
       "            src=\"https://hl7.org/fhir/patient.html#resource\"\n",
       "            frameborder=\"0\"\n",
       "            allowfullscreen\n",
       "            \n",
       "        ></iframe>\n",
       "        "
      ],
      "text/plain": [
       "<IPython.lib.display.IFrame at 0x10fbf1c00>"
      ]
     },
     "execution_count": 2,
     "metadata": {},
     "output_type": "execute_result"
    }
   ],
   "source": [
    "# Patient Ressource in der FHIR Spezifikation.\n",
    "IFrame('https://hl7.org/fhir/patient.html#resource', width=1200, height=330)"
   ]
  },
  {
   "cell_type": "code",
   "execution_count": 4,
   "metadata": {},
   "outputs": [],
   "source": [
    "from fhirclient.models import patient"
   ]
  },
  {
   "cell_type": "code",
   "execution_count": 5,
   "metadata": {},
   "outputs": [],
   "source": [
    "# Instanziieren eines Patienten\n",
    "my_patient = patient.Patient()"
   ]
  },
  {
   "cell_type": "code",
   "execution_count": 6,
   "metadata": {},
   "outputs": [
    {
     "name": "stdout",
     "output_type": "stream",
     "text": [
      "Help on Patient in module fhirclient.models.patient object:\n",
      "\n",
      "class Patient(fhirclient.models.domainresource.DomainResource)\n",
      " |  Patient(jsondict=None, strict=True)\n",
      " |  \n",
      " |  Information about an individual or animal receiving health care services.\n",
      " |  \n",
      " |  Demographics and other administrative information about an individual or\n",
      " |  animal receiving care or other health-related services.\n",
      " |  \n",
      " |  Method resolution order:\n",
      " |      Patient\n",
      " |      fhirclient.models.domainresource.DomainResource\n",
      " |      fhirclient.models.resource.Resource\n",
      " |      fhirclient.models.fhirabstractresource.FHIRAbstractResource\n",
      " |      fhirclient.models.fhirabstractbase.FHIRAbstractBase\n",
      " |      builtins.object\n",
      " |  \n",
      " |  Methods defined here:\n",
      " |  \n",
      " |  __init__(self, jsondict=None, strict=True)\n",
      " |      Initialize all valid properties.\n",
      " |      \n",
      " |      :raises: FHIRValidationError on validation errors, unless strict is False\n",
      " |      :param dict jsondict: A JSON dictionary to use for initialization\n",
      " |      :param bool strict: If True (the default), invalid variables will raise a TypeError\n",
      " |  \n",
      " |  elementProperties(self)\n",
      " |      Returns a list of tuples, one tuple for each property that should\n",
      " |      be serialized, as: (\"name\", \"json_name\", type, is_list, \"of_many\", not_optional)\n",
      " |  \n",
      " |  ----------------------------------------------------------------------\n",
      " |  Data and other attributes defined here:\n",
      " |  \n",
      " |  resource_type = 'Patient'\n",
      " |  \n",
      " |  ----------------------------------------------------------------------\n",
      " |  Methods inherited from fhirclient.models.fhirabstractresource.FHIRAbstractResource:\n",
      " |  \n",
      " |  as_json(self)\n",
      " |      Serializes to JSON by inspecting `elementProperties()` and creating\n",
      " |      a JSON dictionary of all registered properties. Checks:\n",
      " |      \n",
      " |      - whether required properties are not None (and lists not empty)\n",
      " |      - whether not-None properties are of the correct type\n",
      " |      \n",
      " |      :raises: FHIRValidationError if properties have the wrong type or if\n",
      " |          required properties are empty\n",
      " |      :returns: A validated dict object that can be JSON serialized\n",
      " |  \n",
      " |  create(self, server)\n",
      " |      Attempt to create the receiver on the given server, using a POST\n",
      " |      command.\n",
      " |      \n",
      " |      :param FHIRServer server: The server to create the receiver on\n",
      " |      :returns: None or the response JSON on success\n",
      " |  \n",
      " |  delete(self, server=None)\n",
      " |      Delete the receiver from the given server with a DELETE command.\n",
      " |      \n",
      " |      :param FHIRServer server: The server to update the receiver on;\n",
      " |          optional, will use the instance's `server` if needed.\n",
      " |      :returns: None or the response JSON on success\n",
      " |  \n",
      " |  relativeBase(self)\n",
      " |  \n",
      " |  relativePath(self)\n",
      " |  \n",
      " |  search(self, struct=None)\n",
      " |      Search can be started via a dictionary containing a search\n",
      " |      construct.\n",
      " |      \n",
      " |      Calling this method with a search struct will return a `FHIRSearch`\n",
      " |      object representing the search struct, with \"$type\" and \"id\" added.\n",
      " |      \n",
      " |      :param dict struct: An optional search structure\n",
      " |      :returns: A FHIRSearch instance\n",
      " |  \n",
      " |  update(self, server=None)\n",
      " |      Update the receiver's representation on the given server, issuing\n",
      " |      a PUT command.\n",
      " |      \n",
      " |      :param FHIRServer server: The server to update the receiver on;\n",
      " |          optional, will use the instance's `server` if needed.\n",
      " |      :returns: None or the response JSON on success\n",
      " |  \n",
      " |  ----------------------------------------------------------------------\n",
      " |  Class methods inherited from fhirclient.models.fhirabstractresource.FHIRAbstractResource:\n",
      " |  \n",
      " |  read(rem_id, server) from builtins.type\n",
      " |      Read the resource with the given id from the given server. The\n",
      " |      passed-in server instance must support a `request_json()` method call,\n",
      " |      taking a relative path as first (and only mandatory) argument.\n",
      " |      \n",
      " |      :param str rem_id: The id of the resource on the remote server\n",
      " |      :param FHIRServer server: An instance of a FHIR server or compatible class\n",
      " |      :returns: An instance of the receiving class\n",
      " |  \n",
      " |  read_from(path, server) from builtins.type\n",
      " |      Requests data from the given REST path on the server and creates\n",
      " |      an instance of the receiving class.\n",
      " |      \n",
      " |      :param str path: The REST path to read from\n",
      " |      :param FHIRServer server: An instance of a FHIR server or compatible class\n",
      " |      :returns: An instance of the receiving class\n",
      " |  \n",
      " |  where(struct) from builtins.type\n",
      " |      Search can be started via a dictionary containing a search\n",
      " |      construct.\n",
      " |      \n",
      " |      Calling this method with a search struct will return a `FHIRSearch`\n",
      " |      object representing the search struct\n",
      " |      \n",
      " |      :param dict struct: A search structure\n",
      " |      :returns: A FHIRSearch instance\n",
      " |  \n",
      " |  ----------------------------------------------------------------------\n",
      " |  Data descriptors inherited from fhirclient.models.fhirabstractresource.FHIRAbstractResource:\n",
      " |  \n",
      " |  origin_server\n",
      " |      Walks the owner hierarchy until it finds an owner with a server.\n",
      " |  \n",
      " |  ----------------------------------------------------------------------\n",
      " |  Methods inherited from fhirclient.models.fhirabstractbase.FHIRAbstractBase:\n",
      " |  \n",
      " |  didResolveReference(self, refid, resolved)\n",
      " |      Called by `FHIRResource` when it resolves a reference. Stores the\n",
      " |      resolved reference into the `_resolved` dictionary.\n",
      " |      \n",
      " |      :param refid: The id of the resource that was resolved\n",
      " |      :param refid: The resolved resource, ready to be cached\n",
      " |  \n",
      " |  owningBundle(self)\n",
      " |      Walks the owner hierarchy and returns the next parent that is a\n",
      " |      `Bundle` instance.\n",
      " |  \n",
      " |  owningResource(self)\n",
      " |      Walks the owner hierarchy and returns the next parent that is a\n",
      " |      `DomainResource` instance.\n",
      " |  \n",
      " |  resolvedReference(self, refid)\n",
      " |      Returns the resolved reference with the given id, if it has been\n",
      " |      resolved already. If it hasn't, forwards the call to its owner if it\n",
      " |      has one.\n",
      " |      \n",
      " |      You should probably use `resolve()` on the `FHIRReference` itself.\n",
      " |      \n",
      " |      :param refid: The id of the resource to resolve\n",
      " |      :returns: An instance of `Resource`, if it was found\n",
      " |  \n",
      " |  update_with_json(self, jsondict)\n",
      " |      Update the receiver with data in a JSON dictionary.\n",
      " |      \n",
      " |      :raises: FHIRValidationError on validation errors\n",
      " |      :param dict jsondict: The JSON dictionary to use to update the receiver\n",
      " |      :returns: None on success, a list of errors if there were errors\n",
      " |  \n",
      " |  ----------------------------------------------------------------------\n",
      " |  Class methods inherited from fhirclient.models.fhirabstractbase.FHIRAbstractBase:\n",
      " |  \n",
      " |  with_json(jsonobj) from builtins.type\n",
      " |      Initialize an element from a JSON dictionary or array.\n",
      " |      \n",
      " |      If the JSON dictionary has a \"resourceType\" entry and the specified\n",
      " |      resource type is not the receiving classes type, uses\n",
      " |      `FHIRElementFactory` to return a correct class instance.\n",
      " |      \n",
      " |      :raises: TypeError on anything but dict or list of dicts\n",
      " |      :raises: FHIRValidationError if instantiation fails\n",
      " |      :param jsonobj: A dict or list of dicts to instantiate from\n",
      " |      :returns: An instance or a list of instances created from JSON data\n",
      " |  \n",
      " |  with_json_and_owner(jsonobj, owner) from builtins.type\n",
      " |      Instantiates by forwarding to `with_json()`, then remembers the\n",
      " |      \"owner\" of the instantiated elements. The \"owner\" is the resource\n",
      " |      containing the receiver and is used to resolve contained resources.\n",
      " |      \n",
      " |      :raises: TypeError on anything but dict or list of dicts\n",
      " |      :raises: FHIRValidationError if instantiation fails\n",
      " |      :param dict jsonobj: Decoded JSON dictionary (or list thereof)\n",
      " |      :param FHIRElement owner: The owning parent\n",
      " |      :returns: An instance or a list of instances created from JSON data\n",
      " |  \n",
      " |  ----------------------------------------------------------------------\n",
      " |  Data descriptors inherited from fhirclient.models.fhirabstractbase.FHIRAbstractBase:\n",
      " |  \n",
      " |  __dict__\n",
      " |      dictionary for instance variables (if defined)\n",
      " |  \n",
      " |  __weakref__\n",
      " |      list of weak references to the object (if defined)\n",
      "\n"
     ]
    }
   ],
   "source": [
    "# help() Funktion, um mehr Informationen zu erhalten\n",
    "help(my_patient)"
   ]
  },
  {
   "cell_type": "markdown",
   "metadata": {},
   "source": [
    "## Mit der Patient Ressource vertraut machen\n",
    "Um erstmal einen Überblick davon zu erhalten wie die Patienten Ressource aufgebaut ist, bzw. welche Attribute diese enthält kann die Funktion **elementProperties()** aufgerufen werden, diese gibt dann alle Attribute der fhirclient Klasse **Patient()** mit ihren jeweiligen Eigenschaften zurück."
   ]
  },
  {
   "cell_type": "code",
   "execution_count": 7,
   "metadata": {},
   "outputs": [
    {
     "name": "stdout",
     "output_type": "stream",
     "text": [
      "('id', 'id', <class 'str'>, False, None, False)\n",
      "('implicitRules', 'implicitRules', <class 'str'>, False, None, False)\n",
      "('language', 'language', <class 'str'>, False, None, False)\n",
      "('meta', 'meta', <class 'fhirclient.models.meta.Meta'>, False, None, False)\n",
      "('contained', 'contained', <class 'fhirclient.models.resource.Resource'>, True, None, False)\n",
      "('extension', 'extension', <class 'fhirclient.models.extension.Extension'>, True, None, False)\n",
      "('modifierExtension', 'modifierExtension', <class 'fhirclient.models.extension.Extension'>, True, None, False)\n",
      "('text', 'text', <class 'fhirclient.models.narrative.Narrative'>, False, None, False)\n",
      "('active', 'active', <class 'bool'>, False, None, False)\n",
      "('address', 'address', <class 'fhirclient.models.address.Address'>, True, None, False)\n",
      "('birthDate', 'birthDate', <class 'fhirclient.models.fhirdate.FHIRDate'>, False, None, False)\n",
      "('communication', 'communication', <class 'fhirclient.models.patient.PatientCommunication'>, True, None, False)\n",
      "('contact', 'contact', <class 'fhirclient.models.patient.PatientContact'>, True, None, False)\n",
      "('deceasedBoolean', 'deceasedBoolean', <class 'bool'>, False, 'deceased', False)\n",
      "('deceasedDateTime', 'deceasedDateTime', <class 'fhirclient.models.fhirdate.FHIRDate'>, False, 'deceased', False)\n",
      "('gender', 'gender', <class 'str'>, False, None, False)\n",
      "('generalPractitioner', 'generalPractitioner', <class 'fhirclient.models.fhirreference.FHIRReference'>, True, None, False)\n",
      "('identifier', 'identifier', <class 'fhirclient.models.identifier.Identifier'>, True, None, False)\n",
      "('link', 'link', <class 'fhirclient.models.patient.PatientLink'>, True, None, False)\n",
      "('managingOrganization', 'managingOrganization', <class 'fhirclient.models.fhirreference.FHIRReference'>, False, None, False)\n",
      "('maritalStatus', 'maritalStatus', <class 'fhirclient.models.codeableconcept.CodeableConcept'>, False, None, False)\n",
      "('multipleBirthBoolean', 'multipleBirthBoolean', <class 'bool'>, False, 'multipleBirth', False)\n",
      "('multipleBirthInteger', 'multipleBirthInteger', <class 'int'>, False, 'multipleBirth', False)\n",
      "('name', 'name', <class 'fhirclient.models.humanname.HumanName'>, True, None, False)\n",
      "('photo', 'photo', <class 'fhirclient.models.attachment.Attachment'>, True, None, False)\n",
      "('telecom', 'telecom', <class 'fhirclient.models.contactpoint.ContactPoint'>, True, None, False)\n"
     ]
    }
   ],
   "source": [
    "for property in my_patient.elementProperties():\n",
    "    print(property)"
   ]
  },
  {
   "cell_type": "markdown",
   "metadata": {},
   "source": [
    "## Name des Patienten / der Patientin"
   ]
  },
  {
   "cell_type": "code",
   "execution_count": 8,
   "metadata": {},
   "outputs": [
    {
     "data": {
      "text/html": [
       "\n",
       "        <iframe\n",
       "            width=\"1200\"\n",
       "            height=\"330\"\n",
       "            src=\"https://hl7.org/fhir/datatypes.html#HumanName\"\n",
       "            frameborder=\"0\"\n",
       "            allowfullscreen\n",
       "            \n",
       "        ></iframe>\n",
       "        "
      ],
      "text/plain": [
       "<IPython.lib.display.IFrame at 0x10fd506a0>"
      ]
     },
     "execution_count": 8,
     "metadata": {},
     "output_type": "execute_result"
    }
   ],
   "source": [
    "IFrame('https://hl7.org/fhir/datatypes.html#HumanName', width=1200, height=330)"
   ]
  },
  {
   "cell_type": "code",
   "execution_count": 9,
   "metadata": {},
   "outputs": [],
   "source": [
    "from fhirclient.models import humanname"
   ]
  },
  {
   "cell_type": "code",
   "execution_count": 10,
   "metadata": {},
   "outputs": [],
   "source": [
    "name = humanname.HumanName()\n",
    "name.family = 'Bach'\n",
    "name.given = ['Johann', 'Sebastian']\n",
    "name.text = 'Johann Sebastian Bach'\n",
    "name.use = 'official'\n",
    "my_patient.name = [name]"
   ]
  },
  {
   "cell_type": "markdown",
   "metadata": {},
   "source": [
    "## Geburtsdatum"
   ]
  },
  {
   "cell_type": "code",
   "execution_count": 11,
   "metadata": {},
   "outputs": [
    {
     "data": {
      "text/html": [
       "\n",
       "        <iframe\n",
       "            width=\"1200\"\n",
       "            height=\"330\"\n",
       "            src=\"https://hl7.org/fhir/datatypes.html#date\"\n",
       "            frameborder=\"0\"\n",
       "            allowfullscreen\n",
       "            \n",
       "        ></iframe>\n",
       "        "
      ],
      "text/plain": [
       "<IPython.lib.display.IFrame at 0x10ff3aad0>"
      ]
     },
     "execution_count": 11,
     "metadata": {},
     "output_type": "execute_result"
    }
   ],
   "source": [
    "IFrame('https://hl7.org/fhir/datatypes.html#date', width=1200, height=330)"
   ]
  },
  {
   "cell_type": "code",
   "execution_count": 12,
   "metadata": {},
   "outputs": [],
   "source": [
    "from fhirclient.models import fhirdate"
   ]
  },
  {
   "cell_type": "code",
   "execution_count": 13,
   "metadata": {},
   "outputs": [],
   "source": [
    "date_of_birth = fhirdate.FHIRDate('1967-05-25')\n",
    "my_patient.birthDate = date_of_birth"
   ]
  },
  {
   "cell_type": "code",
   "execution_count": 14,
   "metadata": {},
   "outputs": [],
   "source": [
    "import json"
   ]
  },
  {
   "cell_type": "code",
   "execution_count": 15,
   "metadata": {},
   "outputs": [
    {
     "name": "stdout",
     "output_type": "stream",
     "text": [
      "{\n",
      "    \"birthDate\": \"1967-05-25\",\n",
      "    \"name\": [\n",
      "        {\n",
      "            \"family\": \"Bach\",\n",
      "            \"given\": [\n",
      "                \"Johann\",\n",
      "                \"Sebastian\"\n",
      "            ],\n",
      "            \"text\": \"Johann Sebastian Bach\",\n",
      "            \"use\": \"official\"\n",
      "        }\n",
      "    ],\n",
      "    \"resourceType\": \"Patient\"\n",
      "}\n"
     ]
    }
   ],
   "source": [
    "print(json.dumps(my_patient.as_json(), indent=4))"
   ]
  },
  {
   "cell_type": "markdown",
   "metadata": {},
   "source": [
    "## Pythons Requests Library\n",
    "Die [Requests Library](https://requests.readthedocs.io/en/master/) enthält Funktionen um HTTP Anfragen schnell um simpel an einen Server zu schicken. "
   ]
  },
  {
   "cell_type": "code",
   "execution_count": 16,
   "metadata": {},
   "outputs": [],
   "source": [
    "import requests"
   ]
  },
  {
   "cell_type": "code",
   "execution_count": 23,
   "metadata": {},
   "outputs": [],
   "source": [
    "# fhir_test_server = 'https://server.fire.ly'\n",
    "fhir_test_server = 'http://hapi.fhir.org/baseR4'\n",
    "\n",
    "\n",
    "headers = {\n",
    "'Accept':'application/fhir+json; fhirVersion=4.0',\n",
    "'Content-Type':'application/fhir+json; fhirVersion=4.0'\n",
    "}"
   ]
  },
  {
   "cell_type": "code",
   "execution_count": 24,
   "metadata": {},
   "outputs": [],
   "source": [
    "response = requests.post(f'{fhir_test_server}/Patient/$validate', headers = headers, data = json.dumps(my_patient.as_json()))\n",
    "operation_outcome = response.json()"
   ]
  },
  {
   "cell_type": "code",
   "execution_count": 25,
   "metadata": {},
   "outputs": [
    {
     "data": {
      "text/html": [
       "\n",
       "        <iframe\n",
       "            width=\"750\"\n",
       "            height=\"600\"\n",
       "            src=\"http://http.cat/200\"\n",
       "            frameborder=\"0\"\n",
       "            allowfullscreen\n",
       "            \n",
       "        ></iframe>\n",
       "        "
      ],
      "text/plain": [
       "<IPython.lib.display.IFrame at 0x10fe3bdf0>"
      ]
     },
     "execution_count": 25,
     "metadata": {},
     "output_type": "execute_result"
    }
   ],
   "source": [
    "IFrame(f'http://http.cat/{response.status_code}', width=750, height=600)"
   ]
  },
  {
   "cell_type": "code",
   "execution_count": 26,
   "metadata": {},
   "outputs": [
    {
     "name": "stdout",
     "output_type": "stream",
     "text": [
      "{\n",
      "    \"resourceType\": \"OperationOutcome\",\n",
      "    \"text\": {\n",
      "        \"status\": \"generated\",\n",
      "        \"div\": \"<div xmlns=\\\"http://www.w3.org/1999/xhtml\\\"><h1>Operation Outcome</h1><table border=\\\"0\\\"><tr><td style=\\\"font-weight: bold;\\\">WARNING</td><td>[Patient, Line 1, Col 2]</td><td><pre>dom-6: 'A resource should have narrative for robust management' Rule 'A resource should have narrative for robust management' Failed</pre></td>\\n\\t\\t\\t</tr>\\n\\t\\t</table>\\n\\t</div>\"\n",
      "    },\n",
      "    \"issue\": [\n",
      "        {\n",
      "            \"severity\": \"warning\",\n",
      "            \"code\": \"processing\",\n",
      "            \"diagnostics\": \"dom-6: 'A resource should have narrative for robust management' Rule 'A resource should have narrative for robust management' Failed\",\n",
      "            \"location\": [\n",
      "                \"Patient\",\n",
      "                \"Line 1, Col 2\"\n",
      "            ]\n",
      "        }\n",
      "    ]\n",
      "}\n"
     ]
    }
   ],
   "source": [
    "print(json.dumps(operation_outcome, indent=4))"
   ]
  },
  {
   "cell_type": "code",
   "execution_count": 27,
   "metadata": {},
   "outputs": [],
   "source": [
    "response = requests.post(f'{fhir_test_server}/Patient', headers = headers, data = json.dumps(my_patient.as_json()))\n",
    "operation_outcome = response.json()"
   ]
  },
  {
   "cell_type": "code",
   "execution_count": 28,
   "metadata": {},
   "outputs": [
    {
     "data": {
      "text/html": [
       "\n",
       "        <iframe\n",
       "            width=\"750\"\n",
       "            height=\"600\"\n",
       "            src=\"http://http.cat/201\"\n",
       "            frameborder=\"0\"\n",
       "            allowfullscreen\n",
       "            \n",
       "        ></iframe>\n",
       "        "
      ],
      "text/plain": [
       "<IPython.lib.display.IFrame at 0x10fe3bc40>"
      ]
     },
     "execution_count": 28,
     "metadata": {},
     "output_type": "execute_result"
    }
   ],
   "source": [
    "IFrame(f'http://http.cat/{response.status_code}', width=750, height=600)"
   ]
  },
  {
   "cell_type": "code",
   "execution_count": 29,
   "metadata": {},
   "outputs": [
    {
     "name": "stdout",
     "output_type": "stream",
     "text": [
      "{\n",
      "    \"resourceType\": \"Patient\",\n",
      "    \"id\": \"3259700\",\n",
      "    \"meta\": {\n",
      "        \"versionId\": \"1\",\n",
      "        \"lastUpdated\": \"2022-06-15T14:24:32.349+00:00\"\n",
      "    },\n",
      "    \"text\": {\n",
      "        \"status\": \"generated\",\n",
      "        \"div\": \"<div xmlns=\\\"http://www.w3.org/1999/xhtml\\\"><div class=\\\"hapiHeaderText\\\">Johann Sebastian <b>BACH </b></div><table class=\\\"hapiPropertyTable\\\"><tbody><tr><td>Date of birth</td><td><span>25 May 1967</span></td></tr></tbody></table></div>\"\n",
      "    },\n",
      "    \"name\": [\n",
      "        {\n",
      "            \"use\": \"official\",\n",
      "            \"text\": \"Johann Sebastian Bach\",\n",
      "            \"family\": \"Bach\",\n",
      "            \"given\": [\n",
      "                \"Johann\",\n",
      "                \"Sebastian\"\n",
      "            ]\n",
      "        }\n",
      "    ],\n",
      "    \"birthDate\": \"1967-05-25\"\n",
      "}\n"
     ]
    }
   ],
   "source": [
    "print(json.dumps(operation_outcome, indent=4))"
   ]
  },
  {
   "cell_type": "code",
   "execution_count": null,
   "metadata": {},
   "outputs": [],
   "source": []
  }
 ],
 "metadata": {
  "kernelspec": {
   "display_name": "Python 3.10.2 ('.venv': venv)",
   "language": "python",
   "name": "python3"
  },
  "language_info": {
   "codemirror_mode": {
    "name": "ipython",
    "version": 3
   },
   "file_extension": ".py",
   "mimetype": "text/x-python",
   "name": "python",
   "nbconvert_exporter": "python",
   "pygments_lexer": "ipython3",
   "version": "3.10.2"
  },
  "orig_nbformat": 2,
  "vscode": {
   "interpreter": {
    "hash": "1751e3d4bac0dc06d7e5d26ee0fb564736263050c100b98d34ec64d32aa5740c"
   }
  }
 },
 "nbformat": 4,
 "nbformat_minor": 2
}
