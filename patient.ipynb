{
 "metadata": {
  "language_info": {
   "codemirror_mode": {
    "name": "ipython",
    "version": 3
   },
   "file_extension": ".py",
   "mimetype": "text/x-python",
   "name": "python",
   "nbconvert_exporter": "python",
   "pygments_lexer": "ipython3",
   "version": "3.6.9-final"
  },
  "orig_nbformat": 2,
  "kernelspec": {
   "name": "python3",
   "display_name": "Python 3"
  }
 },
 "nbformat": 4,
 "nbformat_minor": 2,
 "cells": [
  {
   "source": [
    "Erstellen einer FHIR Patient Ressource mit dem Python fhirclient"
   ],
   "cell_type": "markdown",
   "metadata": {}
  },
  {
   "cell_type": "code",
   "execution_count": null,
   "metadata": {},
   "outputs": [],
   "source": [
    "!pip install git+git://github.com/smart-on-fhir/client-py.git"
   ]
  },
  {
   "cell_type": "code",
   "execution_count": 9,
   "metadata": {},
   "outputs": [],
   "source": [
    "from IPython.display import IFrame\n",
    "import fhirclient\n",
    "import fhirclient.models.patient as p"
   ]
  },
  {
   "cell_type": "code",
   "execution_count": 15,
   "metadata": {},
   "outputs": [
    {
     "output_type": "execute_result",
     "data": {
      "text/plain": [
       "<IPython.lib.display.IFrame at 0x7f2944db32e8>"
      ],
      "text/html": "\n        <iframe\n            width=\"1200\"\n            height=\"330\"\n            src=\"http://hl7.org/fhir/patient.html#resource\"\n            frameborder=\"0\"\n            allowfullscreen\n        ></iframe>\n        "
     },
     "metadata": {},
     "execution_count": 15
    }
   ],
   "source": [
    "# Patient Ressource in der FHIR Spezifikation.\n",
    "IFrame('http://hl7.org/fhir/patient.html#resource', width=1200, height=330)"
   ]
  },
  {
   "cell_type": "code",
   "execution_count": 6,
   "metadata": {},
   "outputs": [],
   "source": [
    "# Instanziieren eines Patienten\n",
    "patient = p.Patient()"
   ]
  },
  {
   "cell_type": "code",
   "execution_count": 11,
   "metadata": {},
   "outputs": [
    {
     "output_type": "stream",
     "name": "stdout",
     "text": [
      "Help on Patient in module fhirclient.models.patient object:\n\nclass Patient(fhirclient.models.domainresource.DomainResource)\n |  Information about an individual or animal receiving health care services.\n |  \n |  Demographics and other administrative information about an individual or\n |  animal receiving care or other health-related services.\n |  \n |  Method resolution order:\n |      Patient\n |      fhirclient.models.domainresource.DomainResource\n |      fhirclient.models.resource.Resource\n |      fhirclient.models.fhirabstractresource.FHIRAbstractResource\n |      fhirclient.models.fhirabstractbase.FHIRAbstractBase\n |      builtins.object\n |  \n |  Methods defined here:\n |  \n |  __init__(self, jsondict=None, strict=True)\n |      Initialize all valid properties.\n |      \n |      :raises: FHIRValidationError on validation errors, unless strict is False\n |      :param dict jsondict: A JSON dictionary to use for initialization\n |      :param bool strict: If True (the default), invalid variables will raise a TypeError\n |  \n |  elementProperties(self)\n |      Returns a list of tuples, one tuple for each property that should\n |      be serialized, as: (\"name\", \"json_name\", type, is_list, \"of_many\", not_optional)\n |  \n |  ----------------------------------------------------------------------\n |  Data and other attributes defined here:\n |  \n |  resource_type = 'Patient'\n |  \n |  ----------------------------------------------------------------------\n |  Methods inherited from fhirclient.models.fhirabstractresource.FHIRAbstractResource:\n |  \n |  as_json(self)\n |      Serializes to JSON by inspecting `elementProperties()` and creating\n |      a JSON dictionary of all registered properties. Checks:\n |      \n |      - whether required properties are not None (and lists not empty)\n |      - whether not-None properties are of the correct type\n |      \n |      :raises: FHIRValidationError if properties have the wrong type or if\n |          required properties are empty\n |      :returns: A validated dict object that can be JSON serialized\n |  \n |  create(self, server)\n |      Attempt to create the receiver on the given server, using a POST\n |      command.\n |      \n |      :param FHIRServer server: The server to create the receiver on\n |      :returns: None or the response JSON on success\n |  \n |  delete(self, server=None)\n |      Delete the receiver from the given server with a DELETE command.\n |      \n |      :param FHIRServer server: The server to update the receiver on;\n |          optional, will use the instance's `server` if needed.\n |      :returns: None or the response JSON on success\n |  \n |  relativeBase(self)\n |  \n |  relativePath(self)\n |  \n |  search(self, struct=None)\n |      Search can be started via a dictionary containing a search\n |      construct.\n |      \n |      Calling this method with a search struct will return a `FHIRSearch`\n |      object representing the search struct, with \"$type\" and \"id\" added.\n |      \n |      :param dict struct: An optional search structure\n |      :returns: A FHIRSearch instance\n |  \n |  update(self, server=None)\n |      Update the receiver's representation on the given server, issuing\n |      a PUT command.\n |      \n |      :param FHIRServer server: The server to update the receiver on;\n |          optional, will use the instance's `server` if needed.\n |      :returns: None or the response JSON on success\n |  \n |  ----------------------------------------------------------------------\n |  Class methods inherited from fhirclient.models.fhirabstractresource.FHIRAbstractResource:\n |  \n |  read(rem_id, server) from builtins.type\n |      Read the resource with the given id from the given server. The\n |      passed-in server instance must support a `request_json()` method call,\n |      taking a relative path as first (and only mandatory) argument.\n |      \n |      :param str rem_id: The id of the resource on the remote server\n |      :param FHIRServer server: An instance of a FHIR server or compatible class\n |      :returns: An instance of the receiving class\n |  \n |  read_from(path, server) from builtins.type\n |      Requests data from the given REST path on the server and creates\n |      an instance of the receiving class.\n |      \n |      :param str path: The REST path to read from\n |      :param FHIRServer server: An instance of a FHIR server or compatible class\n |      :returns: An instance of the receiving class\n |  \n |  where(struct) from builtins.type\n |      Search can be started via a dictionary containing a search\n |      construct.\n |      \n |      Calling this method with a search struct will return a `FHIRSearch`\n |      object representing the search struct\n |      \n |      :param dict struct: A search structure\n |      :returns: A FHIRSearch instance\n |  \n |  ----------------------------------------------------------------------\n |  Data descriptors inherited from fhirclient.models.fhirabstractresource.FHIRAbstractResource:\n |  \n |  origin_server\n |      Walks the owner hierarchy until it finds an owner with a server.\n |  \n |  ----------------------------------------------------------------------\n |  Methods inherited from fhirclient.models.fhirabstractbase.FHIRAbstractBase:\n |  \n |  didResolveReference(self, refid, resolved)\n |      Called by `FHIRResource` when it resolves a reference. Stores the\n |      resolved reference into the `_resolved` dictionary.\n |      \n |      :param refid: The id of the resource that was resolved\n |      :param refid: The resolved resource, ready to be cached\n |  \n |  owningBundle(self)\n |      Walks the owner hierarchy and returns the next parent that is a\n |      `Bundle` instance.\n |  \n |  owningResource(self)\n |      Walks the owner hierarchy and returns the next parent that is a\n |      `DomainResource` instance.\n |  \n |  resolvedReference(self, refid)\n |      Returns the resolved reference with the given id, if it has been\n |      resolved already. If it hasn't, forwards the call to its owner if it\n |      has one.\n |      \n |      You should probably use `resolve()` on the `FHIRReference` itself.\n |      \n |      :param refid: The id of the resource to resolve\n |      :returns: An instance of `Resource`, if it was found\n |  \n |  update_with_json(self, jsondict)\n |      Update the receiver with data in a JSON dictionary.\n |      \n |      :raises: FHIRValidationError on validation errors\n |      :param dict jsondict: The JSON dictionary to use to update the receiver\n |      :returns: None on success, a list of errors if there were errors\n |  \n |  ----------------------------------------------------------------------\n |  Class methods inherited from fhirclient.models.fhirabstractbase.FHIRAbstractBase:\n |  \n |  with_json(jsonobj) from builtins.type\n |      Initialize an element from a JSON dictionary or array.\n |      \n |      If the JSON dictionary has a \"resourceType\" entry and the specified\n |      resource type is not the receiving classes type, uses\n |      `FHIRElementFactory` to return a correct class instance.\n |      \n |      :raises: TypeError on anything but dict or list of dicts\n |      :raises: FHIRValidationError if instantiation fails\n |      :param jsonobj: A dict or list of dicts to instantiate from\n |      :returns: An instance or a list of instances created from JSON data\n |  \n |  with_json_and_owner(jsonobj, owner) from builtins.type\n |      Instantiates by forwarding to `with_json()`, then remembers the\n |      \"owner\" of the instantiated elements. The \"owner\" is the resource\n |      containing the receiver and is used to resolve contained resources.\n |      \n |      :raises: TypeError on anything but dict or list of dicts\n |      :raises: FHIRValidationError if instantiation fails\n |      :param dict jsonobj: Decoded JSON dictionary (or list thereof)\n |      :param FHIRElement owner: The owning parent\n |      :returns: An instance or a list of instances created from JSON data\n |  \n |  ----------------------------------------------------------------------\n |  Data descriptors inherited from fhirclient.models.fhirabstractbase.FHIRAbstractBase:\n |  \n |  __dict__\n |      dictionary for instance variables (if defined)\n |  \n |  __weakref__\n |      list of weak references to the object (if defined)\n\n"
     ]
    }
   ],
   "source": [
    "# help() Funktion, um mehr Informationen zu erhalten\n",
    "help(patient)"
   ]
  },
  {
   "cell_type": "code",
   "execution_count": 8,
   "metadata": {},
   "outputs": [
    {
     "output_type": "stream",
     "name": "stdout",
     "text": [
      "('id', 'id', <class 'str'>, False, None, False)\n('implicitRules', 'implicitRules', <class 'str'>, False, None, False)\n('language', 'language', <class 'str'>, False, None, False)\n('meta', 'meta', <class 'fhirclient.models.meta.Meta'>, False, None, False)\n('contained', 'contained', <class 'fhirclient.models.resource.Resource'>, True, None, False)\n('extension', 'extension', <class 'fhirclient.models.extension.Extension'>, True, None, False)\n('modifierExtension', 'modifierExtension', <class 'fhirclient.models.extension.Extension'>, True, None, False)\n('text', 'text', <class 'fhirclient.models.narrative.Narrative'>, False, None, False)\n('active', 'active', <class 'bool'>, False, None, False)\n('address', 'address', <class 'fhirclient.models.address.Address'>, True, None, False)\n('birthDate', 'birthDate', <class 'fhirclient.models.fhirdate.FHIRDate'>, False, None, False)\n('communication', 'communication', <class 'fhirclient.models.patient.PatientCommunication'>, True, None, False)\n('contact', 'contact', <class 'fhirclient.models.patient.PatientContact'>, True, None, False)\n('deceasedBoolean', 'deceasedBoolean', <class 'bool'>, False, 'deceased', False)\n('deceasedDateTime', 'deceasedDateTime', <class 'fhirclient.models.fhirdate.FHIRDate'>, False, 'deceased', False)\n('gender', 'gender', <class 'str'>, False, None, False)\n('generalPractitioner', 'generalPractitioner', <class 'fhirclient.models.fhirreference.FHIRReference'>, True, None, False)\n('identifier', 'identifier', <class 'fhirclient.models.identifier.Identifier'>, True, None, False)\n('link', 'link', <class 'fhirclient.models.patient.PatientLink'>, True, None, False)\n('managingOrganization', 'managingOrganization', <class 'fhirclient.models.fhirreference.FHIRReference'>, False, None, False)\n('maritalStatus', 'maritalStatus', <class 'fhirclient.models.codeableconcept.CodeableConcept'>, False, None, False)\n('multipleBirthBoolean', 'multipleBirthBoolean', <class 'bool'>, False, 'multipleBirth', False)\n('multipleBirthInteger', 'multipleBirthInteger', <class 'int'>, False, 'multipleBirth', False)\n('name', 'name', <class 'fhirclient.models.humanname.HumanName'>, True, None, False)\n('photo', 'photo', <class 'fhirclient.models.attachment.Attachment'>, True, None, False)\n('telecom', 'telecom', <class 'fhirclient.models.contactpoint.ContactPoint'>, True, None, False)\n"
     ]
    }
   ],
   "source": [
    "for property in patient.elementProperties():\n",
    "    print(property)"
   ]
  },
  {
   "source": [
    "Name des Patienten / dr Patientin"
   ],
   "cell_type": "markdown",
   "metadata": {}
  },
  {
   "cell_type": "code",
   "execution_count": 14,
   "metadata": {},
   "outputs": [
    {
     "output_type": "execute_result",
     "data": {
      "text/plain": [
       "<IPython.lib.display.IFrame at 0x7f2944db30b8>"
      ],
      "text/html": "\n        <iframe\n            width=\"1200\"\n            height=\"330\"\n            src=\"http://hl7.org/fhir/datatypes.html#HumanName\"\n            frameborder=\"0\"\n            allowfullscreen\n        ></iframe>\n        "
     },
     "metadata": {},
     "execution_count": 14
    }
   ],
   "source": [
    "IFrame('http://hl7.org/fhir/datatypes.html#HumanName', width=1200, height=330)"
   ]
  },
  {
   "cell_type": "code",
   "execution_count": 12,
   "metadata": {},
   "outputs": [],
   "source": [
    "import fhirclient.models.humanname as hn"
   ]
  },
  {
   "cell_type": "code",
   "execution_count": 20,
   "metadata": {},
   "outputs": [],
   "source": [
    "name = hn.HumanName()\n",
    "name.family = 'Bach'\n",
    "name.given = ['Johann', 'Sebastian']\n",
    "name.text = 'Johann Sebastian Bach'\n",
    "name.use = 'official'\n",
    "patient.name = [name]"
   ]
  },
  {
   "source": [
    "Geburtsdatum"
   ],
   "cell_type": "markdown",
   "metadata": {}
  },
  {
   "cell_type": "code",
   "execution_count": 17,
   "metadata": {},
   "outputs": [
    {
     "output_type": "execute_result",
     "data": {
      "text/plain": [
       "<IPython.lib.display.IFrame at 0x7f294450c7b8>"
      ],
      "text/html": "\n        <iframe\n            width=\"1200\"\n            height=\"330\"\n            src=\"http://hl7.org/fhir/datatypes.html#date\"\n            frameborder=\"0\"\n            allowfullscreen\n        ></iframe>\n        "
     },
     "metadata": {},
     "execution_count": 17
    }
   ],
   "source": [
    "IFrame('http://hl7.org/fhir/datatypes.html#date', width=1200, height=330)"
   ]
  },
  {
   "cell_type": "code",
   "execution_count": 13,
   "metadata": {},
   "outputs": [],
   "source": [
    "import fhirclient.models.fhirdate as fd"
   ]
  },
  {
   "cell_type": "code",
   "execution_count": 16,
   "metadata": {},
   "outputs": [],
   "source": [
    "dateOfBirth = fd.FHIRDate('1967-05-25')\n",
    "patient.birthDate = dateOfBirth"
   ]
  },
  {
   "cell_type": "code",
   "execution_count": 27,
   "metadata": {},
   "outputs": [],
   "source": [
    "import json\n",
    "from json import dumps"
   ]
  },
  {
   "cell_type": "code",
   "execution_count": 21,
   "metadata": {},
   "outputs": [
    {
     "output_type": "stream",
     "name": "stdout",
     "text": [
      "{\n    \"birthDate\": \"1967-05-25\",\n    \"name\": [\n        {\n            \"family\": \"Bach\",\n            \"given\": [\n                \"Johann\",\n                \"Sebastian\"\n            ],\n            \"text\": \"Johann Sebastian Bach\",\n            \"use\": \"official\"\n        }\n    ],\n    \"resourceType\": \"Patient\"\n}\n"
     ]
    }
   ],
   "source": [
    "print(json.dumps(patient.as_json(), indent=4))"
   ]
  },
  {
   "cell_type": "code",
   "execution_count": 28,
   "metadata": {},
   "outputs": [],
   "source": [
    "import requests\n",
    "from requests import get, post, put"
   ]
  },
  {
   "cell_type": "code",
   "execution_count": 44,
   "metadata": {},
   "outputs": [],
   "source": [
    "fhir_test_server = 'http://localhost:4080'\n",
    "#fhir_test_server = 'https://vonk.fire.ly'\n",
    "\n",
    "headers = {\n",
    "'Accept':'application/fhir+json; fhirVersion=4.0',\n",
    "'Content-Type':'application/fhir+json; fhirVersion=4.0'\n",
    "}"
   ]
  },
  {
   "cell_type": "code",
   "execution_count": 45,
   "metadata": {},
   "outputs": [],
   "source": [
    "response = requests.post(f'{fhir_test_server}/Patient/$validate', headers = headers, data = dumps(patient.as_json()))\n",
    "data = response.json()\n"
   ]
  },
  {
   "cell_type": "code",
   "execution_count": 46,
   "metadata": {},
   "outputs": [
    {
     "output_type": "stream",
     "name": "stdout",
     "text": [
      "200\n"
     ]
    }
   ],
   "source": [
    "print(response.status_code)"
   ]
  },
  {
   "cell_type": "code",
   "execution_count": 47,
   "metadata": {},
   "outputs": [
    {
     "output_type": "stream",
     "name": "stdout",
     "text": [
      "{\n    \"resourceType\": \"OperationOutcome\",\n    \"id\": \"96a3d0dd-e0ba-42ee-a248-85d48fa9745a\",\n    \"meta\": {\n        \"versionId\": \"42e59302-e1a9-4755-a9f8-4651aaf3351b\",\n        \"lastUpdated\": \"2020-11-23T09:05:16.495+00:00\"\n    },\n    \"issue\": [\n        {\n            \"severity\": \"information\",\n            \"code\": \"informational\",\n            \"diagnostics\": \"The operation was successful\"\n        }\n    ]\n}\n"
     ]
    }
   ],
   "source": [
    "print(json.dumps(data, indent=4))"
   ]
  },
  {
   "cell_type": "code",
   "execution_count": 48,
   "metadata": {},
   "outputs": [],
   "source": [
    "response = requests.post(f'{fhir_test_server}/Patient', headers = headers, data = dumps(patient.as_json()))\n",
    "data = response.json()"
   ]
  },
  {
   "cell_type": "code",
   "execution_count": 49,
   "metadata": {},
   "outputs": [
    {
     "output_type": "stream",
     "name": "stdout",
     "text": [
      "201\n"
     ]
    }
   ],
   "source": [
    "print(response.status_code)"
   ]
  },
  {
   "cell_type": "code",
   "execution_count": 51,
   "metadata": {},
   "outputs": [
    {
     "output_type": "stream",
     "name": "stdout",
     "text": [
      "{\n    \"resourceType\": \"Patient\",\n    \"birthDate\": \"1967-05-25\",\n    \"name\": [\n        {\n            \"family\": \"Bach\",\n            \"given\": [\n                \"Johann\",\n                \"Sebastian\"\n            ],\n            \"text\": \"Johann Sebastian Bach\",\n            \"use\": \"official\"\n        }\n    ],\n    \"id\": \"71499131-972c-4785-a3e8-4e16dc42e191\",\n    \"meta\": {\n        \"versionId\": \"637a3f6b-6508-42f5-9cec-4c40600319e8\",\n        \"lastUpdated\": \"2020-11-23T09:06:40.969+00:00\"\n    }\n}\n"
     ]
    }
   ],
   "source": [
    "print(json.dumps(data, indent=4))"
   ]
  },
  {
   "cell_type": "code",
   "execution_count": null,
   "metadata": {},
   "outputs": [],
   "source": []
  }
 ]
}