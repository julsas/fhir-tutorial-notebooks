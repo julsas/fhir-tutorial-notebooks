{
 "metadata": {
  "language_info": {
   "codemirror_mode": {
    "name": "ipython",
    "version": 3
   },
   "file_extension": ".py",
   "mimetype": "text/x-python",
   "name": "python",
   "nbconvert_exporter": "python",
   "pygments_lexer": "ipython3",
   "version": "3.6.9-final"
  },
  "orig_nbformat": 2,
  "kernelspec": {
   "name": "python3",
   "display_name": "Python 3"
  }
 },
 "nbformat": 4,
 "nbformat_minor": 2,
 "cells": [
  {
   "source": [
    "Erstellen einer FHIR Procedure-Ressource"
   ],
   "cell_type": "markdown",
   "metadata": {}
  },
  {
   "cell_type": "code",
   "execution_count": 16,
   "metadata": {},
   "outputs": [],
   "source": [
    "from IPython.display import IFrame\n",
    "import json\n",
    "from json import dumps\n",
    "import requests\n",
    "from requests import get, post, put\n",
    "import fhirclient\n",
    "import fhirclient.models.procedure as pdr \n",
    "import fhirclient.models.codeableconcept as codeableconcept\n",
    "import fhirclient.models.coding as co\n",
    "import fhirclient.models.fhirreference as fhirreference\n",
    "import fhirclient.models.fhirdate as fhirdate"
   ]
  },
  {
   "cell_type": "code",
   "execution_count": 17,
   "metadata": {},
   "outputs": [
    {
     "output_type": "execute_result",
     "data": {
      "text/plain": [
       "<IPython.lib.display.IFrame at 0x7fc83a01ec50>"
      ],
      "text/html": "\n        <iframe\n            width=\"1200\"\n            height=\"330\"\n            src=\"https://hl7.org/fhir/procedure.html\"\n            frameborder=\"0\"\n            allowfullscreen\n        ></iframe>\n        "
     },
     "metadata": {},
     "execution_count": 17
    }
   ],
   "source": [
    "# Procedure Ressource in der FHIR Spezifikation.\n",
    "IFrame('https://hl7.org/fhir/procedure.html', width=1200, height=330)"
   ]
  },
  {
   "source": [
    "# Zur Orientierung bzgl. der verwendeten Codesysteme - das Prozedur-Profil der Medizininformatik-Initiative:\n",
    "# https://simplifier.net/medizininformatikinitiative-modulprozeduren/prozedur"
   ],
   "cell_type": "code",
   "metadata": {},
   "execution_count": 18,
   "outputs": []
  },
  {
   "cell_type": "code",
   "execution_count": 19,
   "metadata": {},
   "outputs": [],
   "source": [
    "# Instanziieren des Prozedur-Objektes\n",
    "procedure = pdr.Procedure()"
   ]
  },
  {
   "cell_type": "code",
   "execution_count": 20,
   "metadata": {},
   "outputs": [],
   "source": [
    "# Setzen des Status auf 'completed' für eine abgeschlossene Prozedur\n",
    "status = 'completed'\n",
    "procedure.status = status"
   ]
  },
  {
   "cell_type": "code",
   "execution_count": 21,
   "metadata": {},
   "outputs": [],
   "source": [
    "# Vergeben eines Codes für die Prozedur aus dem Operationen- und Prozedurenschlüssel Version 2020\n",
    "code = codeableconcept.CodeableConcept()\n",
    "coding = co.Coding()\n",
    "coding.system = 'http://fhir.de/CodeSystem/dimdi/ops'\n",
    "coding.version = '2020'\n",
    "coding.code = '5-470'\n",
    "coding.display = 'Appendektomie'\n",
    "code.coding = [coding]\n",
    "procedure.code = code\n"
   ]
  },
  {
   "cell_type": "code",
   "execution_count": 22,
   "metadata": {},
   "outputs": [],
   "source": [
    "# Referenz auf den Patienten\n",
    "subject = fhirreference.FHIRReference()\n",
    "subject.reference = 'Patient/example'\n",
    "procedure.subject = subject"
   ]
  },
  {
   "cell_type": "code",
   "execution_count": 23,
   "metadata": {},
   "outputs": [
    {
     "output_type": "stream",
     "name": "stdout",
     "text": [
      "{\n    \"code\": {\n        \"coding\": [\n            {\n                \"code\": \"5-470\",\n                \"display\": \"Appendektomie\",\n                \"system\": \"http://fhir.de/CodeSystem/dimdi/ops\",\n                \"version\": \"2020\"\n            }\n        ]\n    },\n    \"status\": \"completed\",\n    \"subject\": {\n        \"reference\": \"Patient/example\"\n    },\n    \"resourceType\": \"Procedure\"\n}\n"
     ]
    }
   ],
   "source": [
    "print(json.dumps(procedure.as_json(), indent=4))"
   ]
  },
  {
   "cell_type": "code",
   "execution_count": 24,
   "metadata": {},
   "outputs": [],
   "source": [
    "# To-Do: Implementieren Sie den Durchführungszeitraum mit Start- und Endzeitpunkt der Prozedur\n",
    "# Tipp: \n",
    "import fhirclient.models.period as pd  "
   ]
  },
  {
   "cell_type": "code",
   "execution_count": 25,
   "metadata": {},
   "outputs": [],
   "source": [
    "period = pd.Period()\n",
    "\n",
    "start = '2020-12-02T15:30:00+01:00'\n",
    "end = '2020-12-02T16:15:00+01:00'\n",
    "\n",
    "period.start = fhirdate.FHIRDate(start)\n",
    "period.end = fhirdate.FHIRDate(end)\n",
    "\n",
    "procedure.performedPeriod = period\n"
   ]
  },
  {
   "cell_type": "code",
   "execution_count": 26,
   "metadata": {},
   "outputs": [
    {
     "output_type": "stream",
     "name": "stdout",
     "text": [
      "{\n    \"code\": {\n        \"coding\": [\n            {\n                \"code\": \"5-470\",\n                \"display\": \"Appendektomie\",\n                \"system\": \"http://fhir.de/CodeSystem/dimdi/ops\",\n                \"version\": \"2020\"\n            }\n        ]\n    },\n    \"performedPeriod\": {\n        \"end\": \"2020-12-02T16:15:00+01:00\",\n        \"start\": \"2020-12-02T15:30:00+01:00\"\n    },\n    \"status\": \"completed\",\n    \"subject\": {\n        \"reference\": \"Patient/example\"\n    },\n    \"resourceType\": \"Procedure\"\n}\n"
     ]
    }
   ],
   "source": [
    "print(json.dumps(procedure.as_json(), indent=4))"
   ]
  },
  {
   "cell_type": "code",
   "execution_count": null,
   "metadata": {},
   "outputs": [],
   "source": []
  }
 ]
}