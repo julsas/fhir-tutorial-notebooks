{
 "metadata": {
  "language_info": {
   "codemirror_mode": {
    "name": "ipython",
    "version": 3
   },
   "file_extension": ".py",
   "mimetype": "text/x-python",
   "name": "python",
   "nbconvert_exporter": "python",
   "pygments_lexer": "ipython3",
   "version": "3.7.1-final"
  },
  "orig_nbformat": 2,
  "kernelspec": {
   "name": "python3",
   "display_name": "Python 3"
  }
 },
 "nbformat": 4,
 "nbformat_minor": 2,
 "cells": [
  {
   "source": [
    "# Erstellen einer FHIR Procedure-Ressource"
   ],
   "cell_type": "markdown",
   "metadata": {}
  },
  {
   "cell_type": "code",
   "execution_count": null,
   "metadata": {},
   "outputs": [],
   "source": [
    "!pip install git+git://github.com/smart-on-fhir/client-py.git"
   ]
  },
  {
   "cell_type": "code",
   "execution_count": null,
   "metadata": {},
   "outputs": [],
   "source": [
    "from IPython.display import IFrame\n",
    "import json\n",
    "import requests\n",
    "from fhirclient.models import (\n",
    "    procedure,\n",
    "    codeableconcept,\n",
    "    coding,\n",
    "    fhirreference,\n",
    "    fhirdate\n",
    ")"
   ]
  },
  {
   "cell_type": "code",
   "execution_count": null,
   "metadata": {},
   "outputs": [],
   "source": [
    "# Procedure Ressource in der FHIR Spezifikation.\n",
    "IFrame('https://hl7.org/fhir/procedure.html', width=1200, height=330)"
   ]
  },
  {
   "source": [
    "### Zur Orientierung bzgl. der verwendeten Codesysteme nutzen Sie das [Prozedur-Profil der Medizininformatik-Initiative](https://simplifier.net/medizininformatikinitiative-modulprozeduren/prozedur)"
   ],
   "cell_type": "markdown",
   "metadata": {}
  },
  {
   "cell_type": "code",
   "execution_count": null,
   "metadata": {},
   "outputs": [],
   "source": [
    "# Instanziieren des Prozedur-Objektes\n",
    "my_procedure = procedure.Procedure()"
   ]
  },
  {
   "cell_type": "code",
   "execution_count": null,
   "metadata": {},
   "outputs": [],
   "source": [
    "# Setzen des Status auf 'completed' für eine abgeschlossene Prozedur\n",
    "status = 'completed'\n",
    "my_procedure.status = status"
   ]
  },
  {
   "cell_type": "code",
   "execution_count": null,
   "metadata": {},
   "outputs": [],
   "source": [
    "# Vergeben eines Codes für die Prozedur aus dem Operationen- und Prozedurenschlüssel Version 2020\n",
    "ops_code = codeableconcept.CodeableConcept()\n",
    "ops_coding = coding.Coding()\n",
    "ops_coding.system = 'http://fhir.de/CodeSystem/dimdi/ops'\n",
    "ops_coding.version = '2020'\n",
    "ops_coding.code = '5-470'\n",
    "ops_coding.display = 'Appendektomie'\n",
    "ops_code.coding = [ops_coding]\n",
    "my_procedure.code = ops_code"
   ]
  },
  {
   "source": [
    "### BONUS: Stellen Sie die Referenz zum zuvor hochgeladenen Patienten her"
   ],
   "cell_type": "markdown",
   "metadata": {}
  },
  {
   "cell_type": "code",
   "execution_count": null,
   "metadata": {},
   "outputs": [],
   "source": [
    "fhir_test_server = 'https://vonk.fire.ly'\n",
    "\n",
    "headers = {\n",
    "'Accept':'application/fhir+json; fhirVersion=4.0',\n",
    "'Content-Type':'application/fhir+json; fhirVersion=4.0'\n",
    "}\n",
    "\n",
    "response = requests.get(url=f'{fhir_test_server}/Patient?family=Holmes', headers=headers)"
   ]
  },
  {
   "cell_type": "code",
   "execution_count": null,
   "metadata": {},
   "outputs": [],
   "source": [
    "IFrame(f'http://http.cat/{response.status_code}', width=750, height=600)"
   ]
  },
  {
   "cell_type": "code",
   "execution_count": null,
   "metadata": {},
   "outputs": [],
   "source": [
    "# Response Text als Python Dictionary holen\n",
    "response_dict = json.loads(response.text)\n",
    "response_dict"
   ]
  },
  {
   "cell_type": "code",
   "execution_count": null,
   "metadata": {},
   "outputs": [],
   "source": [
    "# Referenz auf den Patienten\n",
    "subject = fhirreference.FHIRReference()\n",
    "pat_id = response_dict['id']\n",
    "subject.reference = f'Patient/{pat_id}'\n",
    "my_procedure.subject = subject"
   ]
  },
  {
   "cell_type": "code",
   "execution_count": null,
   "metadata": {},
   "outputs": [],
   "source": [
    "print(json.dumps(my_procedure.as_json(), indent=4))"
   ]
  },
  {
   "source": [
    "## Aufgaben\n",
    "1. Implementieren Sie den Durchführungszeitraum mit Start- und Endzeitpunkt der Prozedur (Tipp: zeitlicher Verlauf mit Start und Ende klingt nach Period!)\n",
    "2. Lassen Sie die Ressource vom Server validieren und laden Sie diese in den Testserver hoch\n",
    "------\n",
    "Bonus: Stellen Sie die Referenz zum zuvor hochgeladenen Patienten her. Nutzen Sie hierfür die vorgestellten FHIR-Search Operatoren. "
   ],
   "cell_type": "markdown",
   "metadata": {}
  },
  {
   "source": [
    "### 1. Implementieren Sie den Durchführungszeitraum mit Start- und Endzeitpunkt der Prozedur (Tipp: zeitlicher Verlauf mit Start und Ende klingt nach Period!)"
   ],
   "cell_type": "markdown",
   "metadata": {}
  },
  {
   "cell_type": "code",
   "execution_count": null,
   "metadata": {},
   "outputs": [],
   "source": [
    "from fhirclient.models import period"
   ]
  },
  {
   "cell_type": "code",
   "execution_count": null,
   "metadata": {},
   "outputs": [],
   "source": [
    "performed_period = period.Period()\n",
    "\n",
    "start = '2020-12-02T15:30:00+01:00'\n",
    "end = '2020-12-02T16:15:00+01:00'\n",
    "\n",
    "performed_period.start = fhirdate.FHIRDate(start)\n",
    "performed_period.end = fhirdate.FHIRDate(end)\n",
    "\n",
    "my_procedure.performedPeriod = performed_period"
   ]
  },
  {
   "cell_type": "code",
   "execution_count": null,
   "metadata": {},
   "outputs": [],
   "source": [
    "print(json.dumps(my_procedure.as_json(), indent=4))"
   ]
  },
  {
   "source": [
    "### 2. Lassen Sie die Ressource vom Server validieren und laden Sie diese in den Testserver hoch"
   ],
   "cell_type": "markdown",
   "metadata": {}
  },
  {
   "cell_type": "code",
   "execution_count": null,
   "metadata": {},
   "outputs": [],
   "source": [
    "response = requests.post(f'{fhir_test_server}/Procedure/$validate', headers = headers, data = json.dumps(my_procedure.as_json()))\n",
    "data = response.json()"
   ]
  },
  {
   "cell_type": "code",
   "execution_count": null,
   "metadata": {},
   "outputs": [],
   "source": [
    "IFrame(f'http://http.cat/{response.status_code}', width=750, height=600)"
   ]
  },
  {
   "cell_type": "code",
   "execution_count": null,
   "metadata": {},
   "outputs": [],
   "source": [
    "print(json.dumps(data, indent=4))"
   ]
  },
  {
   "cell_type": "code",
   "execution_count": null,
   "metadata": {},
   "outputs": [],
   "source": []
  }
 ]
}