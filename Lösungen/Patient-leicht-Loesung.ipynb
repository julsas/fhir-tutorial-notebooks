{
 "metadata": {
  "language_info": {
   "codemirror_mode": {
    "name": "ipython",
    "version": 3
   },
   "file_extension": ".py",
   "mimetype": "text/x-python",
   "name": "python",
   "nbconvert_exporter": "python",
   "pygments_lexer": "ipython3",
   "version": "3.6.9-final"
  },
  "orig_nbformat": 2,
  "kernelspec": {
   "name": "python3",
   "display_name": "Python 3"
  }
 },
 "nbformat": 4,
 "nbformat_minor": 2,
 "cells": [
  {
   "cell_type": "code",
   "execution_count": null,
   "metadata": {},
   "outputs": [],
   "source": [
    "!pip install git+git://github.com/smart-on-fhir/client-py.git"
   ]
  },
  {
   "cell_type": "code",
   "execution_count": 1,
   "metadata": {},
   "outputs": [],
   "source": [
    "from IPython.display import IFrame\n",
    "import json\n",
    "from json import dumps\n",
    "import fhirclient\n",
    "import fhirclient.models.patient as p\n",
    "import fhirclient.models.humanname as hn\n",
    "import fhirclient.models.fhirdate as fd"
   ]
  },
  {
   "cell_type": "code",
   "execution_count": 2,
   "metadata": {},
   "outputs": [
    {
     "output_type": "execute_result",
     "data": {
      "text/plain": [
       "<IPython.lib.display.IFrame at 0x7f8cd03599e8>"
      ],
      "text/html": "\n        <iframe\n            width=\"1200\"\n            height=\"330\"\n            src=\"https://hl7.org/fhir/patient.html#resource\"\n            frameborder=\"0\"\n            allowfullscreen\n        ></iframe>\n        "
     },
     "metadata": {},
     "execution_count": 2
    }
   ],
   "source": [
    "# Patient Ressource in der FHIR Spezifikation.\n",
    "IFrame('https://hl7.org/fhir/patient.html#resource', width=1200, height=330)"
   ]
  },
  {
   "cell_type": "code",
   "execution_count": 3,
   "metadata": {},
   "outputs": [],
   "source": [
    "# Instanziieren eines Patienten\n",
    "patient = p.Patient()"
   ]
  },
  {
   "cell_type": "code",
   "execution_count": 4,
   "metadata": {},
   "outputs": [],
   "source": [
    "# Name\n",
    "name = hn.HumanName()\n",
    "name.family = 'Mustermann'\n",
    "name.given = ['Erika']\n",
    "name.text = 'Erika Mustermann'\n",
    "name.use = 'official'\n",
    "patient.name = [name]"
   ]
  },
  {
   "cell_type": "code",
   "execution_count": 5,
   "metadata": {},
   "outputs": [],
   "source": [
    "# Geburtsdatum\n",
    "dateOfBirth = fd.FHIRDate('1973-12-10')\n",
    "patient.birthDate = dateOfBirth"
   ]
  },
  {
   "cell_type": "code",
   "execution_count": 6,
   "metadata": {},
   "outputs": [
    {
     "output_type": "stream",
     "name": "stdout",
     "text": [
      "{\n    \"birthDate\": \"1973-12-10\",\n    \"name\": [\n        {\n            \"family\": \"Mustermann\",\n            \"given\": [\n                \"Erika\"\n            ],\n            \"text\": \"Erika Mustermann\",\n            \"use\": \"official\"\n        }\n    ],\n    \"resourceType\": \"Patient\"\n}\n"
     ]
    }
   ],
   "source": [
    "print(json.dumps(patient.as_json(), indent=4))"
   ]
  },
  {
   "source": [
    "Aufgabe"
   ],
   "cell_type": "markdown",
   "metadata": {}
  },
  {
   "cell_type": "code",
   "execution_count": 7,
   "metadata": {},
   "outputs": [],
   "source": [
    "# To-Do: Implementieren Sie das Geschlecht der Patientin.\n",
    "# Überprüfen Sie Ihr Ergebnis anschließend, indem sie die Ressource gegen den Testserver validieren. \n",
    "gender = 'female'\n",
    "patient.gender = gender"
   ]
  },
  {
   "cell_type": "code",
   "execution_count": 13,
   "metadata": {},
   "outputs": [
    {
     "output_type": "stream",
     "name": "stdout",
     "text": [
      "{\n    \"birthDate\": \"1973-12-10\",\n    \"gender\": \"female\",\n    \"name\": [\n        {\n            \"family\": \"Mustermann\",\n            \"given\": [\n                \"Erika\"\n            ],\n            \"text\": \"Erika Mustermann\",\n            \"use\": \"official\"\n        }\n    ],\n    \"resourceType\": \"Patient\"\n}\n"
     ]
    }
   ],
   "source": [
    "print(json.dumps(patient.as_json(), indent=4))"
   ]
  },
  {
   "cell_type": "code",
   "execution_count": 8,
   "metadata": {},
   "outputs": [],
   "source": [
    "import requests\n",
    "from requests import get, post, put"
   ]
  },
  {
   "cell_type": "code",
   "execution_count": 9,
   "metadata": {},
   "outputs": [],
   "source": [
    "fhir_test_server = 'https://vonk.fire.ly'\n",
    "\n",
    "headers = {\n",
    "'Accept':'application/fhir+json; fhirVersion=4.0',\n",
    "'Content-Type':'application/fhir+json; fhirVersion=4.0'\n",
    "}"
   ]
  },
  {
   "cell_type": "code",
   "execution_count": 11,
   "metadata": {},
   "outputs": [
    {
     "output_type": "stream",
     "name": "stdout",
     "text": [
      "200\n"
     ]
    }
   ],
   "source": [
    "response = requests.post(f'{fhir_test_server}/Patient/$validate', headers = headers, data = dumps(patient.as_json()))\n",
    "data = response.json()\n",
    "print(response.status_code)"
   ]
  },
  {
   "cell_type": "code",
   "execution_count": 12,
   "metadata": {},
   "outputs": [
    {
     "output_type": "stream",
     "name": "stdout",
     "text": [
      "{\n    \"resourceType\": \"OperationOutcome\",\n    \"id\": \"511988d7-96ed-4a8a-9855-c1dff2c8bdca\",\n    \"meta\": {\n        \"versionId\": \"f45c4ab6-a496-4ee3-8751-045122193fbe\",\n        \"lastUpdated\": \"2020-11-24T22:17:53.092+00:00\"\n    },\n    \"issue\": [\n        {\n            \"severity\": \"information\",\n            \"code\": \"informational\",\n            \"diagnostics\": \"The operation was successful\"\n        }\n    ]\n}\n"
     ]
    }
   ],
   "source": [
    "print(json.dumps(data, indent=4))"
   ]
  },
  {
   "cell_type": "code",
   "execution_count": null,
   "metadata": {},
   "outputs": [],
   "source": []
  }
 ]
}