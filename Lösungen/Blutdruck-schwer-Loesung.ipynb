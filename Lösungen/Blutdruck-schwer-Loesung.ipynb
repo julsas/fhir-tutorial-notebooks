{
 "metadata": {
  "language_info": {
   "codemirror_mode": {
    "name": "ipython",
    "version": 3
   },
   "file_extension": ".py",
   "mimetype": "text/x-python",
   "name": "python",
   "nbconvert_exporter": "python",
   "pygments_lexer": "ipython3",
   "version": "3.8.1-final"
  },
  "orig_nbformat": 2,
  "kernelspec": {
   "name": "python3",
   "display_name": "Python 3.8.1 64-bit ('venv')",
   "metadata": {
    "interpreter": {
     "hash": "05811747cdc6db740b633287db8d5f6e25d599b80725862b8a083ac8ab8e240c"
    }
   }
  }
 },
 "nbformat": 4,
 "nbformat_minor": 2,
 "cells": [
  {
   "source": [
    "# Erstellen einer Observation Ressource zur Angabe des Blutdrucks"
   ],
   "cell_type": "markdown",
   "metadata": {}
  },
  {
   "cell_type": "code",
   "execution_count": null,
   "metadata": {},
   "outputs": [],
   "source": [
    "!pip install git+git://github.com/smart-on-fhir/client-py.git"
   ]
  },
  {
   "cell_type": "code",
   "execution_count": null,
   "metadata": {},
   "outputs": [],
   "source": [
    "from IPython.display import IFrame\n",
    "import json\n",
    "from fhirclient.models import (\n",
    "    observation,\n",
    "    meta,\n",
    "    codeableconcept,\n",
    "    coding,\n",
    "    fhirreference,\n",
    "    fhirdate,\n",
    "    quantity\n",
    ")"
   ]
  },
  {
   "cell_type": "code",
   "execution_count": null,
   "metadata": {},
   "outputs": [],
   "source": [
    "# Blutdruck Profil in der FHIR Spezifikation.\n",
    "IFrame('https://hl7.org/fhir/bp.html', width=1200, height=330)"
   ]
  },
  {
   "cell_type": "code",
   "execution_count": null,
   "metadata": {},
   "outputs": [],
   "source": [
    "# Instanziieren der Observation\n",
    "my_observation = observation.Observation()"
   ]
  },
  {
   "cell_type": "code",
   "execution_count": null,
   "metadata": {},
   "outputs": [],
   "source": [
    "# Hinzufügen von Metadaten über die Ressource\n",
    "bp_meta = meta.Meta()\n",
    "bp_meta.profile = ['http://hl7.org/fhir/StructureDefinition/bp']\n",
    "my_observation.meta = bp_meta"
   ]
  },
  {
   "cell_type": "code",
   "execution_count": null,
   "metadata": {},
   "outputs": [],
   "source": [
    "# Status der Blutdruckmessung\n",
    "status = 'final'\n",
    "my_observation.status = status"
   ]
  },
  {
   "cell_type": "code",
   "execution_count": null,
   "metadata": {},
   "outputs": [],
   "source": [
    "# Kategorie der Observation\n",
    "category = codeableconcept.CodeableConcept()\n",
    "category_coding = coding.Coding()\n",
    "category_coding.system = 'http://terminology.hl7.org/CodeSystem/observation-category'\n",
    "category_coding.code = 'vital-signs'\n",
    "category.coding = [category_coding]\n",
    "my_observation.category = [category]"
   ]
  },
  {
   "cell_type": "code",
   "execution_count": null,
   "metadata": {},
   "outputs": [],
   "source": [
    "# Der LOINC Code für diese Observation\n",
    "bp_code = codeableconcept.CodeableConcept()\n",
    "code_coding = coding.Coding()\n",
    "code_coding.system = 'http://loinc.org'\n",
    "code_coding.code = '85354-9'\n",
    "code_coding.display = 'Blood pressure panel with all children optional'\n",
    "bp_code.coding = [code_coding]\n",
    "my_observation.code = bp_code"
   ]
  },
  {
   "cell_type": "code",
   "execution_count": null,
   "metadata": {},
   "outputs": [],
   "source": [
    "# Patienten aus Patient-leicht Übung holen\n",
    "import requests\n",
    "\n",
    "fhir_test_server = 'https://vonk.fire.ly'\n",
    "\n",
    "headers = {\n",
    "'Accept':'application/fhir+json; fhirVersion=4.0',\n",
    "'Content-Type':'application/fhir+json; fhirVersion=4.0'\n",
    "}\n",
    "\n",
    "response = requests.get(url=f'{fhir_test_server}/Patient?family=Holmes', headers=headers)"
   ]
  },
  {
   "cell_type": "code",
   "execution_count": null,
   "metadata": {},
   "outputs": [],
   "source": [
    "IFrame(f'http://http.cat/{response.status_code}', width=750, height=600)"
   ]
  },
  {
   "cell_type": "code",
   "execution_count": null,
   "metadata": {},
   "outputs": [],
   "source": [
    "# Response Text als Python Dictionary holen\n",
    "response_dict = json.loads(response.text)\n",
    "response_dict"
   ]
  },
  {
   "cell_type": "code",
   "execution_count": null,
   "metadata": {},
   "outputs": [],
   "source": [
    "# Referenz zum Patienten\n",
    "subject = fhirreference.FHIRReference()\n",
    "pat_id = response_dict['id']\n",
    "subject.reference = f'Patient/{pat_id}'\n",
    "my_observation.subject = subject"
   ]
  },
  {
   "cell_type": "code",
   "execution_count": null,
   "metadata": {},
   "outputs": [],
   "source": [
    "# Zeitpunkt der Messung\n",
    "date = fhirdate.FHIRDate('2020-12-02')\n",
    "my_observation.effectiveDateTime = date"
   ]
  },
  {
   "cell_type": "code",
   "execution_count": null,
   "metadata": {},
   "outputs": [],
   "source": [
    "print(json.dumps(my_observation.as_json(), indent=4))"
   ]
  },
  {
   "source": [
    "## Aufgabe\n",
    "\n",
    "Dieser Blutdruckmessung fehlen ja noch die Messwerte. Überprüfen Sie die Vorgaben vom [FHIR Blurdruck-Profil](https://hl7.org/fhir/bp). \n",
    "\n",
    "------\n",
    "**Ihre Aufgabe:** Implementieren Sie die fehlenden Komponenten, sodass systolischer und diastolischer Wert vorhanden sind. (Tipp: schauen Sie sich das Datenelement ObservationComponent der Observation Ressource an)"
   ],
   "cell_type": "markdown",
   "metadata": {}
  },
  {
   "cell_type": "code",
   "execution_count": null,
   "metadata": {},
   "outputs": [],
   "source": [
    "# systolischer Blutdruck\n",
    "systolic_component = observation.ObservationComponent()\n",
    "\n",
    "systolic_code = codeableconcept.CodeableConcept()\n",
    "systolic_coding = coding.Coding()\n",
    "systolic_coding.system = 'http://loinc.org'\n",
    "systolic_coding.code = '8480-6'\n",
    "systolic_coding.display = 'Systolic blood pressure'\n",
    "systolic_code.coding = [systolic_coding]\n",
    "\n",
    "systolic_component.code = systolic_code\n",
    "\n",
    "systolic_value = quantity.Quantity()\n",
    "systolic_value.value = 120\n",
    "systolic_value.unit = 'mmHg'\n",
    "systolic_value.system = 'http://unitsofmeasure.org'\n",
    "systolic_value.code = 'mm[Hg]'\n",
    "\n",
    "systolic_component.valueQuantity = systolic_value\n",
    "\n",
    "print(json.dumps(systolic_component.as_json(), indent=4))"
   ]
  },
  {
   "cell_type": "code",
   "execution_count": null,
   "metadata": {},
   "outputs": [],
   "source": [
    "# diastolischer Blutdruck\n",
    "diastolic_component = observation.ObservationComponent()\n",
    "\n",
    "diastolic_code = codeableconcept.CodeableConcept()\n",
    "diastolic_coding = coding.Coding()\n",
    "diastolic_coding.system = 'http://loinc.org'\n",
    "diastolic_coding.code = '8462-4'\n",
    "diastolic_coding.display = 'Diastolic blood pressure'\n",
    "diastolic_code.coding = [diastolic_coding]\n",
    "\n",
    "diastolic_component.code = diastolic_code\n",
    "\n",
    "diastolic_value = quantity.Quantity()\n",
    "diastolic_value.value = 80\n",
    "diastolic_value.unit = 'mmHg'\n",
    "diastolic_value.system = 'http://unitsofmeasure.org'\n",
    "diastolic_value.code = 'mm[Hg]'\n",
    "\n",
    "diastolic_component.valueQuantity = diastolic_value\n",
    "\n",
    "print(json.dumps(diastolic_component.as_json(), indent=4))"
   ]
  },
  {
   "cell_type": "code",
   "execution_count": null,
   "metadata": {},
   "outputs": [],
   "source": [
    "my_observation.component = [systolic_component, diastolic_component]"
   ]
  },
  {
   "cell_type": "code",
   "execution_count": null,
   "metadata": {},
   "outputs": [],
   "source": [
    "print(json.dumps(my_observation.as_json(), indent=4))"
   ]
  },
  {
   "cell_type": "code",
   "execution_count": null,
   "metadata": {},
   "outputs": [],
   "source": [
    "# Validieren gegen den FHIR Server\n",
    "import requests"
   ]
  },
  {
   "cell_type": "code",
   "execution_count": null,
   "metadata": {},
   "outputs": [],
   "source": [
    "fhir_test_server = 'https://vonk.fire.ly'\n",
    "\n",
    "headers = {\n",
    "'Accept':'application/fhir+json; fhirVersion=4.0',\n",
    "'Content-Type':'application/fhir+json; fhirVersion=4.0'\n",
    "}"
   ]
  },
  {
   "cell_type": "code",
   "execution_count": null,
   "metadata": {},
   "outputs": [],
   "source": [
    "response = requests.post(f'{fhir_test_server}/Observation/$validate', headers = headers, data = json.dumps(my_observation.as_json()))\n",
    "data = response.json()"
   ]
  },
  {
   "cell_type": "code",
   "execution_count": null,
   "metadata": {},
   "outputs": [],
   "source": [
    "IFrame(f'http://http.cat/{response.status_code}', width=750, height=600)"
   ]
  },
  {
   "cell_type": "code",
   "execution_count": null,
   "metadata": {},
   "outputs": [],
   "source": [
    "print(json.dumps(data, indent=4))"
   ]
  },
  {
   "cell_type": "code",
   "execution_count": null,
   "metadata": {},
   "outputs": [],
   "source": []
  }
 ]
}