{
 "metadata": {
  "language_info": {
   "codemirror_mode": {
    "name": "ipython",
    "version": 3
   },
   "file_extension": ".py",
   "mimetype": "text/x-python",
   "name": "python",
   "nbconvert_exporter": "python",
   "pygments_lexer": "ipython3",
   "version": "3.6.9-final"
  },
  "orig_nbformat": 2,
  "kernelspec": {
   "name": "python3",
   "display_name": "Python 3"
  }
 },
 "nbformat": 4,
 "nbformat_minor": 2,
 "cells": [
  {
   "cell_type": "code",
   "execution_count": null,
   "metadata": {},
   "outputs": [],
   "source": [
    "!pip install git+git://github.com/smart-on-fhir/client-py.git"
   ]
  },
  {
   "source": [
    "Erstellen einer Observation-Ressource zur Angabe des Blutdrucks"
   ],
   "cell_type": "markdown",
   "metadata": {}
  },
  {
   "cell_type": "code",
   "execution_count": 1,
   "metadata": {},
   "outputs": [],
   "source": [
    "from IPython.display import IFrame\n",
    "import json\n",
    "from json import dumps\n",
    "import fhirclient\n",
    "import fhirclient.models.observation as obx\n",
    "import fhirclient.models.meta as ma\n",
    "import fhirclient.models.codeableconcept as cc\n",
    "import fhirclient.models.coding as co\n",
    "import fhirclient.models.fhirreference as fr\n",
    "import fhirclient.models.fhirdate as fd\n",
    "import fhirclient.models.quantity as q"
   ]
  },
  {
   "cell_type": "code",
   "execution_count": 2,
   "metadata": {},
   "outputs": [
    {
     "output_type": "execute_result",
     "data": {
      "text/plain": [
       "<IPython.lib.display.IFrame at 0x7fc54c058a20>"
      ],
      "text/html": "\n        <iframe\n            width=\"1200\"\n            height=\"330\"\n            src=\"https://hl7.org/fhir/bp.html\"\n            frameborder=\"0\"\n            allowfullscreen\n        ></iframe>\n        "
     },
     "metadata": {},
     "execution_count": 2
    }
   ],
   "source": [
    "# Blutdruck Profil in der FHIR Spezifikation.\n",
    "IFrame('https://hl7.org/fhir/bp.html', width=1200, height=330)"
   ]
  },
  {
   "cell_type": "code",
   "execution_count": 3,
   "metadata": {},
   "outputs": [],
   "source": [
    "# Instanziieren der Observation\n",
    "observation = obx.Observation()"
   ]
  },
  {
   "cell_type": "code",
   "execution_count": 4,
   "metadata": {},
   "outputs": [],
   "source": [
    "# Hinzufügen von Metadaten über die Ressource\n",
    "meta = ma.Meta()\n",
    "meta.profile = ['http://hl7.org/fhir/StructureDefinition/bp']\n",
    "observation.meta = meta"
   ]
  },
  {
   "cell_type": "code",
   "execution_count": 5,
   "metadata": {},
   "outputs": [],
   "source": [
    "# Status der Blutdruckmessung\n",
    "status = 'final'\n",
    "observation.status = status"
   ]
  },
  {
   "cell_type": "code",
   "execution_count": 6,
   "metadata": {},
   "outputs": [],
   "source": [
    "# Kategorie der Observation\n",
    "category = cc.CodeableConcept()\n",
    "categoryCoding = co.Coding()\n",
    "categoryCoding.system = 'http://terminology.hl7.org/CodeSystem/observation-category'\n",
    "categoryCoding.code = 'vital-signs'\n",
    "category.coding = [categoryCoding]\n",
    "observation.category = [category]"
   ]
  },
  {
   "cell_type": "code",
   "execution_count": 7,
   "metadata": {},
   "outputs": [],
   "source": [
    "# Der LOINC Code für diese Observation\n",
    "code = cc.CodeableConcept()\n",
    "codeCoding = co.Coding()\n",
    "codeCoding.system = 'http://loinc.org'\n",
    "codeCoding.code = '85354-9'\n",
    "codeCoding.display = 'Blood pressure panel with all children optional'\n",
    "code.coding = [codeCoding]\n",
    "observation.code = code"
   ]
  },
  {
   "cell_type": "code",
   "execution_count": 8,
   "metadata": {},
   "outputs": [],
   "source": [
    "# Referenz zum Patienten\n",
    "subject = fr.FHIRReference()\n",
    "subject.reference = 'Patient/example'\n",
    "observation.subject = subject"
   ]
  },
  {
   "cell_type": "code",
   "execution_count": 9,
   "metadata": {},
   "outputs": [],
   "source": [
    "# Zeitpunkt der Messung\n",
    "date = fd.FHIRDate('2020-12-02')\n",
    "observation.effectiveDateTime = date"
   ]
  },
  {
   "cell_type": "code",
   "execution_count": 10,
   "metadata": {},
   "outputs": [
    {
     "output_type": "stream",
     "name": "stdout",
     "text": [
      "{\n    \"meta\": {\n        \"profile\": [\n            \"http://hl7.org/fhir/StructureDefinition/bp\"\n        ]\n    },\n    \"category\": [\n        {\n            \"coding\": [\n                {\n                    \"code\": \"vital-signs\",\n                    \"system\": \"http://terminology.hl7.org/CodeSystem/observation-category\"\n                }\n            ]\n        }\n    ],\n    \"code\": {\n        \"coding\": [\n            {\n                \"code\": \"85354-9\",\n                \"display\": \"Blood pressure panel with all children optional\",\n                \"system\": \"http://loinc.org\"\n            }\n        ]\n    },\n    \"effectiveDateTime\": \"2020-12-02\",\n    \"status\": \"final\",\n    \"subject\": {\n        \"reference\": \"Patient/example\"\n    },\n    \"resourceType\": \"Observation\"\n}\n"
     ]
    }
   ],
   "source": [
    "print(json.dumps(observation.as_json(), indent=4))"
   ]
  },
  {
   "source": [
    "Aufgabe"
   ],
   "cell_type": "markdown",
   "metadata": {}
  },
  {
   "cell_type": "code",
   "execution_count": 11,
   "metadata": {},
   "outputs": [],
   "source": [
    "# Noch fehlen bei dieser Blutdruckmessung die Messwerte.\n",
    "# Überprüfen Sie die Vorgaben im FHIR Blutdruck-Profil: https://hl7.org/fhir/bp.html\n",
    "# Implementieren Sie die fehlenden Komponenten, sodass systolischer- und diastolischer-Wert vorhanden sind. \n",
    "# Tipp:\n",
    "# component = obx.ObservationComponent()"
   ]
  },
  {
   "cell_type": "code",
   "execution_count": 13,
   "metadata": {},
   "outputs": [],
   "source": [
    "# systolischer Blutdruck\n",
    "systolicComponent = obx.ObservationComponent()\n",
    "\n",
    "systolicCode = cc.CodeableConcept()\n",
    "systolicCodeCoding = co.Coding()\n",
    "systolicCodeCoding.system = 'http://loinc.org'\n",
    "systolicCodeCoding.code = '8480-6'\n",
    "systolicCodeCoding.display = 'Systolic blood pressure'\n",
    "systolicCode.coding = [systolicCodeCoding]\n",
    "\n",
    "systolicComponent.code = systolicCode\n",
    "\n",
    "systolicValue = q.Quantity()\n",
    "systolicValue.value = 120\n",
    "systolicValue.unit = 'mmHg'\n",
    "systolicValue.system = 'http://unitsofmeasure.org'\n",
    "systolicValue.code = 'mm[Hg]'\n",
    "\n",
    "systolicComponent.valueQuantity = systolicValue\n",
    "\n",
    "# diastolischer Blutdruck\n",
    "diastolicComponent = obx.ObservationComponent()\n",
    "\n",
    "diastolicCode = cc.CodeableConcept()\n",
    "diastolicCodeCoding = co.Coding()\n",
    "diastolicCodeCoding.system = 'http://loinc.org'\n",
    "diastolicCodeCoding.code = '8462-4'\n",
    "diastolicCodeCoding.display = 'Diastolic blood pressure'\n",
    "diastolicCode.coding = [diastolicCodeCoding]\n",
    "\n",
    "diastolicComponent.code = diastolicCode\n",
    "\n",
    "diastolicValue = q.Quantity()\n",
    "diastolicValue.value = 80\n",
    "diastolicValue.unit = 'mmHg'\n",
    "diastolicValue.system = 'http://unitsofmeasure.org'\n",
    "diastolicValue.code = 'mm[Hg]'\n",
    "\n",
    "diastolicComponent.valueQuantity = diastolicValue\n",
    "\n",
    "observation.component = [systolicComponent, diastolicComponent]"
   ]
  },
  {
   "cell_type": "code",
   "execution_count": 14,
   "metadata": {},
   "outputs": [
    {
     "output_type": "stream",
     "name": "stdout",
     "text": [
      "{\n    \"meta\": {\n        \"profile\": [\n            \"http://hl7.org/fhir/StructureDefinition/bp\"\n        ]\n    },\n    \"category\": [\n        {\n            \"coding\": [\n                {\n                    \"code\": \"vital-signs\",\n                    \"system\": \"http://terminology.hl7.org/CodeSystem/observation-category\"\n                }\n            ]\n        }\n    ],\n    \"code\": {\n        \"coding\": [\n            {\n                \"code\": \"85354-9\",\n                \"display\": \"Blood pressure panel with all children optional\",\n                \"system\": \"http://loinc.org\"\n            }\n        ]\n    },\n    \"component\": [\n        {\n            \"code\": {\n                \"coding\": [\n                    {\n                        \"code\": \"8480-6\",\n                        \"display\": \"Systolic blood pressure\",\n                        \"system\": \"http://loinc.org\"\n                    }\n                ]\n            },\n            \"valueQuantity\": {\n                \"code\": \"mm[Hg]\",\n                \"system\": \"http://unitsofmeasure.org\",\n                \"unit\": \"mmHg\",\n                \"value\": 120\n            }\n        },\n        {\n            \"code\": {\n                \"coding\": [\n                    {\n                        \"code\": \"8462-4\",\n                        \"display\": \"Diastolic blood pressure\",\n                        \"system\": \"http://loinc.org\"\n                    }\n                ]\n            },\n            \"valueQuantity\": {\n                \"code\": \"mm[Hg]\",\n                \"system\": \"http://unitsofmeasure.org\",\n                \"unit\": \"mmHg\",\n                \"value\": 80\n            }\n        }\n    ],\n    \"effectiveDateTime\": \"2020-12-02\",\n    \"status\": \"final\",\n    \"subject\": {\n        \"reference\": \"Patient/example\"\n    },\n    \"resourceType\": \"Observation\"\n}\n"
     ]
    }
   ],
   "source": [
    "print(json.dumps(observation.as_json(), indent=4))"
   ]
  },
  {
   "cell_type": "code",
   "execution_count": 15,
   "metadata": {},
   "outputs": [],
   "source": [
    "# Validieren gegen den FHIR Server\n",
    "import requests\n",
    "from requests import get, post, put"
   ]
  },
  {
   "cell_type": "code",
   "execution_count": 16,
   "metadata": {},
   "outputs": [],
   "source": [
    "fhir_test_server = 'https://vonk.fire.ly'\n",
    "\n",
    "headers = {\n",
    "'Accept':'application/fhir+json; fhirVersion=4.0',\n",
    "'Content-Type':'application/fhir+json; fhirVersion=4.0'\n",
    "}"
   ]
  },
  {
   "cell_type": "code",
   "execution_count": 17,
   "metadata": {},
   "outputs": [],
   "source": [
    "response = requests.post(f'{fhir_test_server}/Observation/$validate', headers = headers, data = dumps(observation.as_json()))\n",
    "data = response.json()"
   ]
  },
  {
   "cell_type": "code",
   "execution_count": 18,
   "metadata": {},
   "outputs": [
    {
     "output_type": "stream",
     "name": "stdout",
     "text": [
      "200\n"
     ]
    }
   ],
   "source": [
    "print(response.status_code)"
   ]
  },
  {
   "cell_type": "code",
   "execution_count": 19,
   "metadata": {},
   "outputs": [
    {
     "output_type": "stream",
     "name": "stdout",
     "text": [
      "{\n    \"resourceType\": \"OperationOutcome\",\n    \"id\": \"0b80490f-3628-415a-91e6-8e8b37cb34b9\",\n    \"meta\": {\n        \"versionId\": \"2055bf62-e033-4893-916f-a77a4290721b\",\n        \"lastUpdated\": \"2020-11-24T21:49:14.878+00:00\"\n    },\n    \"issue\": [\n        {\n            \"severity\": \"information\",\n            \"code\": \"informational\",\n            \"diagnostics\": \"The operation was successful\"\n        }\n    ]\n}\n"
     ]
    }
   ],
   "source": [
    "print(json.dumps(data, indent=4))"
   ]
  },
  {
   "cell_type": "code",
   "execution_count": null,
   "metadata": {},
   "outputs": [],
   "source": []
  }
 ]
}