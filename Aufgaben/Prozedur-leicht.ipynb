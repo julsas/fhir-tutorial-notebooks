{
 "metadata": {
  "language_info": {
   "codemirror_mode": {
    "name": "ipython",
    "version": 3
   },
   "file_extension": ".py",
   "mimetype": "text/x-python",
   "name": "python",
   "nbconvert_exporter": "python",
   "pygments_lexer": "ipython3",
   "version": "3.7.1-final"
  },
  "orig_nbformat": 2,
  "kernelspec": {
   "name": "python3",
   "display_name": "Python 3"
  }
 },
 "nbformat": 4,
 "nbformat_minor": 2,
 "cells": [
  {
   "source": [
    "# Erstellen einer FHIR Procedure-Ressource"
   ],
   "cell_type": "markdown",
   "metadata": {}
  },
  {
   "cell_type": "code",
   "execution_count": null,
   "metadata": {},
   "outputs": [],
   "source": [
    "!pip install git+git://github.com/smart-on-fhir/client-py.git"
   ]
  },
  {
   "cell_type": "code",
   "execution_count": 2,
   "metadata": {},
   "outputs": [],
   "source": [
    "from IPython.display import IFrame\n",
    "import json\n",
    "import requests\n",
    "from fhirclient.models import (\n",
    "    procedure,\n",
    "    codeableconcept,\n",
    "    coding,\n",
    "    fhirreference,\n",
    "    fhirdate\n",
    ")"
   ]
  },
  {
   "cell_type": "code",
   "execution_count": null,
   "metadata": {},
   "outputs": [],
   "source": [
    "# Procedure Ressource in der FHIR Spezifikation.\n",
    "IFrame('https://hl7.org/fhir/procedure.html', width=1200, height=330)"
   ]
  },
  {
   "source": [
    "### Zur Orientierung bzgl. der verwendeten Codesysteme nutzen Sie das [Prozedur-Profil der Medizininformatik-Initiative](https://simplifier.net/medizininformatikinitiative-modulprozeduren/prozedur)"
   ],
   "cell_type": "markdown",
   "metadata": {}
  },
  {
   "cell_type": "code",
   "execution_count": 3,
   "metadata": {},
   "outputs": [],
   "source": [
    "# Instanziieren des Prozedur-Objektes\n",
    "my_procedure = procedure.Procedure()"
   ]
  },
  {
   "cell_type": "code",
   "execution_count": 4,
   "metadata": {},
   "outputs": [],
   "source": [
    "# Setzen das Status auf 'completed' für eine abgeschlossene Prozedur\n",
    "status = 'completed'\n",
    "my_procedure.status = status"
   ]
  },
  {
   "cell_type": "code",
   "execution_count": null,
   "metadata": {},
   "outputs": [],
   "source": [
    "# Vergeben eines Codes für die Prozedur aus dem Operationen- und Prozedurenschlüssel Version 2020\n",
    "ops_code = codeableconcept.CodeableConcept()\n",
    "ops_coding = coding.Coding()\n",
    "ops_coding.system = 'http://fhir.de/CodeSystem/dimdi/ops'\n",
    "ops_coding.version = '2020'\n",
    "ops_coding.code = '5-470'\n",
    "ops_coding.display = 'Appendektomie'\n",
    "ops_code.coding = [ops_coding]\n",
    "my_procedure.code = ops_code\n"
   ]
  },
  {
   "cell_type": "code",
   "execution_count": null,
   "metadata": {},
   "outputs": [],
   "source": [
    "# Referenz auf den Patienten\n",
    "subject = fhirreference.FHIRReference()\n",
    "subject.reference = 'Patient/example'\n",
    "procedure.subject = subject"
   ]
  },
  {
   "cell_type": "code",
   "execution_count": null,
   "metadata": {},
   "outputs": [],
   "source": [
    "print(json.dumps(procedure.as_json(), indent=4))"
   ]
  },
  {
   "cell_type": "code",
   "execution_count": null,
   "metadata": {},
   "outputs": [],
   "source": [
    "# To-Do: Implementieren Sie den Durchführungszeitraum mit Start- und Endzeitpunkt der Prozedur\n",
    "# Tipp: \n",
    "import fhirclient.models.period as pd  "
   ]
  },
  {
   "cell_type": "code",
   "execution_count": null,
   "metadata": {},
   "outputs": [],
   "source": []
  }
 ]
}