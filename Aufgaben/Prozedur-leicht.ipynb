{
 "metadata": {
  "language_info": {
   "codemirror_mode": {
    "name": "ipython",
    "version": 3
   },
   "file_extension": ".py",
   "mimetype": "text/x-python",
   "name": "python",
   "nbconvert_exporter": "python",
   "pygments_lexer": "ipython3",
   "version": "3.9.2-final"
  },
  "orig_nbformat": 2,
  "kernelspec": {
   "name": "python3",
   "display_name": "Python 3.9.2 64-bit ('.venv')",
   "metadata": {
    "interpreter": {
     "hash": "bf2d160133f13add289be54c719e2f067335d9af629128855041151e560ac898"
    }
   }
  }
 },
 "nbformat": 4,
 "nbformat_minor": 2,
 "cells": [
  {
   "source": [
    "# Erstellen einer FHIR Procedure-Ressource"
   ],
   "cell_type": "markdown",
   "metadata": {}
  },
  {
   "cell_type": "code",
   "execution_count": null,
   "metadata": {},
   "outputs": [],
   "source": [
    "!pip install git+git://github.com/smart-on-fhir/client-py.git"
   ]
  },
  {
   "cell_type": "code",
   "execution_count": null,
   "metadata": {},
   "outputs": [],
   "source": [
    "from IPython.display import IFrame\n",
    "import json\n",
    "import requests\n",
    "from fhirclient.models import (\n",
    "    procedure,\n",
    "    codeableconcept,\n",
    "    coding,\n",
    "    fhirreference,\n",
    "    fhirdate\n",
    ")"
   ]
  },
  {
   "cell_type": "code",
   "execution_count": null,
   "metadata": {},
   "outputs": [],
   "source": [
    "# Procedure Ressource in der FHIR Spezifikation.\n",
    "IFrame('https://hl7.org/fhir/procedure.html', width=1200, height=330)"
   ]
  },
  {
   "source": [
    "### Zur Orientierung bzgl. der verwendeten Codesysteme nutzen Sie das [Prozedur-Profil der Medizininformatik-Initiative](https://simplifier.net/medizininformatikinitiative-modulprozeduren/prozedur)"
   ],
   "cell_type": "markdown",
   "metadata": {}
  },
  {
   "cell_type": "code",
   "execution_count": null,
   "metadata": {},
   "outputs": [],
   "source": [
    "# Instanziieren des Prozedur-Objektes\n",
    "my_procedure = procedure.Procedure()"
   ]
  },
  {
   "cell_type": "code",
   "execution_count": null,
   "metadata": {},
   "outputs": [],
   "source": [
    "# Setzen das Status auf 'completed' für eine abgeschlossene Prozedur\n",
    "status = 'completed'\n",
    "my_procedure.status = status"
   ]
  },
  {
   "cell_type": "code",
   "execution_count": null,
   "metadata": {},
   "outputs": [],
   "source": [
    "# Vergeben eines der Codes für die Prozedur aus dem Operationen- und Prozedurenschlüssel Version 2020\n",
    "ops_code = codeableconcept.CodeableConcept()\n",
    "ops_coding = coding.Coding()\n",
    "ops_coding.system = 'http://fhir.de/CodeSystem/dimdi/ops'\n",
    "ops_coding.version = '2020'\n",
    "ops_coding.code = '5-470'\n",
    "ops_coding.display = 'Appendektomie'\n",
    "ops_code.coding = [ops_coding]\n",
    "my_procedure.code = ops_code"
   ]
  },
  {
   "source": [
    "### BONUS: Stellen Sie die Referenz zum zuvor hochgeladenen Patienten her"
   ],
   "cell_type": "markdown",
   "metadata": {}
  },
  {
   "cell_type": "code",
   "execution_count": null,
   "metadata": {},
   "outputs": [],
   "source": [
    "subject = fhirreference.FHIRReference()\n",
    "subject.reference = 'Patient/example'\n",
    "my_procedure.subject = subject"
   ]
  },
  {
   "cell_type": "code",
   "execution_count": null,
   "metadata": {},
   "outputs": [],
   "source": [
    "print(json.dumps(my_procedure.as_json(), indent=4))"
   ]
  },
  {
   "source": [
    "## Aufgaben\n",
    "1. Implementieren Sie den Durchführungszeitraum mit Start- und Endzeitpunkt der Prozedur (Tipp: zeitlicher Verlauf mit Start und Ende klingt nach Period!)\n",
    "2. Lassen Sie die Ressource vom Server validieren und laden Sie diese in den Testserver hoch\n",
    "------\n",
    "Bonus: Stellen Sie die Referenz zum zuvor hochgeladenen Patienten her. Zur Zeit ist die Referenz auf den \"Dummy-Wert\" 'Patient/example' gesetzt. Nutzen Sie hierfür die vorgestellten FHIR-Search Operatoren. "
   ],
   "cell_type": "markdown",
   "metadata": {}
  },
  {
   "cell_type": "code",
   "execution_count": null,
   "metadata": {},
   "outputs": [],
   "source": []
  }
 ]
}