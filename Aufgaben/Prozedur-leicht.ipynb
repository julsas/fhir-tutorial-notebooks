{
 "metadata": {
  "language_info": {
   "codemirror_mode": {
    "name": "ipython",
    "version": 3
   },
   "file_extension": ".py",
   "mimetype": "text/x-python",
   "name": "python",
   "nbconvert_exporter": "python",
   "pygments_lexer": "ipython3",
   "version": "3.6.9-final"
  },
  "orig_nbformat": 2,
  "kernelspec": {
   "name": "python3",
   "display_name": "Python 3"
  }
 },
 "nbformat": 4,
 "nbformat_minor": 2,
 "cells": [
  {
   "cell_type": "code",
   "execution_count": null,
   "metadata": {},
   "outputs": [],
   "source": [
    "!pip install git+git://github.com/smart-on-fhir/client-py.git"
   ]
  },
  {
   "source": [
    "Erstellen einer FHIR Procedure-Ressource"
   ],
   "cell_type": "markdown",
   "metadata": {}
  },
  {
   "cell_type": "code",
   "execution_count": null,
   "metadata": {},
   "outputs": [],
   "source": [
    "from IPython.display import IFrame\n",
    "import json\n",
    "from json import dumps\n",
    "import requests\n",
    "from requests import get, post, put\n",
    "import fhirclient\n",
    "import fhirclient.models.procedure as pdr \n",
    "import fhirclient.models.codeableconcept as codeableconcept\n",
    "import fhirclient.models.coding as co\n",
    "import fhirclient.models.fhirreference as fhirreference\n",
    "import fhirclient.models.fhirdate as fhirdate"
   ]
  },
  {
   "cell_type": "code",
   "execution_count": null,
   "metadata": {},
   "outputs": [],
   "source": [
    "# Procedure Ressource in der FHIR Spezifikation.\n",
    "IFrame('https://hl7.org/fhir/procedure.html', width=1200, height=330)"
   ]
  },
  {
   "source": [
    "# Zur Orientierung bzgl. der verwendeten Codesysteme - das Prozedur-Profil der Medizininformatik-Initiative:\n",
    "# https://simplifier.net/medizininformatikinitiative-modulprozeduren/prozedur"
   ],
   "cell_type": "code",
   "metadata": {},
   "execution_count": null,
   "outputs": []
  },
  {
   "cell_type": "code",
   "execution_count": null,
   "metadata": {},
   "outputs": [],
   "source": [
    "# Instanziieren des Prozedur-Objektes\n",
    "procedure = pdr.Procedure()"
   ]
  },
  {
   "cell_type": "code",
   "execution_count": null,
   "metadata": {},
   "outputs": [],
   "source": [
    "# Setzen des Status auf 'completed' für eine abgeschlossene Prozedur\n",
    "status = 'completed'\n",
    "procedure.status = status"
   ]
  },
  {
   "cell_type": "code",
   "execution_count": null,
   "metadata": {},
   "outputs": [],
   "source": [
    "# Vergeben eines Codes für die Prozedur aus dem Operationen- und Prozedurenschlüssel Version 2020\n",
    "code = codeableconcept.CodeableConcept()\n",
    "coding = co.Coding()\n",
    "coding.system = 'http://fhir.de/CodeSystem/dimdi/ops'\n",
    "coding.version = '2020'\n",
    "coding.code = '5-470'\n",
    "coding.display = 'Appendektomie'\n",
    "code.coding = [coding]\n",
    "procedure.code = code\n"
   ]
  },
  {
   "cell_type": "code",
   "execution_count": null,
   "metadata": {},
   "outputs": [],
   "source": [
    "# Referenz auf den Patienten\n",
    "subject = fhirreference.FHIRReference()\n",
    "subject.reference = 'Patient/example'\n",
    "procedure.subject = subject"
   ]
  },
  {
   "cell_type": "code",
   "execution_count": null,
   "metadata": {},
   "outputs": [],
   "source": [
    "print(json.dumps(procedure.as_json(), indent=4))"
   ]
  },
  {
   "cell_type": "code",
   "execution_count": null,
   "metadata": {},
   "outputs": [],
   "source": [
    "# To-Do: Implementieren Sie den Durchführungszeitraum mit Start- und Endzeitpunkt der Prozedur\n",
    "# Tipp: \n",
    "import fhirclient.models.period as pd  "
   ]
  },
  {
   "cell_type": "code",
   "execution_count": null,
   "metadata": {},
   "outputs": [],
   "source": []
  }
 ]
}