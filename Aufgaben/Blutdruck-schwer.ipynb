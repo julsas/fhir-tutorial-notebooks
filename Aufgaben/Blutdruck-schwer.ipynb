{
 "cells": [
  {
   "cell_type": "markdown",
   "metadata": {},
   "source": [
    "# Erstellen einer Observation-Ressource zur Angabe des Blutdrucks"
   ]
  },
  {
   "cell_type": "code",
   "execution_count": null,
   "metadata": {
    "vscode": {
     "languageId": "plaintext"
    }
   },
   "outputs": [],
   "source": [
    "!pip install git+https://github.com/smart-on-fhir/client-py.git"
   ]
  },
  {
   "cell_type": "code",
   "execution_count": null,
   "metadata": {
    "vscode": {
     "languageId": "plaintext"
    }
   },
   "outputs": [],
   "source": [
    "from IPython.display import IFrame\n",
    "import json\n",
    "from fhirclient.models import (\n",
    "    observation,\n",
    "    meta,\n",
    "    codeableconcept,\n",
    "    coding,\n",
    "    fhirreference,\n",
    "    fhirdate,\n",
    "    quantity\n",
    ")"
   ]
  },
  {
   "cell_type": "code",
   "execution_count": null,
   "metadata": {
    "vscode": {
     "languageId": "plaintext"
    }
   },
   "outputs": [],
   "source": [
    "# Blutdruck Profil in der FHIR Spezifikation.\n",
    "IFrame('https://hl7.org/fhir/bp.html', width=1200, height=330)"
   ]
  },
  {
   "cell_type": "code",
   "execution_count": null,
   "metadata": {},
   "outputs": [],
   "source": [
    "# Instanziieren der Observation\n",
    "my_observation = observation.Observation()"
   ]
  },
  {
   "cell_type": "code",
   "execution_count": null,
   "metadata": {},
   "outputs": [],
   "source": [
    "# Hinzufügen von Metadaten über die Ressource\n",
    "bp_meta = meta.Meta()\n",
    "bp_meta.profile = ['http://hl7.org/fhir/StructureDefinition/bp']\n",
    "my_observation.meta = bp_meta"
   ]
  },
  {
   "cell_type": "code",
   "execution_count": null,
   "metadata": {},
   "outputs": [],
   "source": [
    "# Status der Blutdruckmessung\n",
    "status = 'final'\n",
    "my_observation.status = status"
   ]
  },
  {
   "cell_type": "code",
   "execution_count": null,
   "metadata": {},
   "outputs": [],
   "source": [
    "# Kategorie der Observation\n",
    "category = codeableconcept.CodeableConcept()\n",
    "category_coding = coding.Coding()\n",
    "category_coding.system = 'http://terminology.hl7.org/CodeSystem/observation-category'\n",
    "category_coding.code = 'vital-signs'\n",
    "category.coding = [category_coding]\n",
    "my_observation.category = [category]"
   ]
  },
  {
   "cell_type": "code",
   "execution_count": null,
   "metadata": {},
   "outputs": [],
   "source": [
    "# Der LOINC Code für diese Observation\n",
    "bp_code = codeableconcept.CodeableConcept()\n",
    "code_coding = coding.Coding()\n",
    "code_coding.system = 'http://loinc.org'\n",
    "code_coding.code = '85354-9'\n",
    "code_coding.display = 'Blood pressure panel with all children optional'\n",
    "bp_code.coding = [code_coding]\n",
    "my_observation.code = bp_code"
   ]
  },
  {
   "cell_type": "code",
   "execution_count": null,
   "metadata": {},
   "outputs": [],
   "source": [
    "# Referenz zum Patienten\n",
    "subject = fhirreference.FHIRReference()\n",
    "subject.reference = 'Patient/example'\n",
    "my_observation.subject = subject"
   ]
  },
  {
   "cell_type": "code",
   "execution_count": null,
   "metadata": {},
   "outputs": [],
   "source": [
    "# Zeitpunkt der Messung\n",
    "measurement_date = fhirdate.FHIRDate('2020-12-02')\n",
    "my_observation.effectiveDateTime = measurement_date"
   ]
  },
  {
   "cell_type": "code",
   "execution_count": null,
   "metadata": {},
   "outputs": [],
   "source": [
    "print(json.dumps(my_observation.as_json(), indent=4))"
   ]
  },
  {
   "cell_type": "markdown",
   "metadata": {},
   "source": [
    "## Aufgabe\n",
    "\n",
    "Dieser Blutdruckmessung fehlen ja noch die Messwerte. Überprüfen Sie die Vorgaben vom [FHIR Blurdruck-Profil](https://hl7.org/fhir/bp). \n",
    "\n",
    "------\n",
    "**Ihre Aufgabe:** Implementieren Sie die fehlenden Komponenten, sodass systolischer und diastolischer Wert vorhanden sind. (Tipp: schauen Sie sich das Datenelement ObservationComponent der Observation Ressource an)"
   ]
  },
  {
   "cell_type": "code",
   "execution_count": null,
   "metadata": {},
   "outputs": [],
   "source": []
  }
 ],
 "metadata": {
  "kernelspec": {
   "display_name": "Python 3.9.2 64-bit ('.venv')",
   "metadata": {
    "interpreter": {
     "hash": "bf2d160133f13add289be54c719e2f067335d9af629128855041151e560ac898"
    }
   },
   "name": "python3"
  },
  "language_info": {
   "codemirror_mode": {
    "name": "ipython",
    "version": 3
   },
   "file_extension": ".py",
   "mimetype": "text/x-python",
   "name": "python",
   "nbconvert_exporter": "python",
   "pygments_lexer": "ipython3",
   "version": "3.9.2-final"
  },
  "orig_nbformat": 2
 },
 "nbformat": 4,
 "nbformat_minor": 2
}
