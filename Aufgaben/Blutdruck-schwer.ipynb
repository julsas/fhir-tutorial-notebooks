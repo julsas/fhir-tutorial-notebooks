{
 "metadata": {
  "language_info": {
   "codemirror_mode": {
    "name": "ipython",
    "version": 3
   },
   "file_extension": ".py",
   "mimetype": "text/x-python",
   "name": "python",
   "nbconvert_exporter": "python",
   "pygments_lexer": "ipython3",
   "version": "3.6.9-final"
  },
  "orig_nbformat": 2,
  "kernelspec": {
   "name": "python3",
   "display_name": "Python 3"
  }
 },
 "nbformat": 4,
 "nbformat_minor": 2,
 "cells": [
  {
   "cell_type": "code",
   "execution_count": null,
   "metadata": {},
   "outputs": [],
   "source": [
    "!pip install git+git://github.com/smart-on-fhir/client-py.git"
   ]
  },
  {
   "source": [
    "Erstellen einer Observation-Ressource zur Angabe des Blutdrucks"
   ],
   "cell_type": "markdown",
   "metadata": {}
  },
  {
   "cell_type": "code",
   "execution_count": null,
   "metadata": {},
   "outputs": [],
   "source": [
    "from IPython.display import IFrame\n",
    "import json\n",
    "from json import dumps\n",
    "import fhirclient\n",
    "import fhirclient.models.observation as obx\n",
    "import fhirclient.models.meta as ma\n",
    "import fhirclient.models.codeableconcept as cc\n",
    "import fhirclient.models.coding as co\n",
    "import fhirclient.models.fhirreference as fr\n",
    "import fhirclient.models.fhirdate as fd\n",
    "import fhirclient.models.quantity as q"
   ]
  },
  {
   "cell_type": "code",
   "execution_count": null,
   "metadata": {},
   "outputs": [],
   "source": [
    "# Blutdruck Profil in der FHIR Spezifikation.\n",
    "IFrame('https://hl7.org/fhir/bp.html', width=1200, height=330)"
   ]
  },
  {
   "cell_type": "code",
   "execution_count": null,
   "metadata": {},
   "outputs": [],
   "source": [
    "# Instanziieren der Observation\n",
    "observation = obx.Observation()"
   ]
  },
  {
   "cell_type": "code",
   "execution_count": null,
   "metadata": {},
   "outputs": [],
   "source": [
    "# Hinzufügen von Metadaten über die Ressource\n",
    "meta = ma.Meta()\n",
    "meta.profile = ['http://hl7.org/fhir/StructureDefinition/bp']\n",
    "observation.meta = meta"
   ]
  },
  {
   "cell_type": "code",
   "execution_count": null,
   "metadata": {},
   "outputs": [],
   "source": [
    "# Status der Blutdruckmessung\n",
    "status = 'final'\n",
    "observation.status = status"
   ]
  },
  {
   "cell_type": "code",
   "execution_count": null,
   "metadata": {},
   "outputs": [],
   "source": [
    "# Kategorie der Observation\n",
    "category = cc.CodeableConcept()\n",
    "categoryCoding = co.Coding()\n",
    "categoryCoding.system = 'http://terminology.hl7.org/CodeSystem/observation-category'\n",
    "categoryCoding.code = 'vital-signs'\n",
    "category.coding = [categoryCoding]\n",
    "observation.category = [category]"
   ]
  },
  {
   "cell_type": "code",
   "execution_count": null,
   "metadata": {},
   "outputs": [],
   "source": [
    "# Der LOINC Code für diese Observation\n",
    "code = cc.CodeableConcept()\n",
    "codeCoding = co.Coding()\n",
    "codeCoding.system = 'http://loinc.org'\n",
    "codeCoding.code = '85354-9'\n",
    "codeCoding.display = 'Blood pressure panel with all children optional'\n",
    "code.coding = [codeCoding]\n",
    "observation.code = code"
   ]
  },
  {
   "cell_type": "code",
   "execution_count": null,
   "metadata": {},
   "outputs": [],
   "source": [
    "# Referenz zum Patienten\n",
    "subject = fr.FHIRReference()\n",
    "subject.reference = 'Patient/example'\n",
    "observation.subject = subject"
   ]
  },
  {
   "cell_type": "code",
   "execution_count": null,
   "metadata": {},
   "outputs": [],
   "source": [
    "# Zeitpunkt der Messung\n",
    "date = fd.FHIRDate('2020-12-02')\n",
    "observation.effectiveDateTime = date"
   ]
  },
  {
   "cell_type": "code",
   "execution_count": null,
   "metadata": {},
   "outputs": [],
   "source": [
    "print(json.dumps(observation.as_json(), indent=4))"
   ]
  },
  {
   "source": [
    "Aufgabe"
   ],
   "cell_type": "markdown",
   "metadata": {}
  },
  {
   "cell_type": "code",
   "execution_count": null,
   "metadata": {},
   "outputs": [],
   "source": [
    "# Noch fehlen bei dieser Blutdruckmessung die Messwerte.\n",
    "# Überprüfen Sie Vorgaben im FHIR Blutdruck-Profil: https://hl7.org/fhir/bp.html\n",
    "# Implementieren Sie die fehlenden Komponenten, sodass systolischer- und diastolischer-Wert vorhanden sind. \n",
    "# Tipp:\n",
    "component = obx.ObservationComponent()"
   ]
  },
  {
   "cell_type": "code",
   "execution_count": null,
   "metadata": {},
   "outputs": [],
   "source": []
  }
 ]
}