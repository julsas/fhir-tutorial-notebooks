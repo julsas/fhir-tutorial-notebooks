{
 "metadata": {
  "language_info": {
   "codemirror_mode": {
    "name": "ipython",
    "version": 3
   },
   "file_extension": ".py",
   "mimetype": "text/x-python",
   "name": "python",
   "nbconvert_exporter": "python",
   "pygments_lexer": "ipython3",
   "version": "3.6.9-final"
  },
  "orig_nbformat": 2,
  "kernelspec": {
   "name": "python3",
   "display_name": "Python 3"
  }
 },
 "nbformat": 4,
 "nbformat_minor": 2,
 "cells": [
  {
   "cell_type": "code",
   "execution_count": null,
   "metadata": {},
   "outputs": [],
   "source": [
    "!pip install git+git://github.com/smart-on-fhir/client-py.git"
   ]
  },
  {
   "cell_type": "code",
   "execution_count": null,
   "metadata": {},
   "outputs": [],
   "source": [
    "from IPython.display import IFrame\n",
    "import json\n",
    "from json import dumps\n",
    "import fhirclient\n",
    "import fhirclient.models.patient as p\n",
    "import fhirclient.models.humanname as hn\n",
    "import fhirclient.models.fhirdate as fd"
   ]
  },
  {
   "cell_type": "code",
   "execution_count": null,
   "metadata": {},
   "outputs": [],
   "source": [
    "# Patient Ressource in der FHIR Spezifikation.\n",
    "IFrame('https://hl7.org/fhir/patient.html#resource', width=1200, height=330)"
   ]
  },
  {
   "cell_type": "code",
   "execution_count": null,
   "metadata": {},
   "outputs": [],
   "source": [
    "# Instanziieren eines Patienten\n",
    "patient = p.Patient()"
   ]
  },
  {
   "cell_type": "code",
   "execution_count": null,
   "metadata": {},
   "outputs": [],
   "source": [
    "# Name\n",
    "name = hn.HumanName()\n",
    "name.family = 'Mustermann'\n",
    "name.given = ['Erika']\n",
    "name.text = 'Erika Mustermann'\n",
    "name.use = 'official'\n",
    "patient.name = [name]"
   ]
  },
  {
   "cell_type": "code",
   "execution_count": null,
   "metadata": {},
   "outputs": [],
   "source": [
    "# Geburtsdatum\n",
    "dateOfBirth = fd.FHIRDate('1973-12-10')\n",
    "patient.birthDate = dateOfBirth"
   ]
  },
  {
   "cell_type": "code",
   "execution_count": null,
   "metadata": {},
   "outputs": [],
   "source": [
    "print(json.dumps(patient.as_json(), indent=4))"
   ]
  },
  {
   "source": [
    "Aufgabe"
   ],
   "cell_type": "markdown",
   "metadata": {}
  },
  {
   "cell_type": "code",
   "execution_count": null,
   "metadata": {},
   "outputs": [],
   "source": [
    "# To-Do: Implementieren Sie das Geschlecht der Patientin.\n",
    "# Überprüfen Sie Ihr Ergebnis anschließend, indem sie die Ressource gegen den Testserver validieren. \n"
   ]
  }
 ]
}