{
 "metadata": {
  "language_info": {
   "codemirror_mode": {
    "name": "ipython",
    "version": 3
   },
   "file_extension": ".py",
   "mimetype": "text/x-python",
   "name": "python",
   "nbconvert_exporter": "python",
   "pygments_lexer": "ipython3",
   "version": "3.9.2-final"
  },
  "orig_nbformat": 2,
  "kernelspec": {
   "name": "python3",
   "display_name": "Python 3.9.2 64-bit ('.venv')",
   "metadata": {
    "interpreter": {
     "hash": "bf2d160133f13add289be54c719e2f067335d9af629128855041151e560ac898"
    }
   }
  }
 },
 "nbformat": 4,
 "nbformat_minor": 2,
 "cells": [
  {
   "source": [
    "# Erstellen einer FHIR Observation Ressource mit dem Python fhirclient zur Angabe der Herzfrequenz\n",
    "Um den Python fhirclient zu installieren kann man entweder die aktuellste Version aus dem [GitHub Repository](https://github.com/smart-on-fhir/client-py) nehmen oder die zuletzt auf [PyPi](https://pypi.org/project/fhirclient/) veröffentlichte Version. Da diese jedoch noch STU-3 ist, nutzen wir für die folgenden Beispiele die GitHub Version (R4)."
   ],
   "cell_type": "markdown",
   "metadata": {}
  },
  {
   "cell_type": "code",
   "execution_count": null,
   "metadata": {},
   "outputs": [],
   "source": [
    "!pip install git+git://github.com/smart-on-fhir/client-py.git"
   ]
  },
  {
   "cell_type": "code",
   "execution_count": null,
   "metadata": {},
   "outputs": [],
   "source": [
    "from IPython.display import IFrame\n",
    "import json\n",
    "from fhirclient.models import (\n",
    "    patient,\n",
    "    observation\n",
    ")"
   ]
  },
  {
   "cell_type": "code",
   "execution_count": null,
   "metadata": {},
   "outputs": [],
   "source": [
    "# Instanziieren einer Observation\n",
    "my_observation = observation.Observation()"
   ]
  },
  {
   "source": [
    "## Mit der Observation Ressource vertraut machen\n",
    "Um erstmal einen Überblick davon zu erhalten wie die Observation Ressource aufgebaut ist, bzw. welche Attribute diese enthält kann die Funktion **elementProperties()** aufgerufen werden, diese gibt dann alle Attribute der fhirclient Klasse **Observation()** mit ihren jeweiligen Eigenschaften zurück."
   ],
   "cell_type": "markdown",
   "metadata": {}
  },
  {
   "cell_type": "code",
   "execution_count": null,
   "metadata": {},
   "outputs": [],
   "source": [
    "for property in my_observation.elementProperties():\n",
    "    print(property)"
   ]
  },
  {
   "source": [
    "## Hinzufügen von Metadaten über die Ressource\n",
    "Zu den Metadaten gehört u.A. das sogenannte FHIR Profil. In diesem Fall nutzen wir das Herzfrequenz Profil aus der FHIR Spezifikation."
   ],
   "cell_type": "markdown",
   "metadata": {}
  },
  {
   "cell_type": "code",
   "execution_count": null,
   "metadata": {},
   "outputs": [],
   "source": [
    "IFrame('https://hl7.org/fhir/heartrate.html#10.1.25.2', width=1200, height=630)"
   ]
  },
  {
   "source": [
    "Jede FHIR Ressource hat Metadaten"
   ],
   "cell_type": "markdown",
   "metadata": {}
  },
  {
   "cell_type": "code",
   "execution_count": null,
   "metadata": {},
   "outputs": [],
   "source": [
    "IFrame('https://www.hl7.org/fhir/resource.html#resource', width=1200, height=330)"
   ]
  },
  {
   "cell_type": "code",
   "execution_count": null,
   "metadata": {},
   "outputs": [],
   "source": [
    "from fhirclient.models import meta"
   ]
  },
  {
   "cell_type": "code",
   "execution_count": null,
   "metadata": {},
   "outputs": [],
   "source": [
    "obs_meta = meta.Meta()\n",
    "obs_meta.profile = ['http://hl7.org/fhir/StructureDefinition/heartrate']\n",
    "my_observation.meta = obs_meta"
   ]
  },
  {
   "source": [
    "## Festlegen des Status dieser Observation"
   ],
   "cell_type": "markdown",
   "metadata": {}
  },
  {
   "cell_type": "code",
   "execution_count": null,
   "metadata": {},
   "outputs": [],
   "source": [
    "status = 'final'\n",
    "my_observation.status = status"
   ]
  },
  {
   "source": [
    "## Festlegen einer Kategorie"
   ],
   "cell_type": "markdown",
   "metadata": {}
  },
  {
   "cell_type": "code",
   "execution_count": null,
   "metadata": {},
   "outputs": [],
   "source": [
    "IFrame('https://hl7.org/fhir/datatypes.html#codeableconcept', width=1200, height=330)"
   ]
  },
  {
   "cell_type": "code",
   "execution_count": null,
   "metadata": {},
   "outputs": [],
   "source": [
    "from fhirclient.models import (\n",
    "    codeableconcept,\n",
    "    coding\n",
    ")"
   ]
  },
  {
   "cell_type": "code",
   "execution_count": null,
   "metadata": {},
   "outputs": [],
   "source": [
    "IFrame('http://terminology.hl7.org/CodeSystem/observation-category', width=1200, height=330)"
   ]
  },
  {
   "cell_type": "code",
   "execution_count": null,
   "metadata": {},
   "outputs": [],
   "source": [
    "category = codeableconcept.CodeableConcept()\n",
    "category_coding = coding.Coding()\n",
    "category_coding.system = 'http://terminology.hl7.org/CodeSystem/observation-category'\n",
    "category_coding.code = 'vital-signs'\n",
    "category.coding = [category_coding]\n",
    "my_observation.category = [category]"
   ]
  },
  {
   "cell_type": "code",
   "execution_count": null,
   "metadata": {},
   "outputs": [],
   "source": [
    "print(json.dumps(category.as_json(), indent=4))"
   ]
  },
  {
   "source": [
    "## Vergeben eines Codes aus einer Terminologie, der die Bedeutung 'Herzfrequenz' repräsentiert"
   ],
   "cell_type": "markdown",
   "metadata": {}
  },
  {
   "cell_type": "code",
   "execution_count": null,
   "metadata": {},
   "outputs": [],
   "source": [
    "code = codeableconcept.CodeableConcept()\n",
    "code_coding = coding.Coding()\n",
    "code_coding.system = 'http://loinc.org'\n",
    "code_coding.code = '8867-4'\n",
    "code_coding.display = 'Heart rate'\n",
    "code.coding = [code_coding]\n",
    "my_observation.code = code"
   ]
  },
  {
   "cell_type": "code",
   "execution_count": null,
   "metadata": {},
   "outputs": [],
   "source": [
    "print(json.dumps(code.as_json(), indent=4))"
   ]
  },
  {
   "source": [
    "## Festlegen einer Referenz auf die zuvor erstellte Patienten-Ressource"
   ],
   "cell_type": "markdown",
   "metadata": {}
  },
  {
   "cell_type": "code",
   "execution_count": null,
   "metadata": {},
   "outputs": [],
   "source": [
    "from fhirclient.models import fhirreference\n",
    "import requests"
   ]
  },
  {
   "source": [
    "### GET zuvor erstellte Patienten-Ressource"
   ],
   "cell_type": "markdown",
   "metadata": {}
  },
  {
   "cell_type": "code",
   "execution_count": null,
   "metadata": {},
   "outputs": [],
   "source": [
    "fhir_test_server = 'https://server.fire.ly'\n",
    "\n",
    "headers = {\n",
    "'Accept':'application/fhir+json; fhirVersion=4.0',\n",
    "'Content-Type':'application/fhir+json; fhirVersion=4.0'\n",
    "}\n",
    "\n",
    "response = requests.get(url=f'{fhir_test_server}/Patient?family=Bach', headers=headers)"
   ]
  },
  {
   "cell_type": "code",
   "execution_count": null,
   "metadata": {},
   "outputs": [],
   "source": [
    "IFrame(f'http://http.cat/{response.status_code}', width=750, height=600)"
   ]
  },
  {
   "source": [
    "### ID des zuvor erstellten Patientens holen"
   ],
   "cell_type": "markdown",
   "metadata": {}
  },
  {
   "cell_type": "code",
   "execution_count": null,
   "metadata": {},
   "outputs": [],
   "source": [
    "# Response Text als Python Dictionary holen\n",
    "response_dict = json.loads(response.text)\n",
    "response_dict"
   ]
  },
  {
   "cell_type": "code",
   "execution_count": null,
   "metadata": {},
   "outputs": [],
   "source": [
    "response_dict['entry'][0]['resource']['id']"
   ]
  },
  {
   "cell_type": "code",
   "execution_count": null,
   "metadata": {},
   "outputs": [],
   "source": [
    "subject = fhirreference.FHIRReference()\n",
    "pat_id = response_dict['entry'][0]['resource']['id']\n",
    "subject.reference = f'Patient/{pat_id}'\n",
    "my_observation.subject = subject"
   ]
  },
  {
   "cell_type": "code",
   "execution_count": null,
   "metadata": {},
   "outputs": [],
   "source": [
    "print(json.dumps(subject.as_json(), indent=4))"
   ]
  },
  {
   "source": [
    "## Angeben des Zeitpunktes, wann die Observation gemacht wurde"
   ],
   "cell_type": "markdown",
   "metadata": {}
  },
  {
   "cell_type": "code",
   "execution_count": null,
   "metadata": {},
   "outputs": [],
   "source": [
    "from fhirclient.models import fhirdate"
   ]
  },
  {
   "cell_type": "code",
   "execution_count": null,
   "metadata": {},
   "outputs": [],
   "source": [
    "date = fhirdate.FHIRDate('2020-11-24')\n",
    "my_observation.effectiveDateTime = date"
   ]
  },
  {
   "cell_type": "code",
   "execution_count": null,
   "metadata": {},
   "outputs": [],
   "source": [
    "print(json.dumps(date.as_json(), indent=4))"
   ]
  },
  {
   "source": [
    "## Angabe des gemessenen Wertes"
   ],
   "cell_type": "markdown",
   "metadata": {}
  },
  {
   "cell_type": "code",
   "execution_count": null,
   "metadata": {},
   "outputs": [],
   "source": [
    "from fhirclient.models import quantity"
   ]
  },
  {
   "cell_type": "code",
   "execution_count": null,
   "metadata": {},
   "outputs": [],
   "source": [
    "measured_quantity = quantity.Quantity()\n",
    "measured_quantity.value = 60\n",
    "measured_quantity.unit = 'beats per minute'\n",
    "measured_quantity.code = '/min'\n",
    "measured_quantity.system = 'http://unitsofmeasure.org'\n",
    "my_observation.valueQuantity = measured_quantity"
   ]
  },
  {
   "cell_type": "code",
   "execution_count": null,
   "metadata": {},
   "outputs": [],
   "source": [
    "print(json.dumps(measured_quantity.as_json(), indent=4))"
   ]
  },
  {
   "source": [
    "## Die Observation-Ressource validieren und an den FHIR Testserver senden"
   ],
   "cell_type": "markdown",
   "metadata": {}
  },
  {
   "cell_type": "code",
   "execution_count": null,
   "metadata": {},
   "outputs": [],
   "source": [
    "fhir_test_server = 'https://server.fire.ly'\n",
    "\n",
    "headers = {\n",
    "'Accept':'application/fhir+json; fhirVersion=4.0',\n",
    "'Content-Type':'application/fhir+json; fhirVersion=4.0'\n",
    "}"
   ]
  },
  {
   "cell_type": "code",
   "execution_count": null,
   "metadata": {},
   "outputs": [],
   "source": [
    "response = requests.post(f'{fhir_test_server}/Observation/$validate', headers = headers, data = json.dumps(my_observation.as_json()))\n",
    "data = response.json()"
   ]
  },
  {
   "cell_type": "code",
   "execution_count": null,
   "metadata": {},
   "outputs": [],
   "source": [
    "IFrame(f'http://http.cat/{response.status_code}', width=750, height=600)"
   ]
  },
  {
   "cell_type": "code",
   "execution_count": null,
   "metadata": {},
   "outputs": [],
   "source": [
    "print(json.dumps(data, indent=4))"
   ]
  },
  {
   "cell_type": "code",
   "execution_count": null,
   "metadata": {},
   "outputs": [],
   "source": [
    "response = requests.post(f'{fhir_test_server}/Observation', headers = headers, data = json.dumps(my_observation.as_json()))\n",
    "data = response.json()"
   ]
  },
  {
   "cell_type": "code",
   "execution_count": null,
   "metadata": {},
   "outputs": [],
   "source": [
    "IFrame(f'http://http.cat/{response.status_code}', width=750, height=600)"
   ]
  },
  {
   "cell_type": "code",
   "execution_count": null,
   "metadata": {},
   "outputs": [],
   "source": [
    "print(json.dumps(data, indent=4))"
   ]
  },
  {
   "cell_type": "code",
   "execution_count": null,
   "metadata": {},
   "outputs": [],
   "source": []
  }
 ]
}