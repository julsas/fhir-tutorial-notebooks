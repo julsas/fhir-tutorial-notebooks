{
 "cells": [
  {
   "cell_type": "markdown",
   "metadata": {},
   "source": [
    "# Erstellen einer FHIR Observation Ressource mit dem Python fhirclient zur Angabe der Herzfrequenz\n",
    "Um den Python fhirclient zu installieren kann man entweder die aktuellste Version aus dem [GitHub Repository](https://github.com/smart-on-fhir/client-py) nehmen oder die zuletzt auf [PyPi](https://pypi.org/project/fhirclient/) veröffentlichte Version. Da diese jedoch noch STU-3 ist, nutzen wir für die folgenden Beispiele die GitHub Version (R4)."
   ]
  },
  {
   "cell_type": "code",
   "execution_count": null,
   "metadata": {},
   "outputs": [],
   "source": [
    "!pip install git+https://github.com/smart-on-fhir/client-py.git"
   ]
  },
  {
   "cell_type": "code",
   "execution_count": 1,
   "metadata": {},
   "outputs": [],
   "source": [
    "from IPython.display import IFrame\n",
    "import json\n",
    "from fhirclient.models import (\n",
    "    patient,\n",
    "    observation\n",
    ")"
   ]
  },
  {
   "cell_type": "code",
   "execution_count": 2,
   "metadata": {},
   "outputs": [],
   "source": [
    "# Instanziieren einer Observation\n",
    "my_observation = observation.Observation()"
   ]
  },
  {
   "cell_type": "markdown",
   "metadata": {},
   "source": [
    "## Mit der Observation Ressource vertraut machen\n",
    "Um erstmal einen Überblick davon zu erhalten wie die Observation Ressource aufgebaut ist, bzw. welche Attribute diese enthält kann die Funktion **elementProperties()** aufgerufen werden, diese gibt dann alle Attribute der fhirclient Klasse **Observation()** mit ihren jeweiligen Eigenschaften zurück."
   ]
  },
  {
   "cell_type": "code",
   "execution_count": 3,
   "metadata": {},
   "outputs": [
    {
     "name": "stdout",
     "output_type": "stream",
     "text": [
      "('id', 'id', <class 'str'>, False, None, False)\n",
      "('implicitRules', 'implicitRules', <class 'str'>, False, None, False)\n",
      "('language', 'language', <class 'str'>, False, None, False)\n",
      "('meta', 'meta', <class 'fhirclient.models.meta.Meta'>, False, None, False)\n",
      "('contained', 'contained', <class 'fhirclient.models.resource.Resource'>, True, None, False)\n",
      "('extension', 'extension', <class 'fhirclient.models.extension.Extension'>, True, None, False)\n",
      "('modifierExtension', 'modifierExtension', <class 'fhirclient.models.extension.Extension'>, True, None, False)\n",
      "('text', 'text', <class 'fhirclient.models.narrative.Narrative'>, False, None, False)\n",
      "('basedOn', 'basedOn', <class 'fhirclient.models.fhirreference.FHIRReference'>, True, None, False)\n",
      "('bodySite', 'bodySite', <class 'fhirclient.models.codeableconcept.CodeableConcept'>, False, None, False)\n",
      "('category', 'category', <class 'fhirclient.models.codeableconcept.CodeableConcept'>, True, None, False)\n",
      "('code', 'code', <class 'fhirclient.models.codeableconcept.CodeableConcept'>, False, None, True)\n",
      "('component', 'component', <class 'fhirclient.models.observation.ObservationComponent'>, True, None, False)\n",
      "('dataAbsentReason', 'dataAbsentReason', <class 'fhirclient.models.codeableconcept.CodeableConcept'>, False, None, False)\n",
      "('derivedFrom', 'derivedFrom', <class 'fhirclient.models.fhirreference.FHIRReference'>, True, None, False)\n",
      "('device', 'device', <class 'fhirclient.models.fhirreference.FHIRReference'>, False, None, False)\n",
      "('effectiveDateTime', 'effectiveDateTime', <class 'fhirclient.models.fhirdate.FHIRDate'>, False, 'effective', False)\n",
      "('effectiveInstant', 'effectiveInstant', <class 'fhirclient.models.fhirdate.FHIRDate'>, False, 'effective', False)\n",
      "('effectivePeriod', 'effectivePeriod', <class 'fhirclient.models.period.Period'>, False, 'effective', False)\n",
      "('effectiveTiming', 'effectiveTiming', <class 'fhirclient.models.timing.Timing'>, False, 'effective', False)\n",
      "('encounter', 'encounter', <class 'fhirclient.models.fhirreference.FHIRReference'>, False, None, False)\n",
      "('focus', 'focus', <class 'fhirclient.models.fhirreference.FHIRReference'>, True, None, False)\n",
      "('hasMember', 'hasMember', <class 'fhirclient.models.fhirreference.FHIRReference'>, True, None, False)\n",
      "('identifier', 'identifier', <class 'fhirclient.models.identifier.Identifier'>, True, None, False)\n",
      "('interpretation', 'interpretation', <class 'fhirclient.models.codeableconcept.CodeableConcept'>, True, None, False)\n",
      "('issued', 'issued', <class 'fhirclient.models.fhirdate.FHIRDate'>, False, None, False)\n",
      "('method', 'method', <class 'fhirclient.models.codeableconcept.CodeableConcept'>, False, None, False)\n",
      "('note', 'note', <class 'fhirclient.models.annotation.Annotation'>, True, None, False)\n",
      "('partOf', 'partOf', <class 'fhirclient.models.fhirreference.FHIRReference'>, True, None, False)\n",
      "('performer', 'performer', <class 'fhirclient.models.fhirreference.FHIRReference'>, True, None, False)\n",
      "('referenceRange', 'referenceRange', <class 'fhirclient.models.observation.ObservationReferenceRange'>, True, None, False)\n",
      "('specimen', 'specimen', <class 'fhirclient.models.fhirreference.FHIRReference'>, False, None, False)\n",
      "('status', 'status', <class 'str'>, False, None, True)\n",
      "('subject', 'subject', <class 'fhirclient.models.fhirreference.FHIRReference'>, False, None, False)\n",
      "('valueBoolean', 'valueBoolean', <class 'bool'>, False, 'value', False)\n",
      "('valueCodeableConcept', 'valueCodeableConcept', <class 'fhirclient.models.codeableconcept.CodeableConcept'>, False, 'value', False)\n",
      "('valueDateTime', 'valueDateTime', <class 'fhirclient.models.fhirdate.FHIRDate'>, False, 'value', False)\n",
      "('valueInteger', 'valueInteger', <class 'int'>, False, 'value', False)\n",
      "('valuePeriod', 'valuePeriod', <class 'fhirclient.models.period.Period'>, False, 'value', False)\n",
      "('valueQuantity', 'valueQuantity', <class 'fhirclient.models.quantity.Quantity'>, False, 'value', False)\n",
      "('valueRange', 'valueRange', <class 'fhirclient.models.range.Range'>, False, 'value', False)\n",
      "('valueRatio', 'valueRatio', <class 'fhirclient.models.ratio.Ratio'>, False, 'value', False)\n",
      "('valueSampledData', 'valueSampledData', <class 'fhirclient.models.sampleddata.SampledData'>, False, 'value', False)\n",
      "('valueString', 'valueString', <class 'str'>, False, 'value', False)\n",
      "('valueTime', 'valueTime', <class 'fhirclient.models.fhirdate.FHIRDate'>, False, 'value', False)\n"
     ]
    }
   ],
   "source": [
    "for property in my_observation.elementProperties():\n",
    "    print(property)"
   ]
  },
  {
   "cell_type": "markdown",
   "metadata": {},
   "source": [
    "## Hinzufügen von Metadaten über die Ressource\n",
    "Zu den Metadaten gehört u.A. das sogenannte FHIR Profil. In diesem Fall nutzen wir das Herzfrequenz Profil aus der FHIR Spezifikation."
   ]
  },
  {
   "cell_type": "code",
   "execution_count": 4,
   "metadata": {},
   "outputs": [
    {
     "data": {
      "text/html": [
       "\n",
       "        <iframe\n",
       "            width=\"1200\"\n",
       "            height=\"630\"\n",
       "            src=\"https://hl7.org/fhir/heartrate.html#10.1.25.2\"\n",
       "            frameborder=\"0\"\n",
       "            allowfullscreen\n",
       "            \n",
       "        ></iframe>\n",
       "        "
      ],
      "text/plain": [
       "<IPython.lib.display.IFrame at 0x10f97bb50>"
      ]
     },
     "execution_count": 4,
     "metadata": {},
     "output_type": "execute_result"
    }
   ],
   "source": [
    "IFrame('https://hl7.org/fhir/heartrate.html#10.1.25.2', width=1200, height=630)"
   ]
  },
  {
   "cell_type": "markdown",
   "metadata": {},
   "source": [
    "Jede FHIR Ressource hat Metadaten"
   ]
  },
  {
   "cell_type": "code",
   "execution_count": 5,
   "metadata": {},
   "outputs": [
    {
     "data": {
      "text/html": [
       "\n",
       "        <iframe\n",
       "            width=\"1200\"\n",
       "            height=\"330\"\n",
       "            src=\"https://www.hl7.org/fhir/resource.html#resource\"\n",
       "            frameborder=\"0\"\n",
       "            allowfullscreen\n",
       "            \n",
       "        ></iframe>\n",
       "        "
      ],
      "text/plain": [
       "<IPython.lib.display.IFrame at 0x10f97b7c0>"
      ]
     },
     "execution_count": 5,
     "metadata": {},
     "output_type": "execute_result"
    }
   ],
   "source": [
    "IFrame('https://www.hl7.org/fhir/resource.html#resource', width=1200, height=330)"
   ]
  },
  {
   "cell_type": "code",
   "execution_count": 6,
   "metadata": {},
   "outputs": [],
   "source": [
    "from fhirclient.models import meta"
   ]
  },
  {
   "cell_type": "code",
   "execution_count": 7,
   "metadata": {},
   "outputs": [],
   "source": [
    "obs_meta = meta.Meta()\n",
    "obs_meta.profile = ['http://hl7.org/fhir/StructureDefinition/heartrate']\n",
    "my_observation.meta = obs_meta"
   ]
  },
  {
   "cell_type": "markdown",
   "metadata": {},
   "source": [
    "## Festlegen des Status dieser Observation"
   ]
  },
  {
   "cell_type": "code",
   "execution_count": 8,
   "metadata": {},
   "outputs": [],
   "source": [
    "status = 'final'\n",
    "my_observation.status = status"
   ]
  },
  {
   "cell_type": "markdown",
   "metadata": {},
   "source": [
    "## Festlegen einer Kategorie"
   ]
  },
  {
   "cell_type": "code",
   "execution_count": 9,
   "metadata": {},
   "outputs": [
    {
     "data": {
      "text/html": [
       "\n",
       "        <iframe\n",
       "            width=\"1200\"\n",
       "            height=\"330\"\n",
       "            src=\"https://hl7.org/fhir/datatypes.html#codeableconcept\"\n",
       "            frameborder=\"0\"\n",
       "            allowfullscreen\n",
       "            \n",
       "        ></iframe>\n",
       "        "
      ],
      "text/plain": [
       "<IPython.lib.display.IFrame at 0x10f811a80>"
      ]
     },
     "execution_count": 9,
     "metadata": {},
     "output_type": "execute_result"
    }
   ],
   "source": [
    "IFrame('https://hl7.org/fhir/datatypes.html#codeableconcept', width=1200, height=330)"
   ]
  },
  {
   "cell_type": "code",
   "execution_count": 10,
   "metadata": {},
   "outputs": [],
   "source": [
    "from fhirclient.models import (\n",
    "    codeableconcept,\n",
    "    coding\n",
    ")"
   ]
  },
  {
   "cell_type": "code",
   "execution_count": 11,
   "metadata": {},
   "outputs": [
    {
     "data": {
      "text/html": [
       "\n",
       "        <iframe\n",
       "            width=\"1200\"\n",
       "            height=\"330\"\n",
       "            src=\"http://terminology.hl7.org/CodeSystem/observation-category\"\n",
       "            frameborder=\"0\"\n",
       "            allowfullscreen\n",
       "            \n",
       "        ></iframe>\n",
       "        "
      ],
      "text/plain": [
       "<IPython.lib.display.IFrame at 0x10f810610>"
      ]
     },
     "execution_count": 11,
     "metadata": {},
     "output_type": "execute_result"
    }
   ],
   "source": [
    "IFrame('http://terminology.hl7.org/CodeSystem/observation-category', width=1200, height=330)"
   ]
  },
  {
   "cell_type": "code",
   "execution_count": 12,
   "metadata": {},
   "outputs": [],
   "source": [
    "category = codeableconcept.CodeableConcept()\n",
    "category_coding = coding.Coding()\n",
    "category_coding.system = 'http://terminology.hl7.org/CodeSystem/observation-category'\n",
    "category_coding.code = 'vital-signs'\n",
    "category.coding = [category_coding]\n",
    "my_observation.category = [category]"
   ]
  },
  {
   "cell_type": "code",
   "execution_count": 13,
   "metadata": {},
   "outputs": [
    {
     "name": "stdout",
     "output_type": "stream",
     "text": [
      "{\n",
      "    \"coding\": [\n",
      "        {\n",
      "            \"code\": \"vital-signs\",\n",
      "            \"system\": \"http://terminology.hl7.org/CodeSystem/observation-category\"\n",
      "        }\n",
      "    ]\n",
      "}\n"
     ]
    }
   ],
   "source": [
    "print(json.dumps(category.as_json(), indent=4))"
   ]
  },
  {
   "cell_type": "markdown",
   "metadata": {},
   "source": [
    "## Vergeben eines Codes aus einer Terminologie, der die Bedeutung 'Herzfrequenz' repräsentiert"
   ]
  },
  {
   "cell_type": "code",
   "execution_count": 14,
   "metadata": {},
   "outputs": [],
   "source": [
    "code = codeableconcept.CodeableConcept()\n",
    "code_coding = coding.Coding()\n",
    "code_coding.system = 'http://loinc.org'\n",
    "code_coding.code = '8867-4'\n",
    "code_coding.display = 'Heart rate'\n",
    "code.coding = [code_coding]\n",
    "my_observation.code = code"
   ]
  },
  {
   "cell_type": "code",
   "execution_count": 15,
   "metadata": {},
   "outputs": [
    {
     "name": "stdout",
     "output_type": "stream",
     "text": [
      "{\n",
      "    \"coding\": [\n",
      "        {\n",
      "            \"code\": \"8867-4\",\n",
      "            \"display\": \"Heart rate\",\n",
      "            \"system\": \"http://loinc.org\"\n",
      "        }\n",
      "    ]\n",
      "}\n"
     ]
    }
   ],
   "source": [
    "print(json.dumps(code.as_json(), indent=4))"
   ]
  },
  {
   "cell_type": "markdown",
   "metadata": {},
   "source": [
    "## Festlegen einer Referenz auf die zuvor erstellte Patienten-Ressource"
   ]
  },
  {
   "cell_type": "code",
   "execution_count": 16,
   "metadata": {},
   "outputs": [],
   "source": [
    "from fhirclient.models import fhirreference\n",
    "import requests"
   ]
  },
  {
   "cell_type": "markdown",
   "metadata": {},
   "source": [
    "### GET zuvor erstellte Patienten-Ressource"
   ]
  },
  {
   "cell_type": "code",
   "execution_count": 17,
   "metadata": {},
   "outputs": [],
   "source": [
    "# fhir_test_server = 'https://server.fire.ly'\n",
    "fhir_test_server = 'http://hapi.fhir.org/baseR4'\n",
    "\n",
    "headers = {\n",
    "'Accept':'application/fhir+json; fhirVersion=4.0',\n",
    "'Content-Type':'application/fhir+json; fhirVersion=4.0'\n",
    "}\n",
    "\n",
    "response = requests.get(url=f'{fhir_test_server}/Patient?family=Bach', headers=headers)"
   ]
  },
  {
   "cell_type": "code",
   "execution_count": 18,
   "metadata": {},
   "outputs": [
    {
     "data": {
      "text/html": [
       "\n",
       "        <iframe\n",
       "            width=\"750\"\n",
       "            height=\"600\"\n",
       "            src=\"http://http.cat/200\"\n",
       "            frameborder=\"0\"\n",
       "            allowfullscreen\n",
       "            \n",
       "        ></iframe>\n",
       "        "
      ],
      "text/plain": [
       "<IPython.lib.display.IFrame at 0x10fb1f610>"
      ]
     },
     "execution_count": 18,
     "metadata": {},
     "output_type": "execute_result"
    }
   ],
   "source": [
    "IFrame(f'http://http.cat/{response.status_code}', width=750, height=600)"
   ]
  },
  {
   "cell_type": "markdown",
   "metadata": {},
   "source": [
    "### ID des zuvor erstellten Patientens holen"
   ]
  },
  {
   "cell_type": "code",
   "execution_count": 19,
   "metadata": {},
   "outputs": [
    {
     "data": {
      "text/plain": [
       "{'resourceType': 'Bundle',\n",
       " 'id': 'a0e2808c-57be-4e07-84b6-753130978957',\n",
       " 'meta': {'lastUpdated': '2022-06-15T14:27:21.432+00:00'},\n",
       " 'type': 'searchset',\n",
       " 'total': 9,\n",
       " 'link': [{'relation': 'self',\n",
       "   'url': 'http://hapi.fhir.org/baseR4/Patient?family=Bach'}],\n",
       " 'entry': [{'fullUrl': 'http://hapi.fhir.org/baseR4/Patient/2711466',\n",
       "   'resource': {'resourceType': 'Patient',\n",
       "    'id': '2711466',\n",
       "    'meta': {'versionId': '2',\n",
       "     'lastUpdated': '2022-03-24T23:47:04.041+00:00',\n",
       "     'source': '#O2QPQ6QFxFx46R2b'},\n",
       "    'text': {'status': 'generated',\n",
       "     'div': '<div xmlns=\"http://www.w3.org/1999/xhtml\"><div class=\"hapiHeaderText\">Johann Sebastian <b>BACH </b></div><table class=\"hapiPropertyTable\"><tbody><tr><td>Date of birth</td><td><span>14 December 1964</span></td></tr></tbody></table></div>'},\n",
       "    'name': [{'use': 'official',\n",
       "      'family': 'Bach',\n",
       "      'given': ['Johann', 'Sebastian']}],\n",
       "    'birthDate': '1964-12-14'},\n",
       "   'search': {'mode': 'match'}},\n",
       "  {'fullUrl': 'http://hapi.fhir.org/baseR4/Patient/e800a79b-9604-495d-8542-24904dc46701',\n",
       "   'resource': {'resourceType': 'Patient',\n",
       "    'id': 'e800a79b-9604-495d-8542-24904dc46701',\n",
       "    'meta': {'versionId': '2',\n",
       "     'lastUpdated': '2022-03-24T23:47:32.139+00:00',\n",
       "     'source': '#2RPINZoQ0uPLC99c'},\n",
       "    'text': {'status': 'generated',\n",
       "     'div': '<div xmlns=\"http://www.w3.org/1999/xhtml\"><div class=\"hapiHeaderText\">Johann Sebastian <b>BACH </b></div><table class=\"hapiPropertyTable\"><tbody><tr><td>Date of birth</td><td><span>25 May 1967</span></td></tr></tbody></table></div>'},\n",
       "    'name': [{'use': 'official',\n",
       "      'text': 'Johann Sebastian Bach',\n",
       "      'family': 'Bach',\n",
       "      'given': ['Johann', 'Sebastian']}],\n",
       "    'birthDate': '1967-05-25'},\n",
       "   'search': {'mode': 'match'}},\n",
       "  {'fullUrl': 'http://hapi.fhir.org/baseR4/Patient/2711469',\n",
       "   'resource': {'resourceType': 'Patient',\n",
       "    'id': '2711469',\n",
       "    'meta': {'versionId': '2',\n",
       "     'lastUpdated': '2022-03-24T23:47:04.397+00:00',\n",
       "     'source': '#Lp2xV2iqkQVbR7BH'},\n",
       "    'text': {'status': 'generated',\n",
       "     'div': '<div xmlns=\"http://www.w3.org/1999/xhtml\"><div class=\"hapiHeaderText\">Johann Sebastian <b>BACH </b></div><table class=\"hapiPropertyTable\"><tbody><tr><td>Date of birth</td><td><span>25 May 1967</span></td></tr></tbody></table></div>'},\n",
       "    'name': [{'use': 'official',\n",
       "      'text': 'Johann Sebastian Bach',\n",
       "      'family': 'Bach',\n",
       "      'given': ['Johann', 'Sebastian']}],\n",
       "    'birthDate': '1967-05-25'},\n",
       "   'search': {'mode': 'match'}},\n",
       "  {'fullUrl': 'http://hapi.fhir.org/baseR4/Patient/04ecc512-ada1-467e-b97f-d1268395140f',\n",
       "   'resource': {'resourceType': 'Patient',\n",
       "    'id': '04ecc512-ada1-467e-b97f-d1268395140f',\n",
       "    'meta': {'versionId': '2',\n",
       "     'lastUpdated': '2022-03-24T23:46:37.695+00:00',\n",
       "     'source': '#kVeI9a9LExrN80wc'},\n",
       "    'text': {'status': 'generated',\n",
       "     'div': '<div xmlns=\"http://www.w3.org/1999/xhtml\"><div class=\"hapiHeaderText\">Johann Sebastian <b>BACH </b></div><table class=\"hapiPropertyTable\"><tbody><tr><td>Date of birth</td><td><span>14 December 1964</span></td></tr></tbody></table></div>'},\n",
       "    'name': [{'use': 'official',\n",
       "      'family': 'Bach',\n",
       "      'given': ['Johann', 'Sebastian']}],\n",
       "    'birthDate': '1964-12-14'},\n",
       "   'search': {'mode': 'match'}},\n",
       "  {'fullUrl': 'http://hapi.fhir.org/baseR4/Patient/2711467',\n",
       "   'resource': {'resourceType': 'Patient',\n",
       "    'id': '2711467',\n",
       "    'meta': {'versionId': '1',\n",
       "     'lastUpdated': '2021-12-14T14:31:02.150+00:00',\n",
       "     'source': '#P3irEezGWqI4NoFn'},\n",
       "    'text': {'status': 'generated',\n",
       "     'div': '<div xmlns=\"http://www.w3.org/1999/xhtml\"><div class=\"hapiHeaderText\">Johann Sebastian <b>BACH </b></div><table class=\"hapiPropertyTable\"><tbody><tr><td>Date of birth</td><td><span>25 May 1967</span></td></tr></tbody></table></div>'},\n",
       "    'name': [{'use': 'official',\n",
       "      'text': 'Johann Sebastian Bach',\n",
       "      'family': 'Bach',\n",
       "      'given': ['Johann', 'Sebastian']}],\n",
       "    'birthDate': '1967-05-25'},\n",
       "   'search': {'mode': 'match'}},\n",
       "  {'fullUrl': 'http://hapi.fhir.org/baseR4/Patient/1379498',\n",
       "   'resource': {'resourceType': 'Patient',\n",
       "    'id': '1379498',\n",
       "    'meta': {'versionId': '1',\n",
       "     'lastUpdated': '2020-07-09T11:39:40.743+00:00',\n",
       "     'source': '#g34L5EmvQ4wyTNY5'},\n",
       "    'text': {'status': 'generated',\n",
       "     'div': '<div xmlns=\"http://www.w3.org/1999/xhtml\">Yaqoob Bacha</div>'},\n",
       "    'identifier': [{'system': 'http://clinfhir.com/fhir/NamingSystem/identifier',\n",
       "      'value': 'Niazbinyaqoob@gmail.com'}],\n",
       "    'name': [{'use': 'official',\n",
       "      'text': 'Yaqoob Bacha',\n",
       "      'family': 'Bacha',\n",
       "      'given': ['Yaqoob']}],\n",
       "    'gender': 'male',\n",
       "    'birthDate': '2003-03-22'},\n",
       "   'search': {'mode': 'match'}},\n",
       "  {'fullUrl': 'http://hapi.fhir.org/baseR4/Patient/3259700',\n",
       "   'resource': {'resourceType': 'Patient',\n",
       "    'id': '3259700',\n",
       "    'meta': {'versionId': '1',\n",
       "     'lastUpdated': '2022-06-15T14:24:32.349+00:00',\n",
       "     'source': '#ICU9QBPVKxCrG88C'},\n",
       "    'text': {'status': 'generated',\n",
       "     'div': '<div xmlns=\"http://www.w3.org/1999/xhtml\"><div class=\"hapiHeaderText\">Johann Sebastian <b>BACH </b></div><table class=\"hapiPropertyTable\"><tbody><tr><td>Date of birth</td><td><span>25 May 1967</span></td></tr></tbody></table></div>'},\n",
       "    'name': [{'use': 'official',\n",
       "      'text': 'Johann Sebastian Bach',\n",
       "      'family': 'Bach',\n",
       "      'given': ['Johann', 'Sebastian']}],\n",
       "    'birthDate': '1967-05-25'},\n",
       "   'search': {'mode': 'match'}},\n",
       "  {'fullUrl': 'http://hapi.fhir.org/baseR4/Patient/1411305',\n",
       "   'resource': {'resourceType': 'Patient',\n",
       "    'id': '1411305',\n",
       "    'meta': {'versionId': '1',\n",
       "     'lastUpdated': '2020-07-19T19:55:01.826+00:00',\n",
       "     'source': '#de5zN9TQNlkQwaU8'},\n",
       "    'text': {'status': 'generated',\n",
       "     'div': '<div xmlns=\"http://www.w3.org/1999/xhtml\">shoaib bacha</div>'},\n",
       "    'identifier': [{'system': 'http://clinfhir.com/fhir/NamingSystem/identifier',\n",
       "      'value': 'shoaibbacha2@gmail.com'}],\n",
       "    'name': [{'use': 'official',\n",
       "      'text': 'shoaib bacha',\n",
       "      'family': 'bacha',\n",
       "      'given': ['shoaib']}],\n",
       "    'gender': 'male',\n",
       "    'birthDate': '1993-09-17'},\n",
       "   'search': {'mode': 'match'}},\n",
       "  {'fullUrl': 'http://hapi.fhir.org/baseR4/Patient/1411318',\n",
       "   'resource': {'resourceType': 'Patient',\n",
       "    'id': '1411318',\n",
       "    'meta': {'versionId': '1',\n",
       "     'lastUpdated': '2020-07-19T20:11:50.991+00:00',\n",
       "     'source': '#rXoPddKViAkb9tzK'},\n",
       "    'text': {'status': 'generated',\n",
       "     'div': '<div xmlns=\"http://www.w3.org/1999/xhtml\">Shoaib Bacha</div>'},\n",
       "    'identifier': [{'system': 'http://clinfhir.com/fhir/NamingSystem/identifier',\n",
       "      'value': 'shoaibbacha2@gmail.com'}],\n",
       "    'name': [{'use': 'official',\n",
       "      'text': 'Shoaib Bacha',\n",
       "      'family': 'Bacha',\n",
       "      'given': ['Shoaib']}],\n",
       "    'gender': 'male',\n",
       "    'birthDate': '1993-09-17'},\n",
       "   'search': {'mode': 'match'}}]}"
      ]
     },
     "execution_count": 19,
     "metadata": {},
     "output_type": "execute_result"
    }
   ],
   "source": [
    "# Response Text als Python Dictionary holen\n",
    "response_dict = json.loads(response.text)\n",
    "response_dict"
   ]
  },
  {
   "cell_type": "code",
   "execution_count": 20,
   "metadata": {},
   "outputs": [
    {
     "data": {
      "text/plain": [
       "'2711466'"
      ]
     },
     "execution_count": 20,
     "metadata": {},
     "output_type": "execute_result"
    }
   ],
   "source": [
    "response_dict['entry'][0]['resource']['id']"
   ]
  },
  {
   "cell_type": "code",
   "execution_count": 21,
   "metadata": {},
   "outputs": [],
   "source": [
    "subject = fhirreference.FHIRReference()\n",
    "pat_id = response_dict['entry'][0]['resource']['id']\n",
    "subject.reference = f'Patient/{pat_id}'\n",
    "my_observation.subject = subject"
   ]
  },
  {
   "cell_type": "code",
   "execution_count": 22,
   "metadata": {},
   "outputs": [
    {
     "name": "stdout",
     "output_type": "stream",
     "text": [
      "{\n",
      "    \"reference\": \"Patient/2711466\"\n",
      "}\n"
     ]
    }
   ],
   "source": [
    "print(json.dumps(subject.as_json(), indent=4))"
   ]
  },
  {
   "cell_type": "markdown",
   "metadata": {},
   "source": [
    "## Angeben des Zeitpunktes, wann die Observation gemacht wurde"
   ]
  },
  {
   "cell_type": "code",
   "execution_count": 23,
   "metadata": {},
   "outputs": [],
   "source": [
    "from fhirclient.models import fhirdate"
   ]
  },
  {
   "cell_type": "code",
   "execution_count": 24,
   "metadata": {},
   "outputs": [],
   "source": [
    "date = fhirdate.FHIRDate('2020-11-24')\n",
    "my_observation.effectiveDateTime = date"
   ]
  },
  {
   "cell_type": "code",
   "execution_count": 25,
   "metadata": {},
   "outputs": [
    {
     "name": "stdout",
     "output_type": "stream",
     "text": [
      "\"2020-11-24\"\n"
     ]
    }
   ],
   "source": [
    "print(json.dumps(date.as_json(), indent=4))"
   ]
  },
  {
   "cell_type": "markdown",
   "metadata": {},
   "source": [
    "## Angabe des gemessenen Wertes"
   ]
  },
  {
   "cell_type": "code",
   "execution_count": 26,
   "metadata": {},
   "outputs": [],
   "source": [
    "from fhirclient.models import quantity"
   ]
  },
  {
   "cell_type": "code",
   "execution_count": 27,
   "metadata": {},
   "outputs": [],
   "source": [
    "measured_quantity = quantity.Quantity()\n",
    "measured_quantity.value = 60\n",
    "measured_quantity.unit = 'beats per minute'\n",
    "measured_quantity.code = '/min'\n",
    "measured_quantity.system = 'http://unitsofmeasure.org'\n",
    "my_observation.valueQuantity = measured_quantity"
   ]
  },
  {
   "cell_type": "code",
   "execution_count": 28,
   "metadata": {},
   "outputs": [
    {
     "name": "stdout",
     "output_type": "stream",
     "text": [
      "{\n",
      "    \"code\": \"/min\",\n",
      "    \"system\": \"http://unitsofmeasure.org\",\n",
      "    \"unit\": \"beats per minute\",\n",
      "    \"value\": 60\n",
      "}\n"
     ]
    }
   ],
   "source": [
    "print(json.dumps(measured_quantity.as_json(), indent=4))"
   ]
  },
  {
   "cell_type": "code",
   "execution_count": 35,
   "metadata": {},
   "outputs": [
    {
     "name": "stdout",
     "output_type": "stream",
     "text": [
      "{\n",
      "    \"meta\": {\n",
      "        \"profile\": [\n",
      "            \"http://hl7.org/fhir/StructureDefinition/heartrate\"\n",
      "        ]\n",
      "    },\n",
      "    \"category\": [\n",
      "        {\n",
      "            \"coding\": [\n",
      "                {\n",
      "                    \"code\": \"vital-signs\",\n",
      "                    \"system\": \"http://terminology.hl7.org/CodeSystem/observation-category\"\n",
      "                }\n",
      "            ]\n",
      "        }\n",
      "    ],\n",
      "    \"code\": {\n",
      "        \"coding\": [\n",
      "            {\n",
      "                \"code\": \"8867-4\",\n",
      "                \"display\": \"Heart rate\",\n",
      "                \"system\": \"http://loinc.org\"\n",
      "            }\n",
      "        ]\n",
      "    },\n",
      "    \"effectiveDateTime\": \"2020-11-24\",\n",
      "    \"status\": \"final\",\n",
      "    \"subject\": {\n",
      "        \"reference\": \"Patient/2711466\"\n",
      "    },\n",
      "    \"valueQuantity\": {\n",
      "        \"code\": \"/min\",\n",
      "        \"system\": \"http://unitsofmeasure.org\",\n",
      "        \"unit\": \"beats per minute\",\n",
      "        \"value\": 60\n",
      "    },\n",
      "    \"resourceType\": \"Observation\"\n",
      "}\n"
     ]
    }
   ],
   "source": [
    "print(json.dumps(my_observation.as_json(), indent=4))"
   ]
  },
  {
   "cell_type": "markdown",
   "metadata": {},
   "source": [
    "## Die Observation-Ressource validieren und an den FHIR Testserver senden"
   ]
  },
  {
   "cell_type": "code",
   "execution_count": 38,
   "metadata": {},
   "outputs": [],
   "source": [
    "# fhir_test_server = 'https://server.fire.ly'\n",
    "fhir_test_server = 'http://hapi.fhir.org/baseR4'\n",
    "\n",
    "headers = {\n",
    "'Accept':'application/fhir+json; fhirVersion=4.0',\n",
    "'Content-Type':'application/fhir+json; fhirVersion=4.0'\n",
    "}"
   ]
  },
  {
   "cell_type": "code",
   "execution_count": 39,
   "metadata": {},
   "outputs": [],
   "source": [
    "response = requests.post(f'{fhir_test_server}/Observation/$validate', headers = headers, data = json.dumps(my_observation.as_json()))\n",
    "data = response.json()"
   ]
  },
  {
   "cell_type": "code",
   "execution_count": 40,
   "metadata": {},
   "outputs": [
    {
     "data": {
      "text/html": [
       "\n",
       "        <iframe\n",
       "            width=\"750\"\n",
       "            height=\"600\"\n",
       "            src=\"http://http.cat/412\"\n",
       "            frameborder=\"0\"\n",
       "            allowfullscreen\n",
       "            \n",
       "        ></iframe>\n",
       "        "
      ],
      "text/plain": [
       "<IPython.lib.display.IFrame at 0x10f811900>"
      ]
     },
     "execution_count": 40,
     "metadata": {},
     "output_type": "execute_result"
    }
   ],
   "source": [
    "IFrame(f'http://http.cat/{response.status_code}', width=750, height=600)"
   ]
  },
  {
   "cell_type": "code",
   "execution_count": 41,
   "metadata": {},
   "outputs": [
    {
     "name": "stdout",
     "output_type": "stream",
     "text": [
      "{\n",
      "    \"resourceType\": \"OperationOutcome\",\n",
      "    \"text\": {\n",
      "        \"status\": \"generated\",\n",
      "        \"div\": \"<div xmlns=\\\"http://www.w3.org/1999/xhtml\\\"><h1>Operation Outcome</h1><table border=\\\"0\\\"><tr><td style=\\\"font-weight: bold;\\\">WARNING</td><td>[Observation, Line 1, Col 2]</td><td><pre>dom-6: 'A resource should have narrative for robust management' Rule 'A resource should have narrative for robust management' Failed</pre></td>\\n\\t\\t\\t</tr>\\n\\t\\t\\t<tr>\\n\\t\\t\\t\\t<td style=\\\"font-weight: bold;\\\">WARNING</td>\\n\\t\\t\\t\\t<td>[Observation.code, Line 1, Col 223]</td>\\n\\t\\t\\t\\t<td><pre>None of the codings provided are in the value set 'Vital Signs' (http://hl7.org/fhir/ValueSet/observation-vitalsignresult), and a coding should come from this value set unless it has no suitable code (note that the validator cannot judge what is suitable) (codes = http://loinc.org#8867-4)</pre></td>\\n\\t\\t\\t</tr>\\n\\t\\t\\t<tr>\\n\\t\\t\\t\\t<td style=\\\"font-weight: bold;\\\">ERROR</td>\\n\\t\\t\\t\\t<td>[Observation.code.coding[0], Line 1, Col 224]</td>\\n\\t\\t\\t\\t<td><pre>Unable to validate code http://loinc.org#8867-4 - Code can not be found in CodeSystem for 'http://loinc.org#8867-4'</pre></td>\\n\\t\\t\\t</tr>\\n\\t\\t\\t<tr>\\n\\t\\t\\t\\t<td style=\\\"font-weight: bold;\\\">ERROR</td>\\n\\t\\t\\t\\t<td>[Observation.value.ofType(Quantity), Line 1, Col 432]</td>\\n\\t\\t\\t\\t<td><pre>Unable to validate code http://unitsofmeasure.org#/min - Code can not be found in CodeSystem for 'http://unitsofmeasure.org#/min'</pre></td>\\n\\t\\t\\t</tr>\\n\\t\\t\\t<tr>\\n\\t\\t\\t\\t<td style=\\\"font-weight: bold;\\\">WARNING</td>\\n\\t\\t\\t\\t<td>[Observation, Line 1, Col 2]</td>\\n\\t\\t\\t\\t<td><pre>All observations should have a performer</pre></td>\\n\\t\\t\\t</tr>\\n\\t\\t</table>\\n\\t</div>\"\n",
      "    },\n",
      "    \"issue\": [\n",
      "        {\n",
      "            \"severity\": \"warning\",\n",
      "            \"code\": \"processing\",\n",
      "            \"diagnostics\": \"dom-6: 'A resource should have narrative for robust management' Rule 'A resource should have narrative for robust management' Failed\",\n",
      "            \"location\": [\n",
      "                \"Observation\",\n",
      "                \"Line 1, Col 2\"\n",
      "            ]\n",
      "        },\n",
      "        {\n",
      "            \"severity\": \"warning\",\n",
      "            \"code\": \"processing\",\n",
      "            \"diagnostics\": \"None of the codings provided are in the value set 'Vital Signs' (http://hl7.org/fhir/ValueSet/observation-vitalsignresult), and a coding should come from this value set unless it has no suitable code (note that the validator cannot judge what is suitable) (codes = http://loinc.org#8867-4)\",\n",
      "            \"location\": [\n",
      "                \"Observation.code\",\n",
      "                \"Line 1, Col 223\"\n",
      "            ]\n",
      "        },\n",
      "        {\n",
      "            \"severity\": \"error\",\n",
      "            \"code\": \"processing\",\n",
      "            \"diagnostics\": \"Unable to validate code http://loinc.org#8867-4 - Code can not be found in CodeSystem for 'http://loinc.org#8867-4'\",\n",
      "            \"location\": [\n",
      "                \"Observation.code.coding[0]\",\n",
      "                \"Line 1, Col 224\"\n",
      "            ]\n",
      "        },\n",
      "        {\n",
      "            \"severity\": \"error\",\n",
      "            \"code\": \"processing\",\n",
      "            \"diagnostics\": \"Unable to validate code http://unitsofmeasure.org#/min - Code can not be found in CodeSystem for 'http://unitsofmeasure.org#/min'\",\n",
      "            \"location\": [\n",
      "                \"Observation.value.ofType(Quantity)\",\n",
      "                \"Line 1, Col 432\"\n",
      "            ]\n",
      "        },\n",
      "        {\n",
      "            \"severity\": \"warning\",\n",
      "            \"code\": \"processing\",\n",
      "            \"diagnostics\": \"All observations should have a performer\",\n",
      "            \"location\": [\n",
      "                \"Observation\",\n",
      "                \"Line 1, Col 2\"\n",
      "            ]\n",
      "        }\n",
      "    ]\n",
      "}\n"
     ]
    }
   ],
   "source": [
    "print(json.dumps(data, indent=4))"
   ]
  },
  {
   "cell_type": "code",
   "execution_count": 42,
   "metadata": {},
   "outputs": [],
   "source": [
    "response = requests.post(f'{fhir_test_server}/Observation', headers = headers, data = json.dumps(my_observation.as_json()))\n",
    "data = response.json()"
   ]
  },
  {
   "cell_type": "code",
   "execution_count": 43,
   "metadata": {},
   "outputs": [
    {
     "data": {
      "text/html": [
       "\n",
       "        <iframe\n",
       "            width=\"750\"\n",
       "            height=\"600\"\n",
       "            src=\"http://http.cat/201\"\n",
       "            frameborder=\"0\"\n",
       "            allowfullscreen\n",
       "            \n",
       "        ></iframe>\n",
       "        "
      ],
      "text/plain": [
       "<IPython.lib.display.IFrame at 0x10fb70e20>"
      ]
     },
     "execution_count": 43,
     "metadata": {},
     "output_type": "execute_result"
    }
   ],
   "source": [
    "IFrame(f'http://http.cat/{response.status_code}', width=750, height=600)"
   ]
  },
  {
   "cell_type": "code",
   "execution_count": 44,
   "metadata": {},
   "outputs": [
    {
     "name": "stdout",
     "output_type": "stream",
     "text": [
      "{\n",
      "    \"resourceType\": \"Observation\",\n",
      "    \"id\": \"3259849\",\n",
      "    \"meta\": {\n",
      "        \"versionId\": \"1\",\n",
      "        \"lastUpdated\": \"2022-06-15T14:33:56.102+00:00\",\n",
      "        \"profile\": [\n",
      "            \"http://hl7.org/fhir/StructureDefinition/heartrate\"\n",
      "        ]\n",
      "    },\n",
      "    \"status\": \"final\",\n",
      "    \"category\": [\n",
      "        {\n",
      "            \"coding\": [\n",
      "                {\n",
      "                    \"system\": \"http://terminology.hl7.org/CodeSystem/observation-category\",\n",
      "                    \"code\": \"vital-signs\"\n",
      "                }\n",
      "            ]\n",
      "        }\n",
      "    ],\n",
      "    \"code\": {\n",
      "        \"coding\": [\n",
      "            {\n",
      "                \"system\": \"http://loinc.org\",\n",
      "                \"code\": \"8867-4\",\n",
      "                \"display\": \"Heart rate\"\n",
      "            }\n",
      "        ]\n",
      "    },\n",
      "    \"subject\": {\n",
      "        \"reference\": \"Patient/2711466\"\n",
      "    },\n",
      "    \"effectiveDateTime\": \"2020-11-24\",\n",
      "    \"valueQuantity\": {\n",
      "        \"value\": 60,\n",
      "        \"unit\": \"beats per minute\",\n",
      "        \"system\": \"http://unitsofmeasure.org\",\n",
      "        \"code\": \"/min\"\n",
      "    }\n",
      "}\n"
     ]
    }
   ],
   "source": [
    "print(json.dumps(data, indent=4))"
   ]
  },
  {
   "cell_type": "code",
   "execution_count": null,
   "metadata": {},
   "outputs": [],
   "source": []
  }
 ],
 "metadata": {
  "kernelspec": {
   "display_name": "Python 3.10.2 ('.venv': venv)",
   "language": "python",
   "name": "python3"
  },
  "language_info": {
   "codemirror_mode": {
    "name": "ipython",
    "version": 3
   },
   "file_extension": ".py",
   "mimetype": "text/x-python",
   "name": "python",
   "nbconvert_exporter": "python",
   "pygments_lexer": "ipython3",
   "version": "3.10.2"
  },
  "orig_nbformat": 2,
  "vscode": {
   "interpreter": {
    "hash": "1751e3d4bac0dc06d7e5d26ee0fb564736263050c100b98d34ec64d32aa5740c"
   }
  }
 },
 "nbformat": 4,
 "nbformat_minor": 2
}
