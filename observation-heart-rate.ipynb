{
 "metadata": {
  "language_info": {
   "codemirror_mode": {
    "name": "ipython",
    "version": 3
   },
   "file_extension": ".py",
   "mimetype": "text/x-python",
   "name": "python",
   "nbconvert_exporter": "python",
   "pygments_lexer": "ipython3",
   "version": "3.6.9-final"
  },
  "orig_nbformat": 2,
  "kernelspec": {
   "name": "python3",
   "display_name": "Python 3"
  }
 },
 "nbformat": 4,
 "nbformat_minor": 2,
 "cells": [
  {
   "source": [
    "# Erstellen einer FHIR Observation Ressource mit dem Python fhirclient zur Angabe der Herzfrequenz\n",
    "Um den Python fhirclient zu installieren kann man entweder die aktuellste Version aus dem [GitHub Repository](https://github.com/smart-on-fhir/client-py) nehmen oder die zuletzt auf [PyPi](https://pypi.org/project/fhirclient/) veröffentlichte Version. Da diese jedoch noch STU-3 ist, nutzen wir für die folgenden Beispiele die GitHub Version (R4)."
   ],
   "cell_type": "markdown",
   "metadata": {}
  },
  {
   "cell_type": "code",
   "execution_count": null,
   "metadata": {},
   "outputs": [],
   "source": [
    "!pip install git+git://github.com/smart-on-fhir/client-py.git"
   ]
  },
  {
   "cell_type": "code",
   "execution_count": 1,
   "metadata": {},
   "outputs": [],
   "source": [
    "from IPython.display import IFrame\n",
    "import json\n",
    "from fhirclient.models import (\n",
    "    patient,\n",
    "    observation\n",
    ")"
   ]
  },
  {
   "cell_type": "code",
   "execution_count": 2,
   "metadata": {},
   "outputs": [],
   "source": [
    "# Instanziieren einer Observation\n",
    "my_observation = observation.Observation()"
   ]
  },
  {
   "source": [
    "## Mit der Observation Ressource vertraut machen\n",
    "Um erstmal einen Überblick davon zu erhalten wie die Observation Ressource aufgebaut ist, bzw. welche Attribute diese enthält kann die Funktion **elementProperties()** aufgerufen werden, diese gibt dann alle Attribute der fhirclient Klasse **Observation()** mit ihren jeweiligen Eigenschaften zurück."
   ],
   "cell_type": "markdown",
   "metadata": {}
  },
  {
   "cell_type": "code",
   "execution_count": 3,
   "metadata": {},
   "outputs": [
    {
     "output_type": "stream",
     "name": "stdout",
     "text": [
      "('id', 'id', <class 'str'>, False, None, False)\n('implicitRules', 'implicitRules', <class 'str'>, False, None, False)\n('language', 'language', <class 'str'>, False, None, False)\n('meta', 'meta', <class 'fhirclient.models.meta.Meta'>, False, None, False)\n('contained', 'contained', <class 'fhirclient.models.resource.Resource'>, True, None, False)\n('extension', 'extension', <class 'fhirclient.models.extension.Extension'>, True, None, False)\n('modifierExtension', 'modifierExtension', <class 'fhirclient.models.extension.Extension'>, True, None, False)\n('text', 'text', <class 'fhirclient.models.narrative.Narrative'>, False, None, False)\n('basedOn', 'basedOn', <class 'fhirclient.models.fhirreference.FHIRReference'>, True, None, False)\n('bodySite', 'bodySite', <class 'fhirclient.models.codeableconcept.CodeableConcept'>, False, None, False)\n('category', 'category', <class 'fhirclient.models.codeableconcept.CodeableConcept'>, True, None, False)\n('code', 'code', <class 'fhirclient.models.codeableconcept.CodeableConcept'>, False, None, True)\n('component', 'component', <class 'fhirclient.models.observation.ObservationComponent'>, True, None, False)\n('dataAbsentReason', 'dataAbsentReason', <class 'fhirclient.models.codeableconcept.CodeableConcept'>, False, None, False)\n('derivedFrom', 'derivedFrom', <class 'fhirclient.models.fhirreference.FHIRReference'>, True, None, False)\n('device', 'device', <class 'fhirclient.models.fhirreference.FHIRReference'>, False, None, False)\n('effectiveDateTime', 'effectiveDateTime', <class 'fhirclient.models.fhirdate.FHIRDate'>, False, 'effective', False)\n('effectiveInstant', 'effectiveInstant', <class 'fhirclient.models.fhirdate.FHIRDate'>, False, 'effective', False)\n('effectivePeriod', 'effectivePeriod', <class 'fhirclient.models.period.Period'>, False, 'effective', False)\n('effectiveTiming', 'effectiveTiming', <class 'fhirclient.models.timing.Timing'>, False, 'effective', False)\n('encounter', 'encounter', <class 'fhirclient.models.fhirreference.FHIRReference'>, False, None, False)\n('focus', 'focus', <class 'fhirclient.models.fhirreference.FHIRReference'>, True, None, False)\n('hasMember', 'hasMember', <class 'fhirclient.models.fhirreference.FHIRReference'>, True, None, False)\n('identifier', 'identifier', <class 'fhirclient.models.identifier.Identifier'>, True, None, False)\n('interpretation', 'interpretation', <class 'fhirclient.models.codeableconcept.CodeableConcept'>, True, None, False)\n('issued', 'issued', <class 'fhirclient.models.fhirdate.FHIRDate'>, False, None, False)\n('method', 'method', <class 'fhirclient.models.codeableconcept.CodeableConcept'>, False, None, False)\n('note', 'note', <class 'fhirclient.models.annotation.Annotation'>, True, None, False)\n('partOf', 'partOf', <class 'fhirclient.models.fhirreference.FHIRReference'>, True, None, False)\n('performer', 'performer', <class 'fhirclient.models.fhirreference.FHIRReference'>, True, None, False)\n('referenceRange', 'referenceRange', <class 'fhirclient.models.observation.ObservationReferenceRange'>, True, None, False)\n('specimen', 'specimen', <class 'fhirclient.models.fhirreference.FHIRReference'>, False, None, False)\n('status', 'status', <class 'str'>, False, None, True)\n('subject', 'subject', <class 'fhirclient.models.fhirreference.FHIRReference'>, False, None, False)\n('valueBoolean', 'valueBoolean', <class 'bool'>, False, 'value', False)\n('valueCodeableConcept', 'valueCodeableConcept', <class 'fhirclient.models.codeableconcept.CodeableConcept'>, False, 'value', False)\n('valueDateTime', 'valueDateTime', <class 'fhirclient.models.fhirdate.FHIRDate'>, False, 'value', False)\n('valueInteger', 'valueInteger', <class 'int'>, False, 'value', False)\n('valuePeriod', 'valuePeriod', <class 'fhirclient.models.period.Period'>, False, 'value', False)\n('valueQuantity', 'valueQuantity', <class 'fhirclient.models.quantity.Quantity'>, False, 'value', False)\n('valueRange', 'valueRange', <class 'fhirclient.models.range.Range'>, False, 'value', False)\n('valueRatio', 'valueRatio', <class 'fhirclient.models.ratio.Ratio'>, False, 'value', False)\n('valueSampledData', 'valueSampledData', <class 'fhirclient.models.sampleddata.SampledData'>, False, 'value', False)\n('valueString', 'valueString', <class 'str'>, False, 'value', False)\n('valueTime', 'valueTime', <class 'fhirclient.models.fhirdate.FHIRDate'>, False, 'value', False)\n"
     ]
    }
   ],
   "source": [
    "for property in my_observation.elementProperties():\n",
    "    print(property)"
   ]
  },
  {
   "source": [
    "## Hinzufügen von Metadaten über die Ressource\n",
    "Zu den Metadaten gehört u.A. das sogenannte FHIR Profil. In diesem Fall nutzen wir das Herzfrequenz Profil aus der FHIR Spezifikation."
   ],
   "cell_type": "markdown",
   "metadata": {}
  },
  {
   "cell_type": "code",
   "execution_count": 4,
   "metadata": {},
   "outputs": [
    {
     "output_type": "execute_result",
     "data": {
      "text/plain": [
       "<IPython.lib.display.IFrame at 0x7f0f8c03e2e8>"
      ],
      "text/html": "\n        <iframe\n            width=\"1200\"\n            height=\"630\"\n            src=\"https://hl7.org/fhir/heartrate.html#10.1.25.2\"\n            frameborder=\"0\"\n            allowfullscreen\n        ></iframe>\n        "
     },
     "metadata": {},
     "execution_count": 4
    }
   ],
   "source": [
    "IFrame('https://hl7.org/fhir/heartrate.html#10.1.25.2', width=1200, height=630)"
   ]
  },
  {
   "source": [
    "Jede FHIR Ressource hat Metadaten"
   ],
   "cell_type": "markdown",
   "metadata": {}
  },
  {
   "cell_type": "code",
   "execution_count": 5,
   "metadata": {},
   "outputs": [
    {
     "output_type": "execute_result",
     "data": {
      "text/plain": [
       "<IPython.lib.display.IFrame at 0x7f0f7efd98d0>"
      ],
      "text/html": "\n        <iframe\n            width=\"1200\"\n            height=\"330\"\n            src=\"https://www.hl7.org/fhir/resource.html#resource\"\n            frameborder=\"0\"\n            allowfullscreen\n        ></iframe>\n        "
     },
     "metadata": {},
     "execution_count": 5
    }
   ],
   "source": [
    "IFrame('https://www.hl7.org/fhir/resource.html#resource', width=1200, height=330)"
   ]
  },
  {
   "cell_type": "code",
   "execution_count": 6,
   "metadata": {},
   "outputs": [],
   "source": [
    "from fhirclient.models import meta"
   ]
  },
  {
   "cell_type": "code",
   "execution_count": 7,
   "metadata": {},
   "outputs": [],
   "source": [
    "obs_meta = meta.Meta()\n",
    "obs_meta.profile = ['http://hl7.org/fhir/StructureDefinition/heartrate']\n",
    "my_observation.meta = obs_meta"
   ]
  },
  {
   "source": [
    "## Festlegen des Status dieser Observation"
   ],
   "cell_type": "markdown",
   "metadata": {}
  },
  {
   "cell_type": "code",
   "execution_count": 8,
   "metadata": {},
   "outputs": [],
   "source": [
    "status = 'final'\n",
    "my_observation.status = status"
   ]
  },
  {
   "source": [
    "## Festlegen einer Kategorie"
   ],
   "cell_type": "markdown",
   "metadata": {}
  },
  {
   "cell_type": "code",
   "execution_count": 9,
   "metadata": {},
   "outputs": [
    {
     "output_type": "execute_result",
     "data": {
      "text/plain": [
       "<IPython.lib.display.IFrame at 0x7f0f7ef90048>"
      ],
      "text/html": "\n        <iframe\n            width=\"1200\"\n            height=\"330\"\n            src=\"https://hl7.org/fhir/datatypes.html#codeableconcept\"\n            frameborder=\"0\"\n            allowfullscreen\n        ></iframe>\n        "
     },
     "metadata": {},
     "execution_count": 9
    }
   ],
   "source": [
    "IFrame('https://hl7.org/fhir/datatypes.html#codeableconcept', width=1200, height=330)"
   ]
  },
  {
   "cell_type": "code",
   "execution_count": 10,
   "metadata": {},
   "outputs": [],
   "source": [
    "from fhirclient.models import (\n",
    "    codeableconcept,\n",
    "    coding\n",
    ")"
   ]
  },
  {
   "cell_type": "code",
   "execution_count": 11,
   "metadata": {},
   "outputs": [
    {
     "output_type": "execute_result",
     "data": {
      "text/plain": [
       "<IPython.lib.display.IFrame at 0x7f0f7ef900f0>"
      ],
      "text/html": "\n        <iframe\n            width=\"1200\"\n            height=\"330\"\n            src=\"http://terminology.hl7.org/CodeSystem/observation-category\"\n            frameborder=\"0\"\n            allowfullscreen\n        ></iframe>\n        "
     },
     "metadata": {},
     "execution_count": 11
    }
   ],
   "source": [
    "IFrame('http://terminology.hl7.org/CodeSystem/observation-category', width=1200, height=330)"
   ]
  },
  {
   "cell_type": "code",
   "execution_count": 12,
   "metadata": {},
   "outputs": [],
   "source": [
    "category = codeableconcept.CodeableConcept()\n",
    "category_coding = coding.Coding()\n",
    "category_coding.system = 'http://terminology.hl7.org/CodeSystem/observation-category'\n",
    "category_coding.code = 'vital-signs'\n",
    "category.coding = [category_coding]\n",
    "my_observation.category = [category]"
   ]
  },
  {
   "cell_type": "code",
   "execution_count": 13,
   "metadata": {},
   "outputs": [
    {
     "output_type": "stream",
     "name": "stdout",
     "text": [
      "{\n    \"coding\": [\n        {\n            \"code\": \"vital-signs\",\n            \"system\": \"http://terminology.hl7.org/CodeSystem/observation-category\"\n        }\n    ]\n}\n"
     ]
    }
   ],
   "source": [
    "print(json.dumps(category.as_json(), indent=4))"
   ]
  },
  {
   "source": [
    "## Vergeben eines Codes aus einer Terminologie, der die Bedeutung 'Herzfrequenz' repräsentiert"
   ],
   "cell_type": "markdown",
   "metadata": {}
  },
  {
   "cell_type": "code",
   "execution_count": 14,
   "metadata": {},
   "outputs": [],
   "source": [
    "code = codeableconcept.CodeableConcept()\n",
    "code_coding = coding.Coding()\n",
    "code_coding.system = 'http://loinc.org'\n",
    "code_coding.code = '8867-4'\n",
    "code_coding.display = 'Heart rate'\n",
    "code.coding = [code_coding]\n",
    "my_observation.code = code"
   ]
  },
  {
   "cell_type": "code",
   "execution_count": 15,
   "metadata": {},
   "outputs": [
    {
     "output_type": "stream",
     "name": "stdout",
     "text": [
      "{\n    \"coding\": [\n        {\n            \"code\": \"8867-4\",\n            \"display\": \"Heart rate\",\n            \"system\": \"http://loinc.org\"\n        }\n    ]\n}\n"
     ]
    }
   ],
   "source": [
    "print(json.dumps(code.as_json(), indent=4))"
   ]
  },
  {
   "source": [
    "## Festlegen einer Referenz auf die zuvor erstellte Patienten-Ressource"
   ],
   "cell_type": "markdown",
   "metadata": {}
  },
  {
   "cell_type": "code",
   "execution_count": 16,
   "metadata": {},
   "outputs": [],
   "source": [
    "from fhirclient.models import fhirreference\n",
    "import requests"
   ]
  },
  {
   "source": [
    "### GET zuvor erstellte Patienten-Ressource"
   ],
   "cell_type": "markdown",
   "metadata": {}
  },
  {
   "cell_type": "code",
   "execution_count": 17,
   "metadata": {},
   "outputs": [],
   "source": [
    "fhir_test_server = 'https://vonk.fire.ly'\n",
    "\n",
    "headers = {\n",
    "'Accept':'application/fhir+json; fhirVersion=4.0',\n",
    "'Content-Type':'application/fhir+json; fhirVersion=4.0'\n",
    "}\n",
    "\n",
    "response = requests.get(url=f'{fhir_test_server}/Patient?family=Bach', headers=headers)"
   ]
  },
  {
   "cell_type": "code",
   "execution_count": 18,
   "metadata": {},
   "outputs": [
    {
     "output_type": "execute_result",
     "data": {
      "text/plain": [
       "<IPython.lib.display.IFrame at 0x7f0f8c0793c8>"
      ],
      "text/html": "\n        <iframe\n            width=\"750\"\n            height=\"600\"\n            src=\"http://http.cat/200\"\n            frameborder=\"0\"\n            allowfullscreen\n        ></iframe>\n        "
     },
     "metadata": {},
     "execution_count": 18
    }
   ],
   "source": [
    "IFrame(f'http://http.cat/{response.status_code}', width=750, height=600)"
   ]
  },
  {
   "source": [
    "### ID des zuvor erstellten Patientens holen"
   ],
   "cell_type": "markdown",
   "metadata": {}
  },
  {
   "cell_type": "code",
   "execution_count": 19,
   "metadata": {},
   "outputs": [
    {
     "output_type": "execute_result",
     "data": {
      "text/plain": [
       "{'resourceType': 'Bundle',\n",
       " 'type': 'searchset',\n",
       " 'timestamp': '2020-12-02T17:51:41.088+00:00',\n",
       " 'meta': {'lastUpdated': '2020-12-02T17:51:41.088+00:00',\n",
       "  'versionId': '85ea9a9a-c555-4f13-8744-5ddb63431e0b'},\n",
       " 'entry': [{'fullUrl': 'https://vonk.fire.ly/Patient/0f05b9bc-0c1c-4587-b15b-faa567b8bb33',\n",
       "   'search': {'mode': 'match'},\n",
       "   'resource': {'resourceType': 'Patient',\n",
       "    'name': [{'family': 'Bach',\n",
       "      'given': ['Johann', 'Sebastian'],\n",
       "      'text': 'Johann Sebastian Bach',\n",
       "      'use': 'official'}],\n",
       "    'id': '0f05b9bc-0c1c-4587-b15b-faa567b8bb33',\n",
       "    'meta': {'versionId': 'bca38f57-141e-49a7-8b08-4568690f6084',\n",
       "     'lastUpdated': '2020-12-02T16:31:35.506+00:00'}}},\n",
       "  {'fullUrl': 'https://vonk.fire.ly/Patient/aaebee78-b744-4c28-964f-d23823d93a59',\n",
       "   'search': {'mode': 'match'},\n",
       "   'resource': {'resourceType': 'Patient',\n",
       "    'birthDate': '1967-05-25',\n",
       "    'name': [{'family': 'Bach',\n",
       "      'given': ['Johann', 'Sebastian'],\n",
       "      'text': 'Johann Sebastian Bach',\n",
       "      'use': 'official'}],\n",
       "    'id': 'aaebee78-b744-4c28-964f-d23823d93a59',\n",
       "    'meta': {'versionId': 'd8aca2c8-560e-455e-a862-72e185973559',\n",
       "     'lastUpdated': '2020-12-02T16:27:28.318+00:00'}}},\n",
       "  {'fullUrl': 'https://vonk.fire.ly/Patient/8bf8fb33-e04c-4191-8fc2-c5ab93e49b41',\n",
       "   'search': {'mode': 'match'},\n",
       "   'resource': {'resourceType': 'Patient',\n",
       "    'id': '8bf8fb33-e04c-4191-8fc2-c5ab93e49b41',\n",
       "    'birthDate': '1967-05-25',\n",
       "    'gender': 'other',\n",
       "    'name': [{'family': 'Bachgggg',\n",
       "      'given': ['Johanna', 'Sebastian'],\n",
       "      'text': 'Johanna Sebastian Bachgggg',\n",
       "      'use': 'official'}],\n",
       "    'meta': {'versionId': '7e40cd1b-d3de-4365-8e43-6c40e0e52cb2',\n",
       "     'lastUpdated': '2020-12-02T14:56:57.314+00:00'}}},\n",
       "  {'fullUrl': 'https://vonk.fire.ly/Patient/20393f02-9c58-4613-87bf-34438d0a3f69',\n",
       "   'search': {'mode': 'match'},\n",
       "   'resource': {'resourceType': 'Patient',\n",
       "    'id': '20393f02-9c58-4613-87bf-34438d0a3f69',\n",
       "    'birthDate': '1967-05-25',\n",
       "    'gender': 'other',\n",
       "    'name': [{'family': 'Bach',\n",
       "      'given': ['Johanna', 'Sebastian'],\n",
       "      'text': 'Johanna Sebastian Bach',\n",
       "      'use': 'official'}],\n",
       "    'meta': {'versionId': '1c9a8dbd-ae49-4800-b36e-3d5c0ceb8e65',\n",
       "     'lastUpdated': '2020-12-02T14:56:00.142+00:00'}}},\n",
       "  {'fullUrl': 'https://vonk.fire.ly/Patient/affcd36f-6c74-4f1f-8910-ecdcf73efa4e',\n",
       "   'search': {'mode': 'match'},\n",
       "   'resource': {'resourceType': 'Patient',\n",
       "    'birthDate': '1967-05-25',\n",
       "    'gender': 'other',\n",
       "    'name': [{'family': 'Bach',\n",
       "      'given': ['Johanna', 'Sebastian'],\n",
       "      'text': 'Johanna Sebastian Bach',\n",
       "      'use': 'official'}],\n",
       "    'id': 'affcd36f-6c74-4f1f-8910-ecdcf73efa4e',\n",
       "    'meta': {'versionId': '6fc9335c-3ab0-427e-b44b-8cc3989e5c27',\n",
       "     'lastUpdated': '2020-12-02T14:53:36.888+00:00'}}},\n",
       "  {'fullUrl': 'https://vonk.fire.ly/Patient/aeb5bfb5-696f-48ab-8787-361f8781b123',\n",
       "   'search': {'mode': 'match'},\n",
       "   'resource': {'resourceType': 'Patient',\n",
       "    'birthDate': '1967-05-25',\n",
       "    'name': [{'family': 'Bach',\n",
       "      'given': ['Johann', 'Sebastian'],\n",
       "      'text': 'Johann Sebastian Bach',\n",
       "      'use': 'official'}],\n",
       "    'id': 'aeb5bfb5-696f-48ab-8787-361f8781b123',\n",
       "    'meta': {'versionId': '4a81bdbd-ba74-4a10-980a-61292c3871e8',\n",
       "     'lastUpdated': '2020-12-02T14:52:25.286+00:00'}}},\n",
       "  {'fullUrl': 'https://vonk.fire.ly/Patient/bf891014-eb0b-4219-aa1e-bb99fe943082',\n",
       "   'search': {'mode': 'match'},\n",
       "   'resource': {'resourceType': 'Patient',\n",
       "    'birthDate': '1967-05-25',\n",
       "    'name': [{'family': 'Bach',\n",
       "      'given': ['Johann', 'Sebastian'],\n",
       "      'text': 'Johann Sebastian Bach',\n",
       "      'use': 'official'}],\n",
       "    'id': 'bf891014-eb0b-4219-aa1e-bb99fe943082',\n",
       "    'meta': {'versionId': '82e15d20-24f2-4d28-a828-3d5b1461bc09',\n",
       "     'lastUpdated': '2020-12-02T14:52:23.946+00:00'}}},\n",
       "  {'fullUrl': 'https://vonk.fire.ly/Patient/236ee2bf-5b47-4679-a2be-c262fb0ca261',\n",
       "   'search': {'mode': 'match'},\n",
       "   'resource': {'resourceType': 'Patient',\n",
       "    'birthDate': '1980-10-15',\n",
       "    'name': [{'family': 'Bach',\n",
       "      'given': ['Johann', 'Sebastian'],\n",
       "      'text': 'Johann Sebastian Bach',\n",
       "      'use': 'official'}],\n",
       "    'id': '236ee2bf-5b47-4679-a2be-c262fb0ca261',\n",
       "    'meta': {'versionId': '0da055a9-f167-4c5a-9bfb-c11f2b241f33',\n",
       "     'lastUpdated': '2020-12-02T14:51:57.874+00:00'}}},\n",
       "  {'fullUrl': 'https://vonk.fire.ly/Patient/ccccff30-e376-40cb-b577-27da0130dae5',\n",
       "   'search': {'mode': 'match'},\n",
       "   'resource': {'resourceType': 'Patient',\n",
       "    'birthDate': '1967-05-25',\n",
       "    'name': [{'family': 'Bach',\n",
       "      'given': ['Johann', 'Sebastian'],\n",
       "      'text': 'Johann Sebastian Bach',\n",
       "      'use': 'official'}],\n",
       "    'id': 'ccccff30-e376-40cb-b577-27da0130dae5',\n",
       "    'meta': {'versionId': '20d74d2b-f8af-4521-9d08-3b1c5c2737b4',\n",
       "     'lastUpdated': '2020-12-02T14:51:26.668+00:00'}}},\n",
       "  {'fullUrl': 'https://vonk.fire.ly/Patient/da2a6cb2-845e-4e8d-9b1d-9f49d0c3db26',\n",
       "   'search': {'mode': 'match'},\n",
       "   'resource': {'resourceType': 'Patient',\n",
       "    'birthDate': '1967-05-25',\n",
       "    'gender': 'other',\n",
       "    'name': [{'family': 'Bach',\n",
       "      'given': ['Johanna', 'Sebastian'],\n",
       "      'text': 'Johanna Sebastian Bach',\n",
       "      'use': 'official'}],\n",
       "    'id': 'da2a6cb2-845e-4e8d-9b1d-9f49d0c3db26',\n",
       "    'meta': {'versionId': '58718cdc-dce2-466c-8c66-48ff411f1f69',\n",
       "     'lastUpdated': '2020-12-02T14:48:25.769+00:00'}}}],\n",
       " 'total': 16,\n",
       " 'link': [{'relation': 'self',\n",
       "   'url': 'https://vonk.fire.ly/Patient?family=Bach&_sort=-_lastUpdated&_count=10&_skip=0'},\n",
       "  {'relation': 'next',\n",
       "   'url': 'https://vonk.fire.ly/Patient?family=Bach&_sort=-_lastUpdated&_count=10&_skip=10'},\n",
       "  {'relation': 'last',\n",
       "   'url': 'https://vonk.fire.ly/Patient?family=Bach&_sort=-_lastUpdated&_count=10&_skip=10'}],\n",
       " 'id': '13f78887-a347-4e9d-87d0-c4b5baca15b8'}"
      ]
     },
     "metadata": {},
     "execution_count": 19
    }
   ],
   "source": [
    "# Response Text als Python Dictionary holen\n",
    "response_dict = json.loads(response.text)\n",
    "response_dict"
   ]
  },
  {
   "cell_type": "code",
   "execution_count": 20,
   "metadata": {},
   "outputs": [
    {
     "output_type": "execute_result",
     "data": {
      "text/plain": [
       "'0f05b9bc-0c1c-4587-b15b-faa567b8bb33'"
      ]
     },
     "metadata": {},
     "execution_count": 20
    }
   ],
   "source": [
    "response_dict['entry'][0]['resource']['id']"
   ]
  },
  {
   "cell_type": "code",
   "execution_count": 21,
   "metadata": {},
   "outputs": [],
   "source": [
    "subject = fhirreference.FHIRReference()\n",
    "pat_id = response_dict['entry'][0]['resource']['id']\n",
    "subject.reference = f'Patient/{pat_id}'\n",
    "my_observation.subject = subject"
   ]
  },
  {
   "cell_type": "code",
   "execution_count": 22,
   "metadata": {},
   "outputs": [
    {
     "output_type": "stream",
     "name": "stdout",
     "text": [
      "{\n    \"reference\": \"Patient/0f05b9bc-0c1c-4587-b15b-faa567b8bb33\"\n}\n"
     ]
    }
   ],
   "source": [
    "print(json.dumps(subject.as_json(), indent=4))"
   ]
  },
  {
   "source": [
    "## Angeben des Zeitpunktes, wann die Observation gemacht wurde"
   ],
   "cell_type": "markdown",
   "metadata": {}
  },
  {
   "cell_type": "code",
   "execution_count": 23,
   "metadata": {},
   "outputs": [],
   "source": [
    "from fhirclient.models import fhirdate"
   ]
  },
  {
   "cell_type": "code",
   "execution_count": 24,
   "metadata": {},
   "outputs": [],
   "source": [
    "date = fhirdate.FHIRDate('2020-11-24')\n",
    "my_observation.effectiveDateTime = date"
   ]
  },
  {
   "cell_type": "code",
   "execution_count": 25,
   "metadata": {},
   "outputs": [
    {
     "output_type": "stream",
     "name": "stdout",
     "text": [
      "\"2020-11-24\"\n"
     ]
    }
   ],
   "source": [
    "print(json.dumps(date.as_json(), indent=4))"
   ]
  },
  {
   "source": [
    "## Angabe des gemessenen Wertes"
   ],
   "cell_type": "markdown",
   "metadata": {}
  },
  {
   "cell_type": "code",
   "execution_count": 26,
   "metadata": {},
   "outputs": [],
   "source": [
    "from fhirclient.models import quantity"
   ]
  },
  {
   "cell_type": "code",
   "execution_count": 27,
   "metadata": {},
   "outputs": [],
   "source": [
    "measured_quantity = quantity.Quantity()\n",
    "measured_quantity.value = 60\n",
    "measured_quantity.unit = 'beats per minute'\n",
    "measured_quantity.code = '/min'\n",
    "measured_quantity.system = 'http://unitsofmeasure.org'\n",
    "my_observation.valueQuantity = measured_quantity"
   ]
  },
  {
   "cell_type": "code",
   "execution_count": 28,
   "metadata": {},
   "outputs": [
    {
     "output_type": "stream",
     "name": "stdout",
     "text": [
      "{\n    \"code\": \"/min\",\n    \"system\": \"http://unitsofmeasure.org\",\n    \"unit\": \"beats per minute\",\n    \"value\": 60\n}\n"
     ]
    }
   ],
   "source": [
    "print(json.dumps(measured_quantity.as_json(), indent=4))"
   ]
  },
  {
   "source": [
    "## Die Observation-Ressource validieren und an den FHIR Testserver senden"
   ],
   "cell_type": "markdown",
   "metadata": {}
  },
  {
   "cell_type": "code",
   "execution_count": 29,
   "metadata": {},
   "outputs": [],
   "source": [
    "fhir_test_server = 'https://vonk.fire.ly'\n",
    "\n",
    "headers = {\n",
    "'Accept':'application/fhir+json; fhirVersion=4.0',\n",
    "'Content-Type':'application/fhir+json; fhirVersion=4.0'\n",
    "}"
   ]
  },
  {
   "cell_type": "code",
   "execution_count": 30,
   "metadata": {},
   "outputs": [],
   "source": [
    "response = requests.post(f'{fhir_test_server}/Observation/$validate', headers = headers, data = json.dumps(my_observation.as_json()))\n",
    "data = response.json()"
   ]
  },
  {
   "cell_type": "code",
   "execution_count": 31,
   "metadata": {},
   "outputs": [
    {
     "output_type": "execute_result",
     "data": {
      "text/plain": [
       "<IPython.lib.display.IFrame at 0x7f0f7ed415c0>"
      ],
      "text/html": "\n        <iframe\n            width=\"750\"\n            height=\"600\"\n            src=\"http://http.cat/200\"\n            frameborder=\"0\"\n            allowfullscreen\n        ></iframe>\n        "
     },
     "metadata": {},
     "execution_count": 31
    }
   ],
   "source": [
    "IFrame(f'http://http.cat/{response.status_code}', width=750, height=600)"
   ]
  },
  {
   "cell_type": "code",
   "execution_count": 32,
   "metadata": {},
   "outputs": [
    {
     "output_type": "stream",
     "name": "stdout",
     "text": [
      "{\n    \"resourceType\": \"OperationOutcome\",\n    \"id\": \"535f30da-abfc-4798-834d-dcb800a7cf7f\",\n    \"meta\": {\n        \"versionId\": \"ea6e4281-1971-417c-8e07-6d14329398da\",\n        \"lastUpdated\": \"2020-12-02T17:52:08.013+00:00\"\n    },\n    \"issue\": [\n        {\n            \"severity\": \"information\",\n            \"code\": \"informational\",\n            \"diagnostics\": \"The operation was successful\"\n        }\n    ]\n}\n"
     ]
    }
   ],
   "source": [
    "print(json.dumps(data, indent=4))"
   ]
  },
  {
   "cell_type": "code",
   "execution_count": 33,
   "metadata": {},
   "outputs": [],
   "source": [
    "response = requests.post(f'{fhir_test_server}/Observation', headers = headers, data = json.dumps(my_observation.as_json()))\n",
    "data = response.json()"
   ]
  },
  {
   "cell_type": "code",
   "execution_count": 34,
   "metadata": {},
   "outputs": [
    {
     "output_type": "execute_result",
     "data": {
      "text/plain": [
       "<IPython.lib.display.IFrame at 0x7f0f7e697b38>"
      ],
      "text/html": "\n        <iframe\n            width=\"750\"\n            height=\"600\"\n            src=\"http://http.cat/201\"\n            frameborder=\"0\"\n            allowfullscreen\n        ></iframe>\n        "
     },
     "metadata": {},
     "execution_count": 34
    }
   ],
   "source": [
    "IFrame(f'http://http.cat/{response.status_code}', width=750, height=600)"
   ]
  },
  {
   "cell_type": "code",
   "execution_count": 35,
   "metadata": {},
   "outputs": [
    {
     "output_type": "stream",
     "name": "stdout",
     "text": [
      "{\n    \"resourceType\": \"Observation\",\n    \"meta\": {\n        \"profile\": [\n            \"http://hl7.org/fhir/StructureDefinition/heartrate\"\n        ],\n        \"versionId\": \"8b476eed-1763-4e97-86b9-90fe18790eb5\",\n        \"lastUpdated\": \"2020-12-02T17:52:13.795+00:00\"\n    },\n    \"category\": [\n        {\n            \"coding\": [\n                {\n                    \"code\": \"vital-signs\",\n                    \"system\": \"http://terminology.hl7.org/CodeSystem/observation-category\"\n                }\n            ]\n        }\n    ],\n    \"code\": {\n        \"coding\": [\n            {\n                \"code\": \"8867-4\",\n                \"display\": \"Heart rate\",\n                \"system\": \"http://loinc.org\"\n            }\n        ]\n    },\n    \"effectiveDateTime\": \"2020-11-24\",\n    \"status\": \"final\",\n    \"subject\": {\n        \"reference\": \"https://vonk.fire.ly/Patient/0f05b9bc-0c1c-4587-b15b-faa567b8bb33\"\n    },\n    \"valueQuantity\": {\n        \"code\": \"/min\",\n        \"system\": \"http://unitsofmeasure.org\",\n        \"unit\": \"beats per minute\",\n        \"value\": 60\n    },\n    \"id\": \"89d1fe6b-f16c-48e7-8dbb-21c1da983957\"\n}\n"
     ]
    }
   ],
   "source": [
    "print(json.dumps(data, indent=4))"
   ]
  }
 ]
}